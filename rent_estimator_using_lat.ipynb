{
 "metadata": {
  "language_info": {
   "codemirror_mode": {
    "name": "ipython",
    "version": 3
   },
   "file_extension": ".py",
   "mimetype": "text/x-python",
   "name": "python",
   "nbconvert_exporter": "python",
   "pygments_lexer": "ipython3",
   "version": "3.9.2-final"
  },
  "orig_nbformat": 2,
  "kernelspec": {
   "name": "python392jvsc74a57bd007c0eba680f48f47a5ba37da399cd5e89b67f1875bf63e9a800e8853b1dcac6f",
   "display_name": "Python 3.9.2 64-bit"
  },
  "metadata": {
   "interpreter": {
    "hash": "07c0eba680f48f47a5ba37da399cd5e89b67f1875bf63e9a800e8853b1dcac6f"
   }
  }
 },
 "nbformat": 4,
 "nbformat_minor": 2,
 "cells": [
  {
   "cell_type": "code",
   "execution_count": 83,
   "metadata": {},
   "outputs": [],
   "source": [
    "import pandas as pd \n",
    "import numpy as np\n",
    "import matplotlib.pyplot as plt \n",
    "import csv  "
   ]
  },
  {
   "cell_type": "code",
   "execution_count": 84,
   "metadata": {},
   "outputs": [],
   "source": [
    "df=pd.read_csv('the_perfect_dataset_wit.csv')"
   ]
  },
  {
   "cell_type": "code",
   "execution_count": 85,
   "metadata": {},
   "outputs": [],
   "source": [
    "df=df.drop(['Unnamed: 0', 'Unnamed: 0.1'],axis=1)"
   ]
  },
  {
   "cell_type": "code",
   "execution_count": 93,
   "metadata": {},
   "outputs": [
    {
     "output_type": "execute_result",
     "data": {
      "text/plain": [
       "Index(['location', 'Area Sq.ft', 'bhk', 'bath_clean', 'dates', 'Title_modify',\n",
       "       'lat', 'longi', 'Rent'],\n",
       "      dtype='object')"
      ]
     },
     "metadata": {},
     "execution_count": 93
    }
   ],
   "source": [
    "df.columns"
   ]
  },
  {
   "cell_type": "code",
   "execution_count": 87,
   "metadata": {},
   "outputs": [],
   "source": [
    "df['lat']=df['lat'].apply(lambda x : float(x))\n",
    "df['longi']=df['longi'].apply(lambda x : float(x))"
   ]
  },
  {
   "cell_type": "code",
   "execution_count": 88,
   "metadata": {},
   "outputs": [],
   "source": [
    "#df=df.dropna(axis=0)"
   ]
  },
  {
   "cell_type": "code",
   "execution_count": 89,
   "metadata": {},
   "outputs": [
    {
     "output_type": "execute_result",
     "data": {
      "text/plain": [
       "         Area Sq.ft          bhk   bath_clean          lat        longi  \\\n",
       "count  7.745000e+03  7745.000000  7745.000000  7727.000000  7727.000000   \n",
       "mean   1.538226e+04     1.709361     1.679793    19.512585    67.544551   \n",
       "std    9.343942e+05     0.782588     0.708374     4.617561    32.984069   \n",
       "min    1.000000e+00     1.000000     1.000000     1.258790  -122.497843   \n",
       "25%    6.000000e+02     1.000000     1.000000    18.508934    73.772663   \n",
       "50%    8.280000e+02     2.000000     2.000000    18.578891    73.826375   \n",
       "75%    1.040000e+03     2.000000     2.000000    18.601092    73.925910   \n",
       "max    7.405200e+07    30.000000    20.000000    51.807484   103.824105   \n",
       "\n",
       "               Rent  \n",
       "count   7745.000000  \n",
       "mean   15153.416269  \n",
       "std     7534.581466  \n",
       "min        1.000000  \n",
       "25%    10000.000000  \n",
       "50%    14000.000000  \n",
       "75%    18500.000000  \n",
       "max    80000.000000  "
      ],
      "text/html": "<div>\n<style scoped>\n    .dataframe tbody tr th:only-of-type {\n        vertical-align: middle;\n    }\n\n    .dataframe tbody tr th {\n        vertical-align: top;\n    }\n\n    .dataframe thead th {\n        text-align: right;\n    }\n</style>\n<table border=\"1\" class=\"dataframe\">\n  <thead>\n    <tr style=\"text-align: right;\">\n      <th></th>\n      <th>Area Sq.ft</th>\n      <th>bhk</th>\n      <th>bath_clean</th>\n      <th>lat</th>\n      <th>longi</th>\n      <th>Rent</th>\n    </tr>\n  </thead>\n  <tbody>\n    <tr>\n      <th>count</th>\n      <td>7.745000e+03</td>\n      <td>7745.000000</td>\n      <td>7745.000000</td>\n      <td>7727.000000</td>\n      <td>7727.000000</td>\n      <td>7745.000000</td>\n    </tr>\n    <tr>\n      <th>mean</th>\n      <td>1.538226e+04</td>\n      <td>1.709361</td>\n      <td>1.679793</td>\n      <td>19.512585</td>\n      <td>67.544551</td>\n      <td>15153.416269</td>\n    </tr>\n    <tr>\n      <th>std</th>\n      <td>9.343942e+05</td>\n      <td>0.782588</td>\n      <td>0.708374</td>\n      <td>4.617561</td>\n      <td>32.984069</td>\n      <td>7534.581466</td>\n    </tr>\n    <tr>\n      <th>min</th>\n      <td>1.000000e+00</td>\n      <td>1.000000</td>\n      <td>1.000000</td>\n      <td>1.258790</td>\n      <td>-122.497843</td>\n      <td>1.000000</td>\n    </tr>\n    <tr>\n      <th>25%</th>\n      <td>6.000000e+02</td>\n      <td>1.000000</td>\n      <td>1.000000</td>\n      <td>18.508934</td>\n      <td>73.772663</td>\n      <td>10000.000000</td>\n    </tr>\n    <tr>\n      <th>50%</th>\n      <td>8.280000e+02</td>\n      <td>2.000000</td>\n      <td>2.000000</td>\n      <td>18.578891</td>\n      <td>73.826375</td>\n      <td>14000.000000</td>\n    </tr>\n    <tr>\n      <th>75%</th>\n      <td>1.040000e+03</td>\n      <td>2.000000</td>\n      <td>2.000000</td>\n      <td>18.601092</td>\n      <td>73.925910</td>\n      <td>18500.000000</td>\n    </tr>\n    <tr>\n      <th>max</th>\n      <td>7.405200e+07</td>\n      <td>30.000000</td>\n      <td>20.000000</td>\n      <td>51.807484</td>\n      <td>103.824105</td>\n      <td>80000.000000</td>\n    </tr>\n  </tbody>\n</table>\n</div>"
     },
     "metadata": {},
     "execution_count": 89
    }
   ],
   "source": [
    "df.describe()"
   ]
  },
  {
   "cell_type": "code",
   "execution_count": 90,
   "metadata": {},
   "outputs": [],
   "source": [
    "import math"
   ]
  },
  {
   "cell_type": "code",
   "execution_count": 91,
   "metadata": {},
   "outputs": [
    {
     "output_type": "execute_result",
     "data": {
      "text/plain": [
       "pandas.core.series.Series"
      ]
     },
     "metadata": {},
     "execution_count": 91
    }
   ],
   "source": [
    "type(df['lat'])"
   ]
  },
  {
   "cell_type": "code",
   "execution_count": null,
   "metadata": {},
   "outputs": [],
   "source": [
    "pd.df(X).dropna()"
   ]
  },
  {
   "cell_type": "code",
   "execution_count": 95,
   "metadata": {},
   "outputs": [],
   "source": [
    "indexNames = df[(df['lat']) > 19 ].index\n"
   ]
  },
  {
   "cell_type": "code",
   "execution_count": 124,
   "metadata": {},
   "outputs": [],
   "source": [
    "nanvalues = np.where(np.isnan(df['lat']))"
   ]
  },
  {
   "cell_type": "code",
   "execution_count": 130,
   "metadata": {},
   "outputs": [],
   "source": [
    "df=df.dropna(axis=0)"
   ]
  },
  {
   "cell_type": "code",
   "execution_count": 131,
   "metadata": {},
   "outputs": [
    {
     "output_type": "execute_result",
     "data": {
      "text/plain": [
       "         Area Sq.ft          bhk   bath_clean          lat        longi  \\\n",
       "count  7.100000e+03  7100.000000  7100.000000  7100.000000  7100.000000   \n",
       "mean   6.271340e+03     1.711831     1.682817    18.461551    73.875988   \n",
       "std    4.244736e+05     0.779582     0.694261     0.942217     1.971755   \n",
       "min    1.000000e+00     1.000000     1.000000     1.258790     7.424616   \n",
       "25%    6.000000e+02     1.000000     1.000000    18.507351    73.780880   \n",
       "50%    8.300000e+02     2.000000     2.000000    18.567915    73.829361   \n",
       "75%    1.044000e+03     2.000000     2.000000    18.598676    73.925910   \n",
       "max    3.571920e+07    30.000000    20.000000    18.966500   103.824105   \n",
       "\n",
       "               Rent  \n",
       "count   7100.000000  \n",
       "mean   15222.008310  \n",
       "std     7566.117906  \n",
       "min        1.000000  \n",
       "25%    10000.000000  \n",
       "50%    14000.000000  \n",
       "75%    18500.000000  \n",
       "max    80000.000000  "
      ],
      "text/html": "<div>\n<style scoped>\n    .dataframe tbody tr th:only-of-type {\n        vertical-align: middle;\n    }\n\n    .dataframe tbody tr th {\n        vertical-align: top;\n    }\n\n    .dataframe thead th {\n        text-align: right;\n    }\n</style>\n<table border=\"1\" class=\"dataframe\">\n  <thead>\n    <tr style=\"text-align: right;\">\n      <th></th>\n      <th>Area Sq.ft</th>\n      <th>bhk</th>\n      <th>bath_clean</th>\n      <th>lat</th>\n      <th>longi</th>\n      <th>Rent</th>\n    </tr>\n  </thead>\n  <tbody>\n    <tr>\n      <th>count</th>\n      <td>7.100000e+03</td>\n      <td>7100.000000</td>\n      <td>7100.000000</td>\n      <td>7100.000000</td>\n      <td>7100.000000</td>\n      <td>7100.000000</td>\n    </tr>\n    <tr>\n      <th>mean</th>\n      <td>6.271340e+03</td>\n      <td>1.711831</td>\n      <td>1.682817</td>\n      <td>18.461551</td>\n      <td>73.875988</td>\n      <td>15222.008310</td>\n    </tr>\n    <tr>\n      <th>std</th>\n      <td>4.244736e+05</td>\n      <td>0.779582</td>\n      <td>0.694261</td>\n      <td>0.942217</td>\n      <td>1.971755</td>\n      <td>7566.117906</td>\n    </tr>\n    <tr>\n      <th>min</th>\n      <td>1.000000e+00</td>\n      <td>1.000000</td>\n      <td>1.000000</td>\n      <td>1.258790</td>\n      <td>7.424616</td>\n      <td>1.000000</td>\n    </tr>\n    <tr>\n      <th>25%</th>\n      <td>6.000000e+02</td>\n      <td>1.000000</td>\n      <td>1.000000</td>\n      <td>18.507351</td>\n      <td>73.780880</td>\n      <td>10000.000000</td>\n    </tr>\n    <tr>\n      <th>50%</th>\n      <td>8.300000e+02</td>\n      <td>2.000000</td>\n      <td>2.000000</td>\n      <td>18.567915</td>\n      <td>73.829361</td>\n      <td>14000.000000</td>\n    </tr>\n    <tr>\n      <th>75%</th>\n      <td>1.044000e+03</td>\n      <td>2.000000</td>\n      <td>2.000000</td>\n      <td>18.598676</td>\n      <td>73.925910</td>\n      <td>18500.000000</td>\n    </tr>\n    <tr>\n      <th>max</th>\n      <td>3.571920e+07</td>\n      <td>30.000000</td>\n      <td>20.000000</td>\n      <td>18.966500</td>\n      <td>103.824105</td>\n      <td>80000.000000</td>\n    </tr>\n  </tbody>\n</table>\n</div>"
     },
     "metadata": {},
     "execution_count": 131
    }
   ],
   "source": [
    "df.describe()"
   ]
  },
  {
   "cell_type": "code",
   "execution_count": 125,
   "metadata": {},
   "outputs": [
    {
     "output_type": "execute_result",
     "data": {
      "text/plain": [
       "(array([ 677, 1105, 1187, 1880, 2097, 2210, 2244, 2459, 2819, 3615, 4028,\n",
       "        4900, 5190, 5605, 5987, 5988, 6726, 6740], dtype=int64),)"
      ]
     },
     "metadata": {},
     "execution_count": 125
    }
   ],
   "source": [
    "nanvalues"
   ]
  },
  {
   "cell_type": "code",
   "execution_count": 97,
   "metadata": {},
   "outputs": [
    {
     "output_type": "execute_result",
     "data": {
      "text/plain": [
       "Int64Index([   2,    7,   16,   19,   33,   44,   78,   81,   83,   97,\n",
       "            ...\n",
       "            7647, 7649, 7650, 7652, 7655, 7658, 7682, 7703, 7705, 7726],\n",
       "           dtype='int64', length=627)"
      ]
     },
     "metadata": {},
     "execution_count": 97
    }
   ],
   "source": [
    "indexNames"
   ]
  },
  {
   "cell_type": "code",
   "execution_count": 98,
   "metadata": {},
   "outputs": [
    {
     "output_type": "execute_result",
     "data": {
      "text/plain": [
       "Index(['location', 'Area Sq.ft', 'bhk', 'bath_clean', 'dates', 'Title_modify',\n",
       "       'lat', 'longi', 'Rent'],\n",
       "      dtype='object')"
      ]
     },
     "metadata": {},
     "execution_count": 98
    }
   ],
   "source": [
    "df.columns"
   ]
  },
  {
   "cell_type": "code",
   "execution_count": 105,
   "metadata": {},
   "outputs": [
    {
     "output_type": "stream",
     "name": "stdout",
     "text": [
      " Vijay Nagar\n Maval\n Sus\n Phonix market city\n Kundan Nagar\n Postal Colony\n Ravet\n Ambegaon\n Madhav Nagar\n Near Hill View Residency\n Ravet\n Shastri Nagar\n Ganesh Nagar\n Ravet\n Mohan Nagar\n Maval\n Sus\n Swami Vivekanand Nagar\n Chandan Nagar\n Mauli chowk\n Madhav Nagar\n joggers park\n Anand Nagar\n Kanchan Nagari\n Ravet\n Ravet\n Udyog Nagar\n Moshi\n Moshi\n Sus\n Sus\n Swami Samarth Nagar\n Wadegaon\n Ravet\n Shastri Nagar\n Moshi\n Ravet\n Moshi\n Sangam Nagar\n Ravet\n Madhav Nagar\n MIDC\n Moshi\n Madhav Nagar\n Siddharth Nagar\n Madhav Nagar\n Croma\n Moshi\n Ambegaon\n Chandan Nagar\n Swami Vivekanand Nagar\n Near Stella Maris School\n Chandan Nagar\n Madhav Nagar\n Ravet\n Ravet\n CONVENT STREET\n Swami Samarth Nagar\n Ravet\n Shanti Nagar\n Ravet\n Anand Nagar\n Sus\n Anand Nagar\n Jai Bhavani Nagar\n Sus\n Moshi\n Madhav Nagar\n Nagpur\n Kundan Nagar\n Lane A\n Sus\n Sant Nagar\n Telco Colony\n Camp\n Ambegaon\n Madhav Nagar\n Ravet\n Vitthalwadi\n mamata chow\n spring glory hou society\n Shitladevi Nagar\n Jayprakash Nagar\n Ravet\n Telco Colony\n Ambegaon\n Telco Colony\n Ravet\n Ravet\n Dhanukar\n Swami Samarth Nagar\n Kamal Park\n Ravet\n Saibaba Nagar\n Sambhaji Nagar\n Postal Colony\n Ravet\n Boat Club Road\n Ashoka Nagar\n Madhav Nagar\n Ravet\n Kirti Nagar\n Moshi\n Shastri Nagar\n Vijay Nagar\n Mhada Colony\n Ravet\n Camp\n Jai Bhavani Nagar\n Vidyanagar\n Ganesh Nagar\n Renuka Nagar\n Gangotri Nagar\n Udyog Nagar\n Ravet\n Vrundavan Nagar\n Madhav Nagar\n Mother Teresa Nagar\n Dmart\n Ravet\n Anand Nagar\n Sus\n Moshi\n Ravet\n Sus\n Ravet\n Sus\n Camp\n Sus\n Moshi\n Moshi\n Mhada Colony\n Samarth Nagar\n Near Alphonso High School\n Behind Radisson Blu\n Ravet\n Gulab Nagar\n Aadarsh Nagar\n Shiv Nagar\n Moshi\n Shankar Nagar\n Ravet\n Laxmi Chowk\n Dashrath Nagar\n Mahaganpati Mandir\n Tambenagar\n Moshi\n Near Polaris Hospital\n Near Iscon temple\n Sus\n near Datta Mandir\n Siddharth Nagar\n Shastri Nagar\n Model Colony\n Swami Vivekanand Nagar\n Sus\n Opp Bharat Dhaba\n Mahavir general store\n Ravet\n Pcmc\n Kamgar Nagar\n Moshi\n Ravet\n Ravet\n Sus\n Ashoka Nagar\n Sai Nagar\n Ravet\n Madhav Nagar\n Armut\n Sangam Nagar\n Madhav Nagar\n Adarsh Nagar\n Near Abhinav College\n Ashoka Nagar\n Sus\n Clover Park\n Ravet\n Sus\n Sus\n Panchawati\n Sus\n Madhav Nagar\n Adarsh Colony\n Boat Club Road\n Ravet\n Ravet\n Mohan Nagar\n Sangam Nagar\n Sus\n Ravet\n Ravet\n Swami Samartha Nagar\n Ravet\n Kalas\n Moshi\n Near Murugan Dosa\n Adarsh Nagar\n Moshi\n Icchapurti ganpati\n Sus\n Ravet\n Moshi\n Shanti Nagar\n Kirti Nagar\n Renuka Nagar\n Ravet\n Sus\n Madhav Nagar\n Ravet\n Ashoka Nagar\n Ravet\n Sus\n Ravet\n Near kedareshwar mandir\n Hanuman Nagar\n Ambegaon\n Ganesh nagar\n Moshi\n Sus\n Kal bhairavnath Mandir\n Nere\n krishna chowk\n Ravet\n Mhada Colony\n Near undre hospital\n Vrindavan Nagar\n Moshi\n Ram Nagar\n Mhasoba Nagar\n Model Colony\n Moshi\n Moshi\n Shantinagar\n Near Stella Maris\n Shastri Nagar\n Near Gajanan Maharaj Mandir\n NEAR BALAGY MANDIR\n Ravet\n Madhav Nagar\n Chandan Nagar\n Ganesh Nagar\n Adarsh Colony\n Sus\n Near Akshat Chowk\n Clover Park\n Clover Park\n Wolf Colony\n Swami Vivekanand Nagar\n Moshi\n Moshi\n Shree Krishna Nagar\n Salisbury Park\n Sus\n Shastri Nagar\n Ravet\n Vijay Nagar\n Ravet\n Maan\n Near Esquare\n Moshi\n Sus\n Chandan Nagar\n Sus\n Medipoint Hospital\n Maval\n Ravet\n Ravet\n Ravet\n Sus\n Near Oxford Blues\n Shanti Nagar\n Near Park Vista\n Jai Bhavani Nagar\n Sus\n Laxman Nagar\n Nere\n Bhagwan Nagar\n Camp\n Moshi\n Nere\n Sambhaji Nagar\n Vidyasagar Colony\n Model Colony\n Mhasoba Nagar\n Clover Park\n Yamuna Nagar\n Madhav Nagar\n Mahadev Nagar\n Maan\n Chandan Nagar\n Nere\n Moshi\n Vijay Nagar\n Vikas Nagar\n Postal Colony\n Trimurti Hospital Lane\n Madhav Nagar\n Moshi\n Chandan Nagar\n Chandan Nagar\n Near Westside mall,behind NIA\n Ambegaon\n Near Pheonix Mall\n Rajendri Nagar\n Manchar\n Flat\n Jai Prakash Nagar\n Chandan Nagar\n Near Pandavnagar police station\n Behind Anand Hospital\n Kamgar Nagar\n Near mount Carmel\n Ravet\n Divya heights\n Defence Area\n Yamuna Nagar\n Panchawati\n Moshi\n Postal Colony\n Gandhi Nagar\n Yamuna Nagar\n Model Colony\n Salisbury Park\n Shastri Nagar\n Moshi\n Moshi\n Sus\n Moshi\n Ravet\n Ashoka Nagar\n Chikhli\n Kundan Nagar\n Ravet\n Chandan nagar\n Ambegaon\n SUS\n Camp\n Yamuna Nagar\n Airport Road\n Postal Colony\n Utkarsh Society\n Ravet\n Ravet\n Mhasoba Nagar\n Ravet\n Kalas\n Gulab Nagar\n Kalas\n Sus\n Shiv Coolony Near Grtai Loan\n Ganesh Nagar\n Sant Nagar\n Clover Park\n Panchawati\n Sangam Nagar\n Camp\n Adarsh Colony\n Sant Nagar\n Ambegaon\n Salisbury Park\n Dashrath Nagar\n Ravet\n Near IDBI Bank\n Madhav Nagar\n Adinath Colony\n Uttam Nagar\n Shastri Nagar\n Clover Park\n Maan\n Shankar Nagar\n Near Pawna Hospital\n Gadikhana Chowk\n Madhav Nagar\n Ravet\n Dashrath Nagar\n Madhav Nagar\n Clover Park\n Swami Samarth Nagar\n Madhav Nagar\n Dive\n Ravet\n Rutuja appt\n Moshi\n Shashtri Nagar\n Goal Acropolis\n Nande\n GURU NANAK NAGAR\n Ravet\n Ravet\n Dashrath Nagar\n MIDC\n Shastri Nagar\n Hanuman Nagar\n Sanghvi\n Renuka Nagar\n Uttamnagar\n Shriram Colony\n Aboli Villa\n Bhavani Super market\n Mahadev Nagar\n Airport Road\n Sai Nagar\n Shivaneri Colony\n Shivaneri Colony\n Nanded\n Mangal Nagar\n Moshi\n Ashoka Nagar\n Laxmi Nagar\n Yamuna Nagar\n Ravet\n Shastri Nagar\n Ambegaon\n Anand Nagar\n Vijay Nagar\n Shastri Nagar\n Panchawati\n Near Amar cottages\n anandnagar\n Mhada Colony\n Mhada Colony\n Ravet\n Moshi\n Moshi\n Anand Nagar\n Ganga Nagar\n Vikas Nagar\n NEAR DEVINCE SCHOOL\n IVy Estate\n Chandan Nagar\n Behind Bank of Mharahstra\n Postal Colony\n Ravet\n Anand Nagar\n Madhav Nagar\n Gaikwad Nagar\n Laxman Nagar\n Ravet\n Madhav Nagar\n Ganesh Nagar\n Moshi\n Ambegaon\n Ravet\n Yamuna Nagar\n Chandan Nagar\n Swami Samartha Nagar\n Nere\n Vikas Nagar\n Swami Vivekanand Nagar\n Ravet\n Ravet\n Adarsh Nagar\n Kundan Nagar\n Lokmanya Nagar\n Model Colony\n Sonai Nagar\n Chandannagar\n Near Z Corner\n Sant Nagar\n Madhav Nagar\n Chandan Nagar\n Vijay Nagar\n Near Ambedkar Chowk\n Padmavati\n Vidyanagar\n Clover Park\n Mhasoba Nagar\n Krantiveer Colony\n Sus\n jai bhavani nagar 16 number opposite macdonalds\n Yashwant nagar\n Ganesh Nagar\n Chandan Nagar\n Ambegaon\n Sus\n Anand Nagar\n Udyog Nagar\n Ravet\n SAI SIDDH COLONY\n Near Symbiosis College\n Sant Dnyaneshwar Marg\n Near Mahadeo mandir\n shiv colony\n Salisbury Park\n Ambedkar Nagar\n Sai mandir\n Ambegaon\n Mumbai-Bangalore highway\n MahadevNagar\n Anand Nagar\n Moshi\n Vikas Nagar\n Renuka mata mandir\n Lane 1\n Saigarden\n Gajanan Nagar\n Behind Radisson Hotel\n Vijay Nagar\n Anand Nagar\n Mhada Colony\n Ravet\n Adarsh Nagar\n Lohiya Nagar\n Ravet\n Chandan Nagar\n Ravet\n Shashtri Nagar\n Ravet\n Near nobel hodpital\n Yamuna Nagar\n Ravet\n Mhada Colony\n Sus\n Ravet\n Udyog Nagar\n Shastri Nagar\n Baner Road\n Ambegaon\n Shriram chowk\n Kalanagar\n Sector 21\n Defence Area\n Mhasoba Nagar\n Eklavya Colony\n shinde pool\n Ravet\n Ravet\n Kranti Nagar\n Near Santanirankari Bhavan\n Moshi\n Madhav Nagar\n Chandan Nagar\n Ravet\n Moshi\n Subhash Nagar\n Shivaji Park\n Defence Area\n Adarsh Colony\n Ganeshnagar\n Ravet\n Siddharth Nagar\n Postal Colony\n Airport Road\n Shri Ram Colony\n Panchawati\n Ravet\n Near Dutta temples\n Bellagio\n Chandan Nagar\n Mhada Colony\n Ravet\n Ganga Nagar\n Mahadev Nagar\n Ravet\n J.M Road\n Ravet\n Ravet\n Madhav Nagar\n Laxman Nagar\n Vikas Nagar\n Yamuna Nagar\n Perne\n Vithai Nagar\n Gangotri Nagar\n Sant Nagar\n Siddharth Nagar\n Near matoshree Hospital\n Postal Colony\n near joglekar nursery\n Pawar Nagar\n Mhasoba Nagar\n Wonder City\n Ravet\n Vikas Nagar\n Model Colony\n Yashwant nagar\n Laxmi Nagar\n Padmavati\n Perne\n Ravet\n Sus\n Padmavati\n Near Reliance Fresh\n Madhav Nagar\n Camp\n Ravet\n Shree Krishna Temple Lane\n Madhav Nagar\n Gangotri Nagar\n Ambegaon\n Moshi\n Ravet\n Sant Nagar\n Near icici bank atm\n Near Dmart\n Ravet\n Raghav Nagar\n Madhav Nagar\n Sindhunagar\n Sanghvi\n Chandan Nagar\n rajgarh colony\n Clover Park\n Madhav Nagar\n Madhav Nagar\n Eklavya Colony\n Gharkul society\n MLS Colony\n Ravet\n Mhada Colony\n Z corner\n Madhav Nagar\n Krushnanagar\n Camp\n Raghav Nagar\n Shiv Colony\n Model Colony\n Nanded\n Nanded\n Telco Colony\n Laxmi Nagar\n Postal Colony\n Suresh Nagar\n Maan\n Ravet\n Ravet\n"
     ]
    }
   ],
   "source": [
    "for i in indexNames:\n",
    "    print(df.iloc[i,5])"
   ]
  },
  {
   "cell_type": "code",
   "execution_count": 106,
   "metadata": {},
   "outputs": [],
   "source": [
    "df=df.drop(indexNames)"
   ]
  },
  {
   "cell_type": "code",
   "execution_count": 128,
   "metadata": {},
   "outputs": [
    {
     "output_type": "execute_result",
     "data": {
      "text/plain": [
       "tuple"
      ]
     },
     "metadata": {},
     "execution_count": 128
    }
   ],
   "source": [
    "type(nanvalues)"
   ]
  },
  {
   "cell_type": "code",
   "execution_count": 141,
   "metadata": {},
   "outputs": [],
   "source": [
    "for i in nanvalues:\n",
    "   df=df.drop(i)"
   ]
  },
  {
   "cell_type": "code",
   "execution_count": 126,
   "metadata": {},
   "outputs": [
    {
     "output_type": "error",
     "ename": "ValueError",
     "evalue": "Index data must be 1-dimensional",
     "traceback": [
      "\u001b[1;31m---------------------------------------------------------------------------\u001b[0m",
      "\u001b[1;31mValueError\u001b[0m                                Traceback (most recent call last)",
      "\u001b[1;32m<ipython-input-126-3205abd90959>\u001b[0m in \u001b[0;36m<module>\u001b[1;34m\u001b[0m\n\u001b[1;32m----> 1\u001b[1;33m \u001b[0mdf\u001b[0m\u001b[1;33m=\u001b[0m\u001b[0mdf\u001b[0m\u001b[1;33m.\u001b[0m\u001b[0mdrop\u001b[0m\u001b[1;33m(\u001b[0m\u001b[0mnanvalues\u001b[0m\u001b[1;33m)\u001b[0m\u001b[1;33m\u001b[0m\u001b[1;33m\u001b[0m\u001b[0m\n\u001b[0m",
      "\u001b[1;32m~\\AppData\\Local\\Programs\\Python\\Python39\\lib\\site-packages\\pandas\\core\\frame.py\u001b[0m in \u001b[0;36mdrop\u001b[1;34m(self, labels, axis, index, columns, level, inplace, errors)\u001b[0m\n\u001b[0;32m   4306\u001b[0m                 \u001b[0mweight\u001b[0m  \u001b[1;36m1.0\u001b[0m     \u001b[1;36m0.8\u001b[0m\u001b[1;33m\u001b[0m\u001b[1;33m\u001b[0m\u001b[0m\n\u001b[0;32m   4307\u001b[0m         \"\"\"\n\u001b[1;32m-> 4308\u001b[1;33m         return super().drop(\n\u001b[0m\u001b[0;32m   4309\u001b[0m             \u001b[0mlabels\u001b[0m\u001b[1;33m=\u001b[0m\u001b[0mlabels\u001b[0m\u001b[1;33m,\u001b[0m\u001b[1;33m\u001b[0m\u001b[1;33m\u001b[0m\u001b[0m\n\u001b[0;32m   4310\u001b[0m             \u001b[0maxis\u001b[0m\u001b[1;33m=\u001b[0m\u001b[0maxis\u001b[0m\u001b[1;33m,\u001b[0m\u001b[1;33m\u001b[0m\u001b[1;33m\u001b[0m\u001b[0m\n",
      "\u001b[1;32m~\\AppData\\Local\\Programs\\Python\\Python39\\lib\\site-packages\\pandas\\core\\generic.py\u001b[0m in \u001b[0;36mdrop\u001b[1;34m(self, labels, axis, index, columns, level, inplace, errors)\u001b[0m\n\u001b[0;32m   4151\u001b[0m         \u001b[1;32mfor\u001b[0m \u001b[0maxis\u001b[0m\u001b[1;33m,\u001b[0m \u001b[0mlabels\u001b[0m \u001b[1;32min\u001b[0m \u001b[0maxes\u001b[0m\u001b[1;33m.\u001b[0m\u001b[0mitems\u001b[0m\u001b[1;33m(\u001b[0m\u001b[1;33m)\u001b[0m\u001b[1;33m:\u001b[0m\u001b[1;33m\u001b[0m\u001b[1;33m\u001b[0m\u001b[0m\n\u001b[0;32m   4152\u001b[0m             \u001b[1;32mif\u001b[0m \u001b[0mlabels\u001b[0m \u001b[1;32mis\u001b[0m \u001b[1;32mnot\u001b[0m \u001b[1;32mNone\u001b[0m\u001b[1;33m:\u001b[0m\u001b[1;33m\u001b[0m\u001b[1;33m\u001b[0m\u001b[0m\n\u001b[1;32m-> 4153\u001b[1;33m                 \u001b[0mobj\u001b[0m \u001b[1;33m=\u001b[0m \u001b[0mobj\u001b[0m\u001b[1;33m.\u001b[0m\u001b[0m_drop_axis\u001b[0m\u001b[1;33m(\u001b[0m\u001b[0mlabels\u001b[0m\u001b[1;33m,\u001b[0m \u001b[0maxis\u001b[0m\u001b[1;33m,\u001b[0m \u001b[0mlevel\u001b[0m\u001b[1;33m=\u001b[0m\u001b[0mlevel\u001b[0m\u001b[1;33m,\u001b[0m \u001b[0merrors\u001b[0m\u001b[1;33m=\u001b[0m\u001b[0merrors\u001b[0m\u001b[1;33m)\u001b[0m\u001b[1;33m\u001b[0m\u001b[1;33m\u001b[0m\u001b[0m\n\u001b[0m\u001b[0;32m   4154\u001b[0m \u001b[1;33m\u001b[0m\u001b[0m\n\u001b[0;32m   4155\u001b[0m         \u001b[1;32mif\u001b[0m \u001b[0minplace\u001b[0m\u001b[1;33m:\u001b[0m\u001b[1;33m\u001b[0m\u001b[1;33m\u001b[0m\u001b[0m\n",
      "\u001b[1;32m~\\AppData\\Local\\Programs\\Python\\Python39\\lib\\site-packages\\pandas\\core\\generic.py\u001b[0m in \u001b[0;36m_drop_axis\u001b[1;34m(self, labels, axis, level, errors)\u001b[0m\n\u001b[0;32m   4186\u001b[0m                 \u001b[0mnew_axis\u001b[0m \u001b[1;33m=\u001b[0m \u001b[0maxis\u001b[0m\u001b[1;33m.\u001b[0m\u001b[0mdrop\u001b[0m\u001b[1;33m(\u001b[0m\u001b[0mlabels\u001b[0m\u001b[1;33m,\u001b[0m \u001b[0mlevel\u001b[0m\u001b[1;33m=\u001b[0m\u001b[0mlevel\u001b[0m\u001b[1;33m,\u001b[0m \u001b[0merrors\u001b[0m\u001b[1;33m=\u001b[0m\u001b[0merrors\u001b[0m\u001b[1;33m)\u001b[0m\u001b[1;33m\u001b[0m\u001b[1;33m\u001b[0m\u001b[0m\n\u001b[0;32m   4187\u001b[0m             \u001b[1;32melse\u001b[0m\u001b[1;33m:\u001b[0m\u001b[1;33m\u001b[0m\u001b[1;33m\u001b[0m\u001b[0m\n\u001b[1;32m-> 4188\u001b[1;33m                 \u001b[0mnew_axis\u001b[0m \u001b[1;33m=\u001b[0m \u001b[0maxis\u001b[0m\u001b[1;33m.\u001b[0m\u001b[0mdrop\u001b[0m\u001b[1;33m(\u001b[0m\u001b[0mlabels\u001b[0m\u001b[1;33m,\u001b[0m \u001b[0merrors\u001b[0m\u001b[1;33m=\u001b[0m\u001b[0merrors\u001b[0m\u001b[1;33m)\u001b[0m\u001b[1;33m\u001b[0m\u001b[1;33m\u001b[0m\u001b[0m\n\u001b[0m\u001b[0;32m   4189\u001b[0m             \u001b[0mresult\u001b[0m \u001b[1;33m=\u001b[0m \u001b[0mself\u001b[0m\u001b[1;33m.\u001b[0m\u001b[0mreindex\u001b[0m\u001b[1;33m(\u001b[0m\u001b[1;33m**\u001b[0m\u001b[1;33m{\u001b[0m\u001b[0maxis_name\u001b[0m\u001b[1;33m:\u001b[0m \u001b[0mnew_axis\u001b[0m\u001b[1;33m}\u001b[0m\u001b[1;33m)\u001b[0m\u001b[1;33m\u001b[0m\u001b[1;33m\u001b[0m\u001b[0m\n\u001b[0;32m   4190\u001b[0m \u001b[1;33m\u001b[0m\u001b[0m\n",
      "\u001b[1;32m~\\AppData\\Local\\Programs\\Python\\Python39\\lib\\site-packages\\pandas\\core\\indexes\\base.py\u001b[0m in \u001b[0;36mdrop\u001b[1;34m(self, labels, errors)\u001b[0m\n\u001b[0;32m   5585\u001b[0m         \u001b[0marr_dtype\u001b[0m \u001b[1;33m=\u001b[0m \u001b[1;34m\"object\"\u001b[0m \u001b[1;32mif\u001b[0m \u001b[0mself\u001b[0m\u001b[1;33m.\u001b[0m\u001b[0mdtype\u001b[0m \u001b[1;33m==\u001b[0m \u001b[1;34m\"object\"\u001b[0m \u001b[1;32melse\u001b[0m \u001b[1;32mNone\u001b[0m\u001b[1;33m\u001b[0m\u001b[1;33m\u001b[0m\u001b[0m\n\u001b[0;32m   5586\u001b[0m         \u001b[0mlabels\u001b[0m \u001b[1;33m=\u001b[0m \u001b[0mcom\u001b[0m\u001b[1;33m.\u001b[0m\u001b[0mindex_labels_to_array\u001b[0m\u001b[1;33m(\u001b[0m\u001b[0mlabels\u001b[0m\u001b[1;33m,\u001b[0m \u001b[0mdtype\u001b[0m\u001b[1;33m=\u001b[0m\u001b[0marr_dtype\u001b[0m\u001b[1;33m)\u001b[0m\u001b[1;33m\u001b[0m\u001b[1;33m\u001b[0m\u001b[0m\n\u001b[1;32m-> 5587\u001b[1;33m         \u001b[0mindexer\u001b[0m \u001b[1;33m=\u001b[0m \u001b[0mself\u001b[0m\u001b[1;33m.\u001b[0m\u001b[0mget_indexer_for\u001b[0m\u001b[1;33m(\u001b[0m\u001b[0mlabels\u001b[0m\u001b[1;33m)\u001b[0m\u001b[1;33m\u001b[0m\u001b[1;33m\u001b[0m\u001b[0m\n\u001b[0m\u001b[0;32m   5588\u001b[0m         \u001b[0mmask\u001b[0m \u001b[1;33m=\u001b[0m \u001b[0mindexer\u001b[0m \u001b[1;33m==\u001b[0m \u001b[1;33m-\u001b[0m\u001b[1;36m1\u001b[0m\u001b[1;33m\u001b[0m\u001b[1;33m\u001b[0m\u001b[0m\n\u001b[0;32m   5589\u001b[0m         \u001b[1;32mif\u001b[0m \u001b[0mmask\u001b[0m\u001b[1;33m.\u001b[0m\u001b[0many\u001b[0m\u001b[1;33m(\u001b[0m\u001b[1;33m)\u001b[0m\u001b[1;33m:\u001b[0m\u001b[1;33m\u001b[0m\u001b[1;33m\u001b[0m\u001b[0m\n",
      "\u001b[1;32m~\\AppData\\Local\\Programs\\Python\\Python39\\lib\\site-packages\\pandas\\core\\indexes\\base.py\u001b[0m in \u001b[0;36mget_indexer_for\u001b[1;34m(self, target, **kwargs)\u001b[0m\n\u001b[0;32m   4958\u001b[0m         \"\"\"\n\u001b[0;32m   4959\u001b[0m         \u001b[1;32mif\u001b[0m \u001b[0mself\u001b[0m\u001b[1;33m.\u001b[0m\u001b[0m_index_as_unique\u001b[0m\u001b[1;33m:\u001b[0m\u001b[1;33m\u001b[0m\u001b[1;33m\u001b[0m\u001b[0m\n\u001b[1;32m-> 4960\u001b[1;33m             \u001b[1;32mreturn\u001b[0m \u001b[0mself\u001b[0m\u001b[1;33m.\u001b[0m\u001b[0mget_indexer\u001b[0m\u001b[1;33m(\u001b[0m\u001b[0mtarget\u001b[0m\u001b[1;33m,\u001b[0m \u001b[1;33m**\u001b[0m\u001b[0mkwargs\u001b[0m\u001b[1;33m)\u001b[0m\u001b[1;33m\u001b[0m\u001b[1;33m\u001b[0m\u001b[0m\n\u001b[0m\u001b[0;32m   4961\u001b[0m         \u001b[0mindexer\u001b[0m\u001b[1;33m,\u001b[0m \u001b[0m_\u001b[0m \u001b[1;33m=\u001b[0m \u001b[0mself\u001b[0m\u001b[1;33m.\u001b[0m\u001b[0mget_indexer_non_unique\u001b[0m\u001b[1;33m(\u001b[0m\u001b[0mtarget\u001b[0m\u001b[1;33m)\u001b[0m\u001b[1;33m\u001b[0m\u001b[1;33m\u001b[0m\u001b[0m\n\u001b[0;32m   4962\u001b[0m         \u001b[1;32mreturn\u001b[0m \u001b[0mindexer\u001b[0m\u001b[1;33m\u001b[0m\u001b[1;33m\u001b[0m\u001b[0m\n",
      "\u001b[1;32m~\\AppData\\Local\\Programs\\Python\\Python39\\lib\\site-packages\\pandas\\core\\indexes\\base.py\u001b[0m in \u001b[0;36mget_indexer\u001b[1;34m(self, target, method, limit, tolerance)\u001b[0m\n\u001b[0;32m   3145\u001b[0m     ) -> np.ndarray:\n\u001b[0;32m   3146\u001b[0m         \u001b[0mmethod\u001b[0m \u001b[1;33m=\u001b[0m \u001b[0mmissing\u001b[0m\u001b[1;33m.\u001b[0m\u001b[0mclean_reindex_fill_method\u001b[0m\u001b[1;33m(\u001b[0m\u001b[0mmethod\u001b[0m\u001b[1;33m)\u001b[0m\u001b[1;33m\u001b[0m\u001b[1;33m\u001b[0m\u001b[0m\n\u001b[1;32m-> 3147\u001b[1;33m         \u001b[0mtarget\u001b[0m \u001b[1;33m=\u001b[0m \u001b[0mensure_index\u001b[0m\u001b[1;33m(\u001b[0m\u001b[0mtarget\u001b[0m\u001b[1;33m)\u001b[0m\u001b[1;33m\u001b[0m\u001b[1;33m\u001b[0m\u001b[0m\n\u001b[0m\u001b[0;32m   3148\u001b[0m         \u001b[1;32mif\u001b[0m \u001b[0mtolerance\u001b[0m \u001b[1;32mis\u001b[0m \u001b[1;32mnot\u001b[0m \u001b[1;32mNone\u001b[0m\u001b[1;33m:\u001b[0m\u001b[1;33m\u001b[0m\u001b[1;33m\u001b[0m\u001b[0m\n\u001b[0;32m   3149\u001b[0m             \u001b[0mtolerance\u001b[0m \u001b[1;33m=\u001b[0m \u001b[0mself\u001b[0m\u001b[1;33m.\u001b[0m\u001b[0m_convert_tolerance\u001b[0m\u001b[1;33m(\u001b[0m\u001b[0mtolerance\u001b[0m\u001b[1;33m,\u001b[0m \u001b[0mtarget\u001b[0m\u001b[1;33m)\u001b[0m\u001b[1;33m\u001b[0m\u001b[1;33m\u001b[0m\u001b[0m\n",
      "\u001b[1;32m~\\AppData\\Local\\Programs\\Python\\Python39\\lib\\site-packages\\pandas\\core\\indexes\\base.py\u001b[0m in \u001b[0;36mensure_index\u001b[1;34m(index_like, copy)\u001b[0m\n\u001b[0;32m   5915\u001b[0m             \u001b[0mindex_like\u001b[0m \u001b[1;33m=\u001b[0m \u001b[0mcopy_func\u001b[0m\u001b[1;33m(\u001b[0m\u001b[0mindex_like\u001b[0m\u001b[1;33m)\u001b[0m\u001b[1;33m\u001b[0m\u001b[1;33m\u001b[0m\u001b[0m\n\u001b[0;32m   5916\u001b[0m \u001b[1;33m\u001b[0m\u001b[0m\n\u001b[1;32m-> 5917\u001b[1;33m     \u001b[1;32mreturn\u001b[0m \u001b[0mIndex\u001b[0m\u001b[1;33m(\u001b[0m\u001b[0mindex_like\u001b[0m\u001b[1;33m)\u001b[0m\u001b[1;33m\u001b[0m\u001b[1;33m\u001b[0m\u001b[0m\n\u001b[0m\u001b[0;32m   5918\u001b[0m \u001b[1;33m\u001b[0m\u001b[0m\n\u001b[0;32m   5919\u001b[0m \u001b[1;33m\u001b[0m\u001b[0m\n",
      "\u001b[1;32m~\\AppData\\Local\\Programs\\Python\\Python39\\lib\\site-packages\\pandas\\core\\indexes\\base.py\u001b[0m in \u001b[0;36m__new__\u001b[1;34m(cls, data, dtype, copy, name, tupleize_cols, **kwargs)\u001b[0m\n\u001b[0;32m    340\u001b[0m             \u001b[1;31m# maybe coerce to a sub-class\u001b[0m\u001b[1;33m\u001b[0m\u001b[1;33m\u001b[0m\u001b[1;33m\u001b[0m\u001b[0m\n\u001b[0;32m    341\u001b[0m             \u001b[1;32mif\u001b[0m \u001b[0mis_signed_integer_dtype\u001b[0m\u001b[1;33m(\u001b[0m\u001b[0mdata\u001b[0m\u001b[1;33m.\u001b[0m\u001b[0mdtype\u001b[0m\u001b[1;33m)\u001b[0m\u001b[1;33m:\u001b[0m\u001b[1;33m\u001b[0m\u001b[1;33m\u001b[0m\u001b[0m\n\u001b[1;32m--> 342\u001b[1;33m                 \u001b[1;32mreturn\u001b[0m \u001b[0mInt64Index\u001b[0m\u001b[1;33m(\u001b[0m\u001b[0mdata\u001b[0m\u001b[1;33m,\u001b[0m \u001b[0mcopy\u001b[0m\u001b[1;33m=\u001b[0m\u001b[0mcopy\u001b[0m\u001b[1;33m,\u001b[0m \u001b[0mdtype\u001b[0m\u001b[1;33m=\u001b[0m\u001b[0mdtype\u001b[0m\u001b[1;33m,\u001b[0m \u001b[0mname\u001b[0m\u001b[1;33m=\u001b[0m\u001b[0mname\u001b[0m\u001b[1;33m)\u001b[0m\u001b[1;33m\u001b[0m\u001b[1;33m\u001b[0m\u001b[0m\n\u001b[0m\u001b[0;32m    343\u001b[0m             \u001b[1;32melif\u001b[0m \u001b[0mis_unsigned_integer_dtype\u001b[0m\u001b[1;33m(\u001b[0m\u001b[0mdata\u001b[0m\u001b[1;33m.\u001b[0m\u001b[0mdtype\u001b[0m\u001b[1;33m)\u001b[0m\u001b[1;33m:\u001b[0m\u001b[1;33m\u001b[0m\u001b[1;33m\u001b[0m\u001b[0m\n\u001b[0;32m    344\u001b[0m                 \u001b[1;32mreturn\u001b[0m \u001b[0mUInt64Index\u001b[0m\u001b[1;33m(\u001b[0m\u001b[0mdata\u001b[0m\u001b[1;33m,\u001b[0m \u001b[0mcopy\u001b[0m\u001b[1;33m=\u001b[0m\u001b[0mcopy\u001b[0m\u001b[1;33m,\u001b[0m \u001b[0mdtype\u001b[0m\u001b[1;33m=\u001b[0m\u001b[0mdtype\u001b[0m\u001b[1;33m,\u001b[0m \u001b[0mname\u001b[0m\u001b[1;33m=\u001b[0m\u001b[0mname\u001b[0m\u001b[1;33m)\u001b[0m\u001b[1;33m\u001b[0m\u001b[1;33m\u001b[0m\u001b[0m\n",
      "\u001b[1;32m~\\AppData\\Local\\Programs\\Python\\Python39\\lib\\site-packages\\pandas\\core\\indexes\\numeric.py\u001b[0m in \u001b[0;36m__new__\u001b[1;34m(cls, data, dtype, copy, name)\u001b[0m\n\u001b[0;32m     71\u001b[0m         \u001b[1;32mif\u001b[0m \u001b[0msubarr\u001b[0m\u001b[1;33m.\u001b[0m\u001b[0mndim\u001b[0m \u001b[1;33m>\u001b[0m \u001b[1;36m1\u001b[0m\u001b[1;33m:\u001b[0m\u001b[1;33m\u001b[0m\u001b[1;33m\u001b[0m\u001b[0m\n\u001b[0;32m     72\u001b[0m             \u001b[1;31m# GH#13601, GH#20285, GH#27125\u001b[0m\u001b[1;33m\u001b[0m\u001b[1;33m\u001b[0m\u001b[1;33m\u001b[0m\u001b[0m\n\u001b[1;32m---> 73\u001b[1;33m             \u001b[1;32mraise\u001b[0m \u001b[0mValueError\u001b[0m\u001b[1;33m(\u001b[0m\u001b[1;34m\"Index data must be 1-dimensional\"\u001b[0m\u001b[1;33m)\u001b[0m\u001b[1;33m\u001b[0m\u001b[1;33m\u001b[0m\u001b[0m\n\u001b[0m\u001b[0;32m     74\u001b[0m \u001b[1;33m\u001b[0m\u001b[0m\n\u001b[0;32m     75\u001b[0m         \u001b[0msubarr\u001b[0m \u001b[1;33m=\u001b[0m \u001b[0mnp\u001b[0m\u001b[1;33m.\u001b[0m\u001b[0masarray\u001b[0m\u001b[1;33m(\u001b[0m\u001b[0msubarr\u001b[0m\u001b[1;33m)\u001b[0m\u001b[1;33m\u001b[0m\u001b[1;33m\u001b[0m\u001b[0m\n",
      "\u001b[1;31mValueError\u001b[0m: Index data must be 1-dimensional"
     ]
    }
   ],
   "source": [
    "df=df.drop(nanvalues)"
   ]
  },
  {
   "cell_type": "code",
   "execution_count": null,
   "metadata": {},
   "outputs": [],
   "source": [
    "df.iloc[indexNames:]"
   ]
  },
  {
   "cell_type": "code",
   "execution_count": 143,
   "metadata": {},
   "outputs": [],
   "source": [
    "df.to_csv('experimental.csv')"
   ]
  },
  {
   "cell_type": "code",
   "execution_count": 132,
   "metadata": {},
   "outputs": [
    {
     "output_type": "execute_result",
     "data": {
      "text/plain": [
       "0       18.573820\n",
       "1       18.517725\n",
       "3       18.594470\n",
       "4       18.474525\n",
       "5       18.450386\n",
       "          ...    \n",
       "7740    18.591272\n",
       "7741    18.489072\n",
       "7742    18.579023\n",
       "7743    18.494298\n",
       "7744    18.624122\n",
       "Name: lat, Length: 7100, dtype: float64"
      ]
     },
     "metadata": {},
     "execution_count": 132
    }
   ],
   "source": [
    "df.lat"
   ]
  },
  {
   "cell_type": "code",
   "execution_count": 107,
   "metadata": {},
   "outputs": [
    {
     "output_type": "execute_result",
     "data": {
      "text/plain": [
       "         Area Sq.ft          bhk   bath_clean          lat        longi  \\\n",
       "count  7.118000e+03  7118.000000  7118.000000  7100.000000  7100.000000   \n",
       "mean   6.257712e+03     1.711998     1.682917    18.461551    73.875988   \n",
       "std    4.239365e+05     0.779605     0.694358     0.942217     1.971755   \n",
       "min    1.000000e+00     1.000000     1.000000     1.258790     7.424616   \n",
       "25%    6.000000e+02     1.000000     1.000000    18.507351    73.780880   \n",
       "50%    8.300000e+02     2.000000     2.000000    18.567915    73.829361   \n",
       "75%    1.044000e+03     2.000000     2.000000    18.598676    73.925910   \n",
       "max    3.571920e+07    30.000000    20.000000    18.966500   103.824105   \n",
       "\n",
       "               Rent  \n",
       "count   7118.000000  \n",
       "mean   15217.698370  \n",
       "std     7564.910769  \n",
       "min        1.000000  \n",
       "25%    10000.000000  \n",
       "50%    14000.000000  \n",
       "75%    18500.000000  \n",
       "max    80000.000000  "
      ],
      "text/html": "<div>\n<style scoped>\n    .dataframe tbody tr th:only-of-type {\n        vertical-align: middle;\n    }\n\n    .dataframe tbody tr th {\n        vertical-align: top;\n    }\n\n    .dataframe thead th {\n        text-align: right;\n    }\n</style>\n<table border=\"1\" class=\"dataframe\">\n  <thead>\n    <tr style=\"text-align: right;\">\n      <th></th>\n      <th>Area Sq.ft</th>\n      <th>bhk</th>\n      <th>bath_clean</th>\n      <th>lat</th>\n      <th>longi</th>\n      <th>Rent</th>\n    </tr>\n  </thead>\n  <tbody>\n    <tr>\n      <th>count</th>\n      <td>7.118000e+03</td>\n      <td>7118.000000</td>\n      <td>7118.000000</td>\n      <td>7100.000000</td>\n      <td>7100.000000</td>\n      <td>7118.000000</td>\n    </tr>\n    <tr>\n      <th>mean</th>\n      <td>6.257712e+03</td>\n      <td>1.711998</td>\n      <td>1.682917</td>\n      <td>18.461551</td>\n      <td>73.875988</td>\n      <td>15217.698370</td>\n    </tr>\n    <tr>\n      <th>std</th>\n      <td>4.239365e+05</td>\n      <td>0.779605</td>\n      <td>0.694358</td>\n      <td>0.942217</td>\n      <td>1.971755</td>\n      <td>7564.910769</td>\n    </tr>\n    <tr>\n      <th>min</th>\n      <td>1.000000e+00</td>\n      <td>1.000000</td>\n      <td>1.000000</td>\n      <td>1.258790</td>\n      <td>7.424616</td>\n      <td>1.000000</td>\n    </tr>\n    <tr>\n      <th>25%</th>\n      <td>6.000000e+02</td>\n      <td>1.000000</td>\n      <td>1.000000</td>\n      <td>18.507351</td>\n      <td>73.780880</td>\n      <td>10000.000000</td>\n    </tr>\n    <tr>\n      <th>50%</th>\n      <td>8.300000e+02</td>\n      <td>2.000000</td>\n      <td>2.000000</td>\n      <td>18.567915</td>\n      <td>73.829361</td>\n      <td>14000.000000</td>\n    </tr>\n    <tr>\n      <th>75%</th>\n      <td>1.044000e+03</td>\n      <td>2.000000</td>\n      <td>2.000000</td>\n      <td>18.598676</td>\n      <td>73.925910</td>\n      <td>18500.000000</td>\n    </tr>\n    <tr>\n      <th>max</th>\n      <td>3.571920e+07</td>\n      <td>30.000000</td>\n      <td>20.000000</td>\n      <td>18.966500</td>\n      <td>103.824105</td>\n      <td>80000.000000</td>\n    </tr>\n  </tbody>\n</table>\n</div>"
     },
     "metadata": {},
     "execution_count": 107
    }
   ],
   "source": [
    "df.describe()"
   ]
  },
  {
   "cell_type": "code",
   "execution_count": 144,
   "metadata": {},
   "outputs": [],
   "source": [
    "x=df[['Area Sq.ft','bhk', 'bath_clean','lat', 'longi']]\n",
    "y=df.Rent"
   ]
  },
  {
   "cell_type": "code",
   "execution_count": 145,
   "metadata": {},
   "outputs": [],
   "source": [
    "from sklearn.model_selection import train_test_split\n",
    "x_train, x_valid, y_train, y_valid = train_test_split(x, y, train_size=0.8, test_size=0.2,\n",
    "                                                      random_state=0)"
   ]
  },
  {
   "cell_type": "code",
   "execution_count": 146,
   "metadata": {},
   "outputs": [
    {
     "output_type": "stream",
     "name": "stdout",
     "text": [
      "[50, 59, 69, 78, 88, 98, 107, 117, 127, 136, 146, 156, 165, 175, 185, 194, 204, 214, 223, 233, 243, 252, 262, 272, 281, 291, 301, 310, 320, 330, 339, 349, 359, 368, 378, 388, 397, 407, 417, 426, 436, 446, 455, 465, 475, 484, 494, 504, 513, 523, 533, 542, 552, 562, 571, 581, 591, 600, 610, 620, 629, 639, 649, 658, 668, 678, 687, 697, 707, 716, 726, 736, 745, 755, 765, 774, 784, 794, 803, 813, 823, 832, 842, 852, 861, 871, 881, 890, 900, 910, 919, 929, 939, 948, 958, 968, 977, 987, 997, 1006, 1016, 1026, 1035, 1045, 1055, 1064, 1074, 1084, 1093, 1103, 1113, 1122, 1132, 1142, 1151, 1161, 1171, 1180, 1190, 1200]\n{'n_estimators': [50, 59, 69, 78, 88, 98, 107, 117, 127, 136, 146, 156, 165, 175, 185, 194, 204, 214, 223, 233, 243, 252, 262, 272, 281, 291, 301, 310, 320, 330, 339, 349, 359, 368, 378, 388, 397, 407, 417, 426, 436, 446, 455, 465, 475, 484, 494, 504, 513, 523, 533, 542, 552, 562, 571, 581, 591, 600, 610, 620, 629, 639, 649, 658, 668, 678, 687, 697, 707, 716, 726, 736, 745, 755, 765, 774, 784, 794, 803, 813, 823, 832, 842, 852, 861, 871, 881, 890, 900, 910, 919, 929, 939, 948, 958, 968, 977, 987, 997, 1006, 1016, 1026, 1035, 1045, 1055, 1064, 1074, 1084, 1093, 1103, 1113, 1122, 1132, 1142, 1151, 1161, 1171, 1180, 1190, 1200], 'max_features': ['auto', 'sqrt'], 'max_depth': [5, 7, 9, 11, 14, 16, 18, 20, 23, 25, 27, 30], 'min_samples_split': [2, 5, 10, 15, 100], 'min_samples_leaf': [1, 2, 5, 10, 8, 7, 9, 15, 20]}\nFitting 10 folds for each of 10 candidates, totalling 100 fits\n"
     ]
    }
   ],
   "source": [
    "from sklearn.ensemble import RandomForestRegressor\n",
    "from sklearn.model_selection import RandomizedSearchCV\n",
    "regressor=RandomForestRegressor()\n",
    "n_estimators = [int(x) for x in np.linspace(start = 50, stop = 1200, num = 120)]\n",
    "print(n_estimators)\n",
    "# Number of features to consider at every split\n",
    "max_features = ['auto', 'sqrt']\n",
    "# Maximum number of levels in tree\n",
    "max_depth = [int(x) for x in np.linspace(5, 30, num = 12)]\n",
    "# max_depth.append(None)\n",
    "# Minimum number of samples required to split a node\n",
    "min_samples_split = [2, 5, 10, 15, 100]\n",
    "# Minimum number of samples required at each leaf node\n",
    "min_samples_leaf = [1, 2, 5, 10,8,7,9,15,20]\n",
    "random_grid = {'n_estimators': n_estimators,\n",
    "               'max_features': max_features,\n",
    "               'max_depth': max_depth,\n",
    "               'min_samples_split': min_samples_split,\n",
    "               'min_samples_leaf': min_samples_leaf}\n",
    "\n",
    "print(random_grid)\n",
    "rf = RandomForestRegressor()\n",
    "rf_random = RandomizedSearchCV(estimator = rf, param_distributions = random_grid,scoring='neg_mean_squared_error', n_iter = 10, cv =10 , verbose=2, random_state=42, n_jobs = -1)\n",
    "rf_random.fit(x_train,y_train)\n",
    "rf_random.best_params_\n",
    "rf_random.best_score_\n",
    "prediction=rf_random.predict(x_valid)"
   ]
  },
  {
   "cell_type": "code",
   "execution_count": 147,
   "metadata": {},
   "outputs": [],
   "source": [
    "prediction=rf_random.predict(x_valid)"
   ]
  },
  {
   "cell_type": "code",
   "execution_count": 150,
   "metadata": {},
   "outputs": [],
   "source": [
    "import seaborn as sns "
   ]
  },
  {
   "cell_type": "code",
   "execution_count": 151,
   "metadata": {},
   "outputs": [
    {
     "output_type": "stream",
     "name": "stderr",
     "text": [
      "C:\\Users\\swara\\AppData\\Local\\Programs\\Python\\Python39\\lib\\site-packages\\seaborn\\distributions.py:2557: FutureWarning: `distplot` is a deprecated function and will be removed in a future version. Please adapt your code to use either `displot` (a figure-level function with similar flexibility) or `histplot` (an axes-level function for histograms).\n  warnings.warn(msg, FutureWarning)\n"
     ]
    },
    {
     "output_type": "execute_result",
     "data": {
      "text/plain": [
       "<AxesSubplot:xlabel='Rent', ylabel='Density'>"
      ]
     },
     "metadata": {},
     "execution_count": 151
    },
    {
     "output_type": "display_data",
     "data": {
      "text/plain": "<Figure size 432x288 with 1 Axes>",
      "image/svg+xml": "<?xml version=\"1.0\" encoding=\"utf-8\" standalone=\"no\"?>\r\n<!DOCTYPE svg PUBLIC \"-//W3C//DTD SVG 1.1//EN\"\r\n  \"http://www.w3.org/Graphics/SVG/1.1/DTD/svg11.dtd\">\r\n<svg height=\"262.19625pt\" version=\"1.1\" viewBox=\"0 0 411.23125 262.19625\" width=\"411.23125pt\" xmlns=\"http://www.w3.org/2000/svg\" xmlns:xlink=\"http://www.w3.org/1999/xlink\">\r\n <metadata>\r\n  <rdf:RDF xmlns:cc=\"http://creativecommons.org/ns#\" xmlns:dc=\"http://purl.org/dc/elements/1.1/\" xmlns:rdf=\"http://www.w3.org/1999/02/22-rdf-syntax-ns#\">\r\n   <cc:Work>\r\n    <dc:type rdf:resource=\"http://purl.org/dc/dcmitype/StillImage\"/>\r\n    <dc:date>2021-04-14T00:48:12.736221</dc:date>\r\n    <dc:format>image/svg+xml</dc:format>\r\n    <dc:creator>\r\n     <cc:Agent>\r\n      <dc:title>Matplotlib v3.4.1, https://matplotlib.org/</dc:title>\r\n     </cc:Agent>\r\n    </dc:creator>\r\n   </cc:Work>\r\n  </rdf:RDF>\r\n </metadata>\r\n <defs>\r\n  <style type=\"text/css\">*{stroke-linecap:butt;stroke-linejoin:round;}</style>\r\n </defs>\r\n <g id=\"figure_1\">\r\n  <g id=\"patch_1\">\r\n   <path d=\"M 0 262.19625 \r\nL 411.23125 262.19625 \r\nL 411.23125 0 \r\nL 0 0 \r\nz\r\n\" style=\"fill:none;\"/>\r\n  </g>\r\n  <g id=\"axes_1\">\r\n   <g id=\"patch_2\">\r\n    <path d=\"M 69.23125 224.64 \r\nL 404.03125 224.64 \r\nL 404.03125 7.2 \r\nL 69.23125 7.2 \r\nz\r\n\" style=\"fill:#ffffff;\"/>\r\n   </g>\r\n   <g id=\"patch_3\">\r\n    <path clip-path=\"url(#p17605f79e6)\" d=\"M 94.611844 224.64 \r\nL 100.29262 224.64 \r\nL 100.29262 224.107646 \r\nL 94.611844 224.107646 \r\nz\r\n\" style=\"fill:#1f77b4;opacity:0.4;\"/>\r\n   </g>\r\n   <g id=\"patch_4\">\r\n    <path clip-path=\"url(#p17605f79e6)\" d=\"M 100.29262 224.64 \r\nL 105.973396 224.64 \r\nL 105.973396 224.64 \r\nL 100.29262 224.64 \r\nz\r\n\" style=\"fill:#1f77b4;opacity:0.4;\"/>\r\n   </g>\r\n   <g id=\"patch_5\">\r\n    <path clip-path=\"url(#p17605f79e6)\" d=\"M 105.973396 224.64 \r\nL 111.654172 224.64 \r\nL 111.654172 224.64 \r\nL 105.973396 224.64 \r\nz\r\n\" style=\"fill:#1f77b4;opacity:0.4;\"/>\r\n   </g>\r\n   <g id=\"patch_6\">\r\n    <path clip-path=\"url(#p17605f79e6)\" d=\"M 111.654172 224.64 \r\nL 117.334949 224.64 \r\nL 117.334949 224.64 \r\nL 111.654172 224.64 \r\nz\r\n\" style=\"fill:#1f77b4;opacity:0.4;\"/>\r\n   </g>\r\n   <g id=\"patch_7\">\r\n    <path clip-path=\"url(#p17605f79e6)\" d=\"M 117.334949 224.64 \r\nL 123.015725 224.64 \r\nL 123.015725 223.575292 \r\nL 117.334949 223.575292 \r\nz\r\n\" style=\"fill:#1f77b4;opacity:0.4;\"/>\r\n   </g>\r\n   <g id=\"patch_8\">\r\n    <path clip-path=\"url(#p17605f79e6)\" d=\"M 123.015725 224.64 \r\nL 128.696501 224.64 \r\nL 128.696501 224.64 \r\nL 123.015725 224.64 \r\nz\r\n\" style=\"fill:#1f77b4;opacity:0.4;\"/>\r\n   </g>\r\n   <g id=\"patch_9\">\r\n    <path clip-path=\"url(#p17605f79e6)\" d=\"M 128.696501 224.64 \r\nL 134.377277 224.64 \r\nL 134.377277 224.107646 \r\nL 128.696501 224.107646 \r\nz\r\n\" style=\"fill:#1f77b4;opacity:0.4;\"/>\r\n   </g>\r\n   <g id=\"patch_10\">\r\n    <path clip-path=\"url(#p17605f79e6)\" d=\"M 134.377277 224.64 \r\nL 140.058054 224.64 \r\nL 140.058054 224.107646 \r\nL 134.377277 224.107646 \r\nz\r\n\" style=\"fill:#1f77b4;opacity:0.4;\"/>\r\n   </g>\r\n   <g id=\"patch_11\">\r\n    <path clip-path=\"url(#p17605f79e6)\" d=\"M 140.058054 224.64 \r\nL 145.73883 224.64 \r\nL 145.73883 223.042938 \r\nL 140.058054 223.042938 \r\nz\r\n\" style=\"fill:#1f77b4;opacity:0.4;\"/>\r\n   </g>\r\n   <g id=\"patch_12\">\r\n    <path clip-path=\"url(#p17605f79e6)\" d=\"M 145.73883 224.64 \r\nL 151.419606 224.64 \r\nL 151.419606 222.510584 \r\nL 145.73883 222.510584 \r\nz\r\n\" style=\"fill:#1f77b4;opacity:0.4;\"/>\r\n   </g>\r\n   <g id=\"patch_13\">\r\n    <path clip-path=\"url(#p17605f79e6)\" d=\"M 151.419606 224.64 \r\nL 157.100382 224.64 \r\nL 157.100382 218.784106 \r\nL 151.419606 218.784106 \r\nz\r\n\" style=\"fill:#1f77b4;opacity:0.4;\"/>\r\n   </g>\r\n   <g id=\"patch_14\">\r\n    <path clip-path=\"url(#p17605f79e6)\" d=\"M 157.100382 224.64 \r\nL 162.781159 224.64 \r\nL 162.781159 220.381168 \r\nL 157.100382 220.381168 \r\nz\r\n\" style=\"fill:#1f77b4;opacity:0.4;\"/>\r\n   </g>\r\n   <g id=\"patch_15\">\r\n    <path clip-path=\"url(#p17605f79e6)\" d=\"M 162.781159 224.64 \r\nL 168.461935 224.64 \r\nL 168.461935 204.942901 \r\nL 162.781159 204.942901 \r\nz\r\n\" style=\"fill:#1f77b4;opacity:0.4;\"/>\r\n   </g>\r\n   <g id=\"patch_16\">\r\n    <path clip-path=\"url(#p17605f79e6)\" d=\"M 168.461935 224.64 \r\nL 174.142711 224.64 \r\nL 174.142711 168.210474 \r\nL 168.461935 168.210474 \r\nz\r\n\" style=\"fill:#1f77b4;opacity:0.4;\"/>\r\n   </g>\r\n   <g id=\"patch_17\">\r\n    <path clip-path=\"url(#p17605f79e6)\" d=\"M 174.142711 224.64 \r\nL 179.823487 224.64 \r\nL 179.823487 78.242644 \r\nL 174.142711 78.242644 \r\nz\r\n\" style=\"fill:#1f77b4;opacity:0.4;\"/>\r\n   </g>\r\n   <g id=\"patch_18\">\r\n    <path clip-path=\"url(#p17605f79e6)\" d=\"M 179.823487 224.64 \r\nL 185.504264 224.64 \r\nL 185.504264 17.554286 \r\nL 179.823487 17.554286 \r\nz\r\n\" style=\"fill:#1f77b4;opacity:0.4;\"/>\r\n   </g>\r\n   <g id=\"patch_19\">\r\n    <path clip-path=\"url(#p17605f79e6)\" d=\"M 185.504264 224.64 \r\nL 191.18504 224.64 \r\nL 191.18504 88.357371 \r\nL 185.504264 88.357371 \r\nz\r\n\" style=\"fill:#1f77b4;opacity:0.4;\"/>\r\n   </g>\r\n   <g id=\"patch_20\">\r\n    <path clip-path=\"url(#p17605f79e6)\" d=\"M 191.18504 224.64 \r\nL 196.865816 224.64 \r\nL 196.865816 138.398649 \r\nL 191.18504 138.398649 \r\nz\r\n\" style=\"fill:#1f77b4;opacity:0.4;\"/>\r\n   </g>\r\n   <g id=\"patch_21\">\r\n    <path clip-path=\"url(#p17605f79e6)\" d=\"M 196.865816 224.64 \r\nL 202.546592 224.64 \r\nL 202.546592 180.454616 \r\nL 196.865816 180.454616 \r\nz\r\n\" style=\"fill:#1f77b4;opacity:0.4;\"/>\r\n   </g>\r\n   <g id=\"patch_22\">\r\n    <path clip-path=\"url(#p17605f79e6)\" d=\"M 202.546592 224.64 \r\nL 208.227369 224.64 \r\nL 208.227369 208.669379 \r\nL 202.546592 208.669379 \r\nz\r\n\" style=\"fill:#1f77b4;opacity:0.4;\"/>\r\n   </g>\r\n   <g id=\"patch_23\">\r\n    <path clip-path=\"url(#p17605f79e6)\" d=\"M 208.227369 224.64 \r\nL 213.908145 224.64 \r\nL 213.908145 215.589982 \r\nL 208.227369 215.589982 \r\nz\r\n\" style=\"fill:#1f77b4;opacity:0.4;\"/>\r\n   </g>\r\n   <g id=\"patch_24\">\r\n    <path clip-path=\"url(#p17605f79e6)\" d=\"M 213.908145 224.64 \r\nL 219.588921 224.64 \r\nL 219.588921 218.251752 \r\nL 213.908145 218.251752 \r\nz\r\n\" style=\"fill:#1f77b4;opacity:0.4;\"/>\r\n   </g>\r\n   <g id=\"patch_25\">\r\n    <path clip-path=\"url(#p17605f79e6)\" d=\"M 219.588921 224.64 \r\nL 225.269697 224.64 \r\nL 225.269697 221.97823 \r\nL 219.588921 221.97823 \r\nz\r\n\" style=\"fill:#1f77b4;opacity:0.4;\"/>\r\n   </g>\r\n   <g id=\"patch_26\">\r\n    <path clip-path=\"url(#p17605f79e6)\" d=\"M 225.269697 224.64 \r\nL 230.950474 224.64 \r\nL 230.950474 224.107646 \r\nL 225.269697 224.107646 \r\nz\r\n\" style=\"fill:#1f77b4;opacity:0.4;\"/>\r\n   </g>\r\n   <g id=\"patch_27\">\r\n    <path clip-path=\"url(#p17605f79e6)\" d=\"M 230.950474 224.64 \r\nL 236.63125 224.64 \r\nL 236.63125 224.107646 \r\nL 230.950474 224.107646 \r\nz\r\n\" style=\"fill:#1f77b4;opacity:0.4;\"/>\r\n   </g>\r\n   <g id=\"patch_28\">\r\n    <path clip-path=\"url(#p17605f79e6)\" d=\"M 236.63125 224.64 \r\nL 242.312026 224.64 \r\nL 242.312026 223.042938 \r\nL 236.63125 223.042938 \r\nz\r\n\" style=\"fill:#1f77b4;opacity:0.4;\"/>\r\n   </g>\r\n   <g id=\"patch_29\">\r\n    <path clip-path=\"url(#p17605f79e6)\" d=\"M 242.312026 224.64 \r\nL 247.992803 224.64 \r\nL 247.992803 223.575292 \r\nL 242.312026 223.575292 \r\nz\r\n\" style=\"fill:#1f77b4;opacity:0.4;\"/>\r\n   </g>\r\n   <g id=\"patch_30\">\r\n    <path clip-path=\"url(#p17605f79e6)\" d=\"M 247.992803 224.64 \r\nL 253.673579 224.64 \r\nL 253.673579 224.64 \r\nL 247.992803 224.64 \r\nz\r\n\" style=\"fill:#1f77b4;opacity:0.4;\"/>\r\n   </g>\r\n   <g id=\"patch_31\">\r\n    <path clip-path=\"url(#p17605f79e6)\" d=\"M 253.673579 224.64 \r\nL 259.354355 224.64 \r\nL 259.354355 224.64 \r\nL 253.673579 224.64 \r\nz\r\n\" style=\"fill:#1f77b4;opacity:0.4;\"/>\r\n   </g>\r\n   <g id=\"patch_32\">\r\n    <path clip-path=\"url(#p17605f79e6)\" d=\"M 259.354355 224.64 \r\nL 265.035131 224.64 \r\nL 265.035131 224.107646 \r\nL 259.354355 224.107646 \r\nz\r\n\" style=\"fill:#1f77b4;opacity:0.4;\"/>\r\n   </g>\r\n   <g id=\"patch_33\">\r\n    <path clip-path=\"url(#p17605f79e6)\" d=\"M 265.035131 224.64 \r\nL 270.715908 224.64 \r\nL 270.715908 223.575292 \r\nL 265.035131 223.575292 \r\nz\r\n\" style=\"fill:#1f77b4;opacity:0.4;\"/>\r\n   </g>\r\n   <g id=\"patch_34\">\r\n    <path clip-path=\"url(#p17605f79e6)\" d=\"M 270.715908 224.64 \r\nL 276.396684 224.64 \r\nL 276.396684 224.64 \r\nL 270.715908 224.64 \r\nz\r\n\" style=\"fill:#1f77b4;opacity:0.4;\"/>\r\n   </g>\r\n   <g id=\"patch_35\">\r\n    <path clip-path=\"url(#p17605f79e6)\" d=\"M 276.396684 224.64 \r\nL 282.07746 224.64 \r\nL 282.07746 224.107646 \r\nL 276.396684 224.107646 \r\nz\r\n\" style=\"fill:#1f77b4;opacity:0.4;\"/>\r\n   </g>\r\n   <g id=\"patch_36\">\r\n    <path clip-path=\"url(#p17605f79e6)\" d=\"M 282.07746 224.64 \r\nL 287.758236 224.64 \r\nL 287.758236 224.64 \r\nL 282.07746 224.64 \r\nz\r\n\" style=\"fill:#1f77b4;opacity:0.4;\"/>\r\n   </g>\r\n   <g id=\"patch_37\">\r\n    <path clip-path=\"url(#p17605f79e6)\" d=\"M 287.758236 224.64 \r\nL 293.439013 224.64 \r\nL 293.439013 224.64 \r\nL 287.758236 224.64 \r\nz\r\n\" style=\"fill:#1f77b4;opacity:0.4;\"/>\r\n   </g>\r\n   <g id=\"patch_38\">\r\n    <path clip-path=\"url(#p17605f79e6)\" d=\"M 293.439013 224.64 \r\nL 299.119789 224.64 \r\nL 299.119789 224.64 \r\nL 293.439013 224.64 \r\nz\r\n\" style=\"fill:#1f77b4;opacity:0.4;\"/>\r\n   </g>\r\n   <g id=\"patch_39\">\r\n    <path clip-path=\"url(#p17605f79e6)\" d=\"M 299.119789 224.64 \r\nL 304.800565 224.64 \r\nL 304.800565 224.64 \r\nL 299.119789 224.64 \r\nz\r\n\" style=\"fill:#1f77b4;opacity:0.4;\"/>\r\n   </g>\r\n   <g id=\"patch_40\">\r\n    <path clip-path=\"url(#p17605f79e6)\" d=\"M 304.800565 224.64 \r\nL 310.481341 224.64 \r\nL 310.481341 224.107646 \r\nL 304.800565 224.107646 \r\nz\r\n\" style=\"fill:#1f77b4;opacity:0.4;\"/>\r\n   </g>\r\n   <g id=\"patch_41\">\r\n    <path clip-path=\"url(#p17605f79e6)\" d=\"M 310.481341 224.64 \r\nL 316.162118 224.64 \r\nL 316.162118 224.64 \r\nL 310.481341 224.64 \r\nz\r\n\" style=\"fill:#1f77b4;opacity:0.4;\"/>\r\n   </g>\r\n   <g id=\"patch_42\">\r\n    <path clip-path=\"url(#p17605f79e6)\" d=\"M 316.162118 224.64 \r\nL 321.842894 224.64 \r\nL 321.842894 224.107646 \r\nL 316.162118 224.107646 \r\nz\r\n\" style=\"fill:#1f77b4;opacity:0.4;\"/>\r\n   </g>\r\n   <g id=\"patch_43\">\r\n    <path clip-path=\"url(#p17605f79e6)\" d=\"M 321.842894 224.64 \r\nL 327.52367 224.64 \r\nL 327.52367 224.64 \r\nL 321.842894 224.64 \r\nz\r\n\" style=\"fill:#1f77b4;opacity:0.4;\"/>\r\n   </g>\r\n   <g id=\"patch_44\">\r\n    <path clip-path=\"url(#p17605f79e6)\" d=\"M 327.52367 224.64 \r\nL 333.204446 224.64 \r\nL 333.204446 224.64 \r\nL 327.52367 224.64 \r\nz\r\n\" style=\"fill:#1f77b4;opacity:0.4;\"/>\r\n   </g>\r\n   <g id=\"patch_45\">\r\n    <path clip-path=\"url(#p17605f79e6)\" d=\"M 333.204446 224.64 \r\nL 338.885223 224.64 \r\nL 338.885223 224.64 \r\nL 333.204446 224.64 \r\nz\r\n\" style=\"fill:#1f77b4;opacity:0.4;\"/>\r\n   </g>\r\n   <g id=\"patch_46\">\r\n    <path clip-path=\"url(#p17605f79e6)\" d=\"M 338.885223 224.64 \r\nL 344.565999 224.64 \r\nL 344.565999 224.64 \r\nL 338.885223 224.64 \r\nz\r\n\" style=\"fill:#1f77b4;opacity:0.4;\"/>\r\n   </g>\r\n   <g id=\"patch_47\">\r\n    <path clip-path=\"url(#p17605f79e6)\" d=\"M 344.565999 224.64 \r\nL 350.246775 224.64 \r\nL 350.246775 224.64 \r\nL 344.565999 224.64 \r\nz\r\n\" style=\"fill:#1f77b4;opacity:0.4;\"/>\r\n   </g>\r\n   <g id=\"patch_48\">\r\n    <path clip-path=\"url(#p17605f79e6)\" d=\"M 350.246775 224.64 \r\nL 355.927551 224.64 \r\nL 355.927551 224.64 \r\nL 350.246775 224.64 \r\nz\r\n\" style=\"fill:#1f77b4;opacity:0.4;\"/>\r\n   </g>\r\n   <g id=\"patch_49\">\r\n    <path clip-path=\"url(#p17605f79e6)\" d=\"M 355.927551 224.64 \r\nL 361.608328 224.64 \r\nL 361.608328 224.64 \r\nL 355.927551 224.64 \r\nz\r\n\" style=\"fill:#1f77b4;opacity:0.4;\"/>\r\n   </g>\r\n   <g id=\"patch_50\">\r\n    <path clip-path=\"url(#p17605f79e6)\" d=\"M 361.608328 224.64 \r\nL 367.289104 224.64 \r\nL 367.289104 224.64 \r\nL 361.608328 224.64 \r\nz\r\n\" style=\"fill:#1f77b4;opacity:0.4;\"/>\r\n   </g>\r\n   <g id=\"patch_51\">\r\n    <path clip-path=\"url(#p17605f79e6)\" d=\"M 367.289104 224.64 \r\nL 372.96988 224.64 \r\nL 372.96988 224.64 \r\nL 367.289104 224.64 \r\nz\r\n\" style=\"fill:#1f77b4;opacity:0.4;\"/>\r\n   </g>\r\n   <g id=\"patch_52\">\r\n    <path clip-path=\"url(#p17605f79e6)\" d=\"M 372.96988 224.64 \r\nL 378.650656 224.64 \r\nL 378.650656 224.107646 \r\nL 372.96988 224.107646 \r\nz\r\n\" style=\"fill:#1f77b4;opacity:0.4;\"/>\r\n   </g>\r\n   <g id=\"matplotlib.axis_1\">\r\n    <g id=\"xtick_1\">\r\n     <g id=\"line2d_1\">\r\n      <defs>\r\n       <path d=\"M 0 0 \r\nL 0 3.5 \r\n\" id=\"mb98790a7db\" style=\"stroke:#000000;stroke-width:0.8;\"/>\r\n      </defs>\r\n      <g>\r\n       <use style=\"stroke:#000000;stroke-width:0.8;\" x=\"124.098025\" xlink:href=\"#mb98790a7db\" y=\"224.64\"/>\r\n      </g>\r\n     </g>\r\n     <g id=\"text_1\">\r\n      <!-- −20000 -->\r\n      <g transform=\"translate(104.001931 239.238437)scale(0.1 -0.1)\">\r\n       <defs>\r\n        <path d=\"M 678 2272 \r\nL 4684 2272 \r\nL 4684 1741 \r\nL 678 1741 \r\nL 678 2272 \r\nz\r\n\" id=\"DejaVuSans-2212\" transform=\"scale(0.015625)\"/>\r\n        <path d=\"M 1228 531 \r\nL 3431 531 \r\nL 3431 0 \r\nL 469 0 \r\nL 469 531 \r\nQ 828 903 1448 1529 \r\nQ 2069 2156 2228 2338 \r\nQ 2531 2678 2651 2914 \r\nQ 2772 3150 2772 3378 \r\nQ 2772 3750 2511 3984 \r\nQ 2250 4219 1831 4219 \r\nQ 1534 4219 1204 4116 \r\nQ 875 4013 500 3803 \r\nL 500 4441 \r\nQ 881 4594 1212 4672 \r\nQ 1544 4750 1819 4750 \r\nQ 2544 4750 2975 4387 \r\nQ 3406 4025 3406 3419 \r\nQ 3406 3131 3298 2873 \r\nQ 3191 2616 2906 2266 \r\nQ 2828 2175 2409 1742 \r\nQ 1991 1309 1228 531 \r\nz\r\n\" id=\"DejaVuSans-32\" transform=\"scale(0.015625)\"/>\r\n        <path d=\"M 2034 4250 \r\nQ 1547 4250 1301 3770 \r\nQ 1056 3291 1056 2328 \r\nQ 1056 1369 1301 889 \r\nQ 1547 409 2034 409 \r\nQ 2525 409 2770 889 \r\nQ 3016 1369 3016 2328 \r\nQ 3016 3291 2770 3770 \r\nQ 2525 4250 2034 4250 \r\nz\r\nM 2034 4750 \r\nQ 2819 4750 3233 4129 \r\nQ 3647 3509 3647 2328 \r\nQ 3647 1150 3233 529 \r\nQ 2819 -91 2034 -91 \r\nQ 1250 -91 836 529 \r\nQ 422 1150 422 2328 \r\nQ 422 3509 836 4129 \r\nQ 1250 4750 2034 4750 \r\nz\r\n\" id=\"DejaVuSans-30\" transform=\"scale(0.015625)\"/>\r\n       </defs>\r\n       <use xlink:href=\"#DejaVuSans-2212\"/>\r\n       <use x=\"83.789062\" xlink:href=\"#DejaVuSans-32\"/>\r\n       <use x=\"147.412109\" xlink:href=\"#DejaVuSans-30\"/>\r\n       <use x=\"211.035156\" xlink:href=\"#DejaVuSans-30\"/>\r\n       <use x=\"274.658203\" xlink:href=\"#DejaVuSans-30\"/>\r\n       <use x=\"338.28125\" xlink:href=\"#DejaVuSans-30\"/>\r\n      </g>\r\n     </g>\r\n    </g>\r\n    <g id=\"xtick_2\">\r\n     <g id=\"line2d_2\">\r\n      <g>\r\n       <use style=\"stroke:#000000;stroke-width:0.8;\" x=\"184.646503\" xlink:href=\"#mb98790a7db\" y=\"224.64\"/>\r\n      </g>\r\n     </g>\r\n     <g id=\"text_2\">\r\n      <!-- 0 -->\r\n      <g transform=\"translate(181.465253 239.238437)scale(0.1 -0.1)\">\r\n       <use xlink:href=\"#DejaVuSans-30\"/>\r\n      </g>\r\n     </g>\r\n    </g>\r\n    <g id=\"xtick_3\">\r\n     <g id=\"line2d_3\">\r\n      <g>\r\n       <use style=\"stroke:#000000;stroke-width:0.8;\" x=\"245.194982\" xlink:href=\"#mb98790a7db\" y=\"224.64\"/>\r\n      </g>\r\n     </g>\r\n     <g id=\"text_3\">\r\n      <!-- 20000 -->\r\n      <g transform=\"translate(229.288732 239.238437)scale(0.1 -0.1)\">\r\n       <use xlink:href=\"#DejaVuSans-32\"/>\r\n       <use x=\"63.623047\" xlink:href=\"#DejaVuSans-30\"/>\r\n       <use x=\"127.246094\" xlink:href=\"#DejaVuSans-30\"/>\r\n       <use x=\"190.869141\" xlink:href=\"#DejaVuSans-30\"/>\r\n       <use x=\"254.492188\" xlink:href=\"#DejaVuSans-30\"/>\r\n      </g>\r\n     </g>\r\n    </g>\r\n    <g id=\"xtick_4\">\r\n     <g id=\"line2d_4\">\r\n      <g>\r\n       <use style=\"stroke:#000000;stroke-width:0.8;\" x=\"305.74346\" xlink:href=\"#mb98790a7db\" y=\"224.64\"/>\r\n      </g>\r\n     </g>\r\n     <g id=\"text_4\">\r\n      <!-- 40000 -->\r\n      <g transform=\"translate(289.83721 239.238437)scale(0.1 -0.1)\">\r\n       <defs>\r\n        <path d=\"M 2419 4116 \r\nL 825 1625 \r\nL 2419 1625 \r\nL 2419 4116 \r\nz\r\nM 2253 4666 \r\nL 3047 4666 \r\nL 3047 1625 \r\nL 3713 1625 \r\nL 3713 1100 \r\nL 3047 1100 \r\nL 3047 0 \r\nL 2419 0 \r\nL 2419 1100 \r\nL 313 1100 \r\nL 313 1709 \r\nL 2253 4666 \r\nz\r\n\" id=\"DejaVuSans-34\" transform=\"scale(0.015625)\"/>\r\n       </defs>\r\n       <use xlink:href=\"#DejaVuSans-34\"/>\r\n       <use x=\"63.623047\" xlink:href=\"#DejaVuSans-30\"/>\r\n       <use x=\"127.246094\" xlink:href=\"#DejaVuSans-30\"/>\r\n       <use x=\"190.869141\" xlink:href=\"#DejaVuSans-30\"/>\r\n       <use x=\"254.492188\" xlink:href=\"#DejaVuSans-30\"/>\r\n      </g>\r\n     </g>\r\n    </g>\r\n    <g id=\"xtick_5\">\r\n     <g id=\"line2d_5\">\r\n      <g>\r\n       <use style=\"stroke:#000000;stroke-width:0.8;\" x=\"366.291939\" xlink:href=\"#mb98790a7db\" y=\"224.64\"/>\r\n      </g>\r\n     </g>\r\n     <g id=\"text_5\">\r\n      <!-- 60000 -->\r\n      <g transform=\"translate(350.385689 239.238437)scale(0.1 -0.1)\">\r\n       <defs>\r\n        <path d=\"M 2113 2584 \r\nQ 1688 2584 1439 2293 \r\nQ 1191 2003 1191 1497 \r\nQ 1191 994 1439 701 \r\nQ 1688 409 2113 409 \r\nQ 2538 409 2786 701 \r\nQ 3034 994 3034 1497 \r\nQ 3034 2003 2786 2293 \r\nQ 2538 2584 2113 2584 \r\nz\r\nM 3366 4563 \r\nL 3366 3988 \r\nQ 3128 4100 2886 4159 \r\nQ 2644 4219 2406 4219 \r\nQ 1781 4219 1451 3797 \r\nQ 1122 3375 1075 2522 \r\nQ 1259 2794 1537 2939 \r\nQ 1816 3084 2150 3084 \r\nQ 2853 3084 3261 2657 \r\nQ 3669 2231 3669 1497 \r\nQ 3669 778 3244 343 \r\nQ 2819 -91 2113 -91 \r\nQ 1303 -91 875 529 \r\nQ 447 1150 447 2328 \r\nQ 447 3434 972 4092 \r\nQ 1497 4750 2381 4750 \r\nQ 2619 4750 2861 4703 \r\nQ 3103 4656 3366 4563 \r\nz\r\n\" id=\"DejaVuSans-36\" transform=\"scale(0.015625)\"/>\r\n       </defs>\r\n       <use xlink:href=\"#DejaVuSans-36\"/>\r\n       <use x=\"63.623047\" xlink:href=\"#DejaVuSans-30\"/>\r\n       <use x=\"127.246094\" xlink:href=\"#DejaVuSans-30\"/>\r\n       <use x=\"190.869141\" xlink:href=\"#DejaVuSans-30\"/>\r\n       <use x=\"254.492188\" xlink:href=\"#DejaVuSans-30\"/>\r\n      </g>\r\n     </g>\r\n    </g>\r\n    <g id=\"text_6\">\r\n     <!-- Rent -->\r\n     <g transform=\"translate(225.176563 252.916562)scale(0.1 -0.1)\">\r\n      <defs>\r\n       <path d=\"M 2841 2188 \r\nQ 3044 2119 3236 1894 \r\nQ 3428 1669 3622 1275 \r\nL 4263 0 \r\nL 3584 0 \r\nL 2988 1197 \r\nQ 2756 1666 2539 1819 \r\nQ 2322 1972 1947 1972 \r\nL 1259 1972 \r\nL 1259 0 \r\nL 628 0 \r\nL 628 4666 \r\nL 2053 4666 \r\nQ 2853 4666 3247 4331 \r\nQ 3641 3997 3641 3322 \r\nQ 3641 2881 3436 2590 \r\nQ 3231 2300 2841 2188 \r\nz\r\nM 1259 4147 \r\nL 1259 2491 \r\nL 2053 2491 \r\nQ 2509 2491 2742 2702 \r\nQ 2975 2913 2975 3322 \r\nQ 2975 3731 2742 3939 \r\nQ 2509 4147 2053 4147 \r\nL 1259 4147 \r\nz\r\n\" id=\"DejaVuSans-52\" transform=\"scale(0.015625)\"/>\r\n       <path d=\"M 3597 1894 \r\nL 3597 1613 \r\nL 953 1613 \r\nQ 991 1019 1311 708 \r\nQ 1631 397 2203 397 \r\nQ 2534 397 2845 478 \r\nQ 3156 559 3463 722 \r\nL 3463 178 \r\nQ 3153 47 2828 -22 \r\nQ 2503 -91 2169 -91 \r\nQ 1331 -91 842 396 \r\nQ 353 884 353 1716 \r\nQ 353 2575 817 3079 \r\nQ 1281 3584 2069 3584 \r\nQ 2775 3584 3186 3129 \r\nQ 3597 2675 3597 1894 \r\nz\r\nM 3022 2063 \r\nQ 3016 2534 2758 2815 \r\nQ 2500 3097 2075 3097 \r\nQ 1594 3097 1305 2825 \r\nQ 1016 2553 972 2059 \r\nL 3022 2063 \r\nz\r\n\" id=\"DejaVuSans-65\" transform=\"scale(0.015625)\"/>\r\n       <path d=\"M 3513 2113 \r\nL 3513 0 \r\nL 2938 0 \r\nL 2938 2094 \r\nQ 2938 2591 2744 2837 \r\nQ 2550 3084 2163 3084 \r\nQ 1697 3084 1428 2787 \r\nQ 1159 2491 1159 1978 \r\nL 1159 0 \r\nL 581 0 \r\nL 581 3500 \r\nL 1159 3500 \r\nL 1159 2956 \r\nQ 1366 3272 1645 3428 \r\nQ 1925 3584 2291 3584 \r\nQ 2894 3584 3203 3211 \r\nQ 3513 2838 3513 2113 \r\nz\r\n\" id=\"DejaVuSans-6e\" transform=\"scale(0.015625)\"/>\r\n       <path d=\"M 1172 4494 \r\nL 1172 3500 \r\nL 2356 3500 \r\nL 2356 3053 \r\nL 1172 3053 \r\nL 1172 1153 \r\nQ 1172 725 1289 603 \r\nQ 1406 481 1766 481 \r\nL 2356 481 \r\nL 2356 0 \r\nL 1766 0 \r\nQ 1100 0 847 248 \r\nQ 594 497 594 1153 \r\nL 594 3053 \r\nL 172 3053 \r\nL 172 3500 \r\nL 594 3500 \r\nL 594 4494 \r\nL 1172 4494 \r\nz\r\n\" id=\"DejaVuSans-74\" transform=\"scale(0.015625)\"/>\r\n      </defs>\r\n      <use xlink:href=\"#DejaVuSans-52\"/>\r\n      <use x=\"64.982422\" xlink:href=\"#DejaVuSans-65\"/>\r\n      <use x=\"126.505859\" xlink:href=\"#DejaVuSans-6e\"/>\r\n      <use x=\"189.884766\" xlink:href=\"#DejaVuSans-74\"/>\r\n     </g>\r\n    </g>\r\n   </g>\r\n   <g id=\"matplotlib.axis_2\">\r\n    <g id=\"ytick_1\">\r\n     <g id=\"line2d_6\">\r\n      <defs>\r\n       <path d=\"M 0 0 \r\nL -3.5 0 \r\n\" id=\"m982461d7e6\" style=\"stroke:#000000;stroke-width:0.8;\"/>\r\n      </defs>\r\n      <g>\r\n       <use style=\"stroke:#000000;stroke-width:0.8;\" x=\"69.23125\" xlink:href=\"#m982461d7e6\" y=\"224.64\"/>\r\n      </g>\r\n     </g>\r\n     <g id=\"text_7\">\r\n      <!-- 0.00000 -->\r\n      <g transform=\"translate(20.878125 228.439219)scale(0.1 -0.1)\">\r\n       <defs>\r\n        <path d=\"M 684 794 \r\nL 1344 794 \r\nL 1344 0 \r\nL 684 0 \r\nL 684 794 \r\nz\r\n\" id=\"DejaVuSans-2e\" transform=\"scale(0.015625)\"/>\r\n       </defs>\r\n       <use xlink:href=\"#DejaVuSans-30\"/>\r\n       <use x=\"63.623047\" xlink:href=\"#DejaVuSans-2e\"/>\r\n       <use x=\"95.410156\" xlink:href=\"#DejaVuSans-30\"/>\r\n       <use x=\"159.033203\" xlink:href=\"#DejaVuSans-30\"/>\r\n       <use x=\"222.65625\" xlink:href=\"#DejaVuSans-30\"/>\r\n       <use x=\"286.279297\" xlink:href=\"#DejaVuSans-30\"/>\r\n       <use x=\"349.902344\" xlink:href=\"#DejaVuSans-30\"/>\r\n      </g>\r\n     </g>\r\n    </g>\r\n    <g id=\"ytick_2\">\r\n     <g id=\"line2d_7\">\r\n      <g>\r\n       <use style=\"stroke:#000000;stroke-width:0.8;\" x=\"69.23125\" xlink:href=\"#m982461d7e6\" y=\"196.330329\"/>\r\n      </g>\r\n     </g>\r\n     <g id=\"text_8\">\r\n      <!-- 0.00002 -->\r\n      <g transform=\"translate(20.878125 200.129547)scale(0.1 -0.1)\">\r\n       <use xlink:href=\"#DejaVuSans-30\"/>\r\n       <use x=\"63.623047\" xlink:href=\"#DejaVuSans-2e\"/>\r\n       <use x=\"95.410156\" xlink:href=\"#DejaVuSans-30\"/>\r\n       <use x=\"159.033203\" xlink:href=\"#DejaVuSans-30\"/>\r\n       <use x=\"222.65625\" xlink:href=\"#DejaVuSans-30\"/>\r\n       <use x=\"286.279297\" xlink:href=\"#DejaVuSans-30\"/>\r\n       <use x=\"349.902344\" xlink:href=\"#DejaVuSans-32\"/>\r\n      </g>\r\n     </g>\r\n    </g>\r\n    <g id=\"ytick_3\">\r\n     <g id=\"line2d_8\">\r\n      <g>\r\n       <use style=\"stroke:#000000;stroke-width:0.8;\" x=\"69.23125\" xlink:href=\"#m982461d7e6\" y=\"168.020657\"/>\r\n      </g>\r\n     </g>\r\n     <g id=\"text_9\">\r\n      <!-- 0.00004 -->\r\n      <g transform=\"translate(20.878125 171.819876)scale(0.1 -0.1)\">\r\n       <use xlink:href=\"#DejaVuSans-30\"/>\r\n       <use x=\"63.623047\" xlink:href=\"#DejaVuSans-2e\"/>\r\n       <use x=\"95.410156\" xlink:href=\"#DejaVuSans-30\"/>\r\n       <use x=\"159.033203\" xlink:href=\"#DejaVuSans-30\"/>\r\n       <use x=\"222.65625\" xlink:href=\"#DejaVuSans-30\"/>\r\n       <use x=\"286.279297\" xlink:href=\"#DejaVuSans-30\"/>\r\n       <use x=\"349.902344\" xlink:href=\"#DejaVuSans-34\"/>\r\n      </g>\r\n     </g>\r\n    </g>\r\n    <g id=\"ytick_4\">\r\n     <g id=\"line2d_9\">\r\n      <g>\r\n       <use style=\"stroke:#000000;stroke-width:0.8;\" x=\"69.23125\" xlink:href=\"#m982461d7e6\" y=\"139.710986\"/>\r\n      </g>\r\n     </g>\r\n     <g id=\"text_10\">\r\n      <!-- 0.00006 -->\r\n      <g transform=\"translate(20.878125 143.510204)scale(0.1 -0.1)\">\r\n       <use xlink:href=\"#DejaVuSans-30\"/>\r\n       <use x=\"63.623047\" xlink:href=\"#DejaVuSans-2e\"/>\r\n       <use x=\"95.410156\" xlink:href=\"#DejaVuSans-30\"/>\r\n       <use x=\"159.033203\" xlink:href=\"#DejaVuSans-30\"/>\r\n       <use x=\"222.65625\" xlink:href=\"#DejaVuSans-30\"/>\r\n       <use x=\"286.279297\" xlink:href=\"#DejaVuSans-30\"/>\r\n       <use x=\"349.902344\" xlink:href=\"#DejaVuSans-36\"/>\r\n      </g>\r\n     </g>\r\n    </g>\r\n    <g id=\"ytick_5\">\r\n     <g id=\"line2d_10\">\r\n      <g>\r\n       <use style=\"stroke:#000000;stroke-width:0.8;\" x=\"69.23125\" xlink:href=\"#m982461d7e6\" y=\"111.401314\"/>\r\n      </g>\r\n     </g>\r\n     <g id=\"text_11\">\r\n      <!-- 0.00008 -->\r\n      <g transform=\"translate(20.878125 115.200533)scale(0.1 -0.1)\">\r\n       <defs>\r\n        <path d=\"M 2034 2216 \r\nQ 1584 2216 1326 1975 \r\nQ 1069 1734 1069 1313 \r\nQ 1069 891 1326 650 \r\nQ 1584 409 2034 409 \r\nQ 2484 409 2743 651 \r\nQ 3003 894 3003 1313 \r\nQ 3003 1734 2745 1975 \r\nQ 2488 2216 2034 2216 \r\nz\r\nM 1403 2484 \r\nQ 997 2584 770 2862 \r\nQ 544 3141 544 3541 \r\nQ 544 4100 942 4425 \r\nQ 1341 4750 2034 4750 \r\nQ 2731 4750 3128 4425 \r\nQ 3525 4100 3525 3541 \r\nQ 3525 3141 3298 2862 \r\nQ 3072 2584 2669 2484 \r\nQ 3125 2378 3379 2068 \r\nQ 3634 1759 3634 1313 \r\nQ 3634 634 3220 271 \r\nQ 2806 -91 2034 -91 \r\nQ 1263 -91 848 271 \r\nQ 434 634 434 1313 \r\nQ 434 1759 690 2068 \r\nQ 947 2378 1403 2484 \r\nz\r\nM 1172 3481 \r\nQ 1172 3119 1398 2916 \r\nQ 1625 2713 2034 2713 \r\nQ 2441 2713 2670 2916 \r\nQ 2900 3119 2900 3481 \r\nQ 2900 3844 2670 4047 \r\nQ 2441 4250 2034 4250 \r\nQ 1625 4250 1398 4047 \r\nQ 1172 3844 1172 3481 \r\nz\r\n\" id=\"DejaVuSans-38\" transform=\"scale(0.015625)\"/>\r\n       </defs>\r\n       <use xlink:href=\"#DejaVuSans-30\"/>\r\n       <use x=\"63.623047\" xlink:href=\"#DejaVuSans-2e\"/>\r\n       <use x=\"95.410156\" xlink:href=\"#DejaVuSans-30\"/>\r\n       <use x=\"159.033203\" xlink:href=\"#DejaVuSans-30\"/>\r\n       <use x=\"222.65625\" xlink:href=\"#DejaVuSans-30\"/>\r\n       <use x=\"286.279297\" xlink:href=\"#DejaVuSans-30\"/>\r\n       <use x=\"349.902344\" xlink:href=\"#DejaVuSans-38\"/>\r\n      </g>\r\n     </g>\r\n    </g>\r\n    <g id=\"ytick_6\">\r\n     <g id=\"line2d_11\">\r\n      <g>\r\n       <use style=\"stroke:#000000;stroke-width:0.8;\" x=\"69.23125\" xlink:href=\"#m982461d7e6\" y=\"83.091643\"/>\r\n      </g>\r\n     </g>\r\n     <g id=\"text_12\">\r\n      <!-- 0.00010 -->\r\n      <g transform=\"translate(20.878125 86.890861)scale(0.1 -0.1)\">\r\n       <defs>\r\n        <path d=\"M 794 531 \r\nL 1825 531 \r\nL 1825 4091 \r\nL 703 3866 \r\nL 703 4441 \r\nL 1819 4666 \r\nL 2450 4666 \r\nL 2450 531 \r\nL 3481 531 \r\nL 3481 0 \r\nL 794 0 \r\nL 794 531 \r\nz\r\n\" id=\"DejaVuSans-31\" transform=\"scale(0.015625)\"/>\r\n       </defs>\r\n       <use xlink:href=\"#DejaVuSans-30\"/>\r\n       <use x=\"63.623047\" xlink:href=\"#DejaVuSans-2e\"/>\r\n       <use x=\"95.410156\" xlink:href=\"#DejaVuSans-30\"/>\r\n       <use x=\"159.033203\" xlink:href=\"#DejaVuSans-30\"/>\r\n       <use x=\"222.65625\" xlink:href=\"#DejaVuSans-30\"/>\r\n       <use x=\"286.279297\" xlink:href=\"#DejaVuSans-31\"/>\r\n       <use x=\"349.902344\" xlink:href=\"#DejaVuSans-30\"/>\r\n      </g>\r\n     </g>\r\n    </g>\r\n    <g id=\"ytick_7\">\r\n     <g id=\"line2d_12\">\r\n      <g>\r\n       <use style=\"stroke:#000000;stroke-width:0.8;\" x=\"69.23125\" xlink:href=\"#m982461d7e6\" y=\"54.781971\"/>\r\n      </g>\r\n     </g>\r\n     <g id=\"text_13\">\r\n      <!-- 0.00012 -->\r\n      <g transform=\"translate(20.878125 58.58119)scale(0.1 -0.1)\">\r\n       <use xlink:href=\"#DejaVuSans-30\"/>\r\n       <use x=\"63.623047\" xlink:href=\"#DejaVuSans-2e\"/>\r\n       <use x=\"95.410156\" xlink:href=\"#DejaVuSans-30\"/>\r\n       <use x=\"159.033203\" xlink:href=\"#DejaVuSans-30\"/>\r\n       <use x=\"222.65625\" xlink:href=\"#DejaVuSans-30\"/>\r\n       <use x=\"286.279297\" xlink:href=\"#DejaVuSans-31\"/>\r\n       <use x=\"349.902344\" xlink:href=\"#DejaVuSans-32\"/>\r\n      </g>\r\n     </g>\r\n    </g>\r\n    <g id=\"ytick_8\">\r\n     <g id=\"line2d_13\">\r\n      <g>\r\n       <use style=\"stroke:#000000;stroke-width:0.8;\" x=\"69.23125\" xlink:href=\"#m982461d7e6\" y=\"26.4723\"/>\r\n      </g>\r\n     </g>\r\n     <g id=\"text_14\">\r\n      <!-- 0.00014 -->\r\n      <g transform=\"translate(20.878125 30.271518)scale(0.1 -0.1)\">\r\n       <use xlink:href=\"#DejaVuSans-30\"/>\r\n       <use x=\"63.623047\" xlink:href=\"#DejaVuSans-2e\"/>\r\n       <use x=\"95.410156\" xlink:href=\"#DejaVuSans-30\"/>\r\n       <use x=\"159.033203\" xlink:href=\"#DejaVuSans-30\"/>\r\n       <use x=\"222.65625\" xlink:href=\"#DejaVuSans-30\"/>\r\n       <use x=\"286.279297\" xlink:href=\"#DejaVuSans-31\"/>\r\n       <use x=\"349.902344\" xlink:href=\"#DejaVuSans-34\"/>\r\n      </g>\r\n     </g>\r\n    </g>\r\n    <g id=\"text_15\">\r\n     <!-- Density -->\r\n     <g transform=\"translate(14.798437 134.928594)rotate(-90)scale(0.1 -0.1)\">\r\n      <defs>\r\n       <path d=\"M 1259 4147 \r\nL 1259 519 \r\nL 2022 519 \r\nQ 2988 519 3436 956 \r\nQ 3884 1394 3884 2338 \r\nQ 3884 3275 3436 3711 \r\nQ 2988 4147 2022 4147 \r\nL 1259 4147 \r\nz\r\nM 628 4666 \r\nL 1925 4666 \r\nQ 3281 4666 3915 4102 \r\nQ 4550 3538 4550 2338 \r\nQ 4550 1131 3912 565 \r\nQ 3275 0 1925 0 \r\nL 628 0 \r\nL 628 4666 \r\nz\r\n\" id=\"DejaVuSans-44\" transform=\"scale(0.015625)\"/>\r\n       <path d=\"M 2834 3397 \r\nL 2834 2853 \r\nQ 2591 2978 2328 3040 \r\nQ 2066 3103 1784 3103 \r\nQ 1356 3103 1142 2972 \r\nQ 928 2841 928 2578 \r\nQ 928 2378 1081 2264 \r\nQ 1234 2150 1697 2047 \r\nL 1894 2003 \r\nQ 2506 1872 2764 1633 \r\nQ 3022 1394 3022 966 \r\nQ 3022 478 2636 193 \r\nQ 2250 -91 1575 -91 \r\nQ 1294 -91 989 -36 \r\nQ 684 19 347 128 \r\nL 347 722 \r\nQ 666 556 975 473 \r\nQ 1284 391 1588 391 \r\nQ 1994 391 2212 530 \r\nQ 2431 669 2431 922 \r\nQ 2431 1156 2273 1281 \r\nQ 2116 1406 1581 1522 \r\nL 1381 1569 \r\nQ 847 1681 609 1914 \r\nQ 372 2147 372 2553 \r\nQ 372 3047 722 3315 \r\nQ 1072 3584 1716 3584 \r\nQ 2034 3584 2315 3537 \r\nQ 2597 3491 2834 3397 \r\nz\r\n\" id=\"DejaVuSans-73\" transform=\"scale(0.015625)\"/>\r\n       <path d=\"M 603 3500 \r\nL 1178 3500 \r\nL 1178 0 \r\nL 603 0 \r\nL 603 3500 \r\nz\r\nM 603 4863 \r\nL 1178 4863 \r\nL 1178 4134 \r\nL 603 4134 \r\nL 603 4863 \r\nz\r\n\" id=\"DejaVuSans-69\" transform=\"scale(0.015625)\"/>\r\n       <path d=\"M 2059 -325 \r\nQ 1816 -950 1584 -1140 \r\nQ 1353 -1331 966 -1331 \r\nL 506 -1331 \r\nL 506 -850 \r\nL 844 -850 \r\nQ 1081 -850 1212 -737 \r\nQ 1344 -625 1503 -206 \r\nL 1606 56 \r\nL 191 3500 \r\nL 800 3500 \r\nL 1894 763 \r\nL 2988 3500 \r\nL 3597 3500 \r\nL 2059 -325 \r\nz\r\n\" id=\"DejaVuSans-79\" transform=\"scale(0.015625)\"/>\r\n      </defs>\r\n      <use xlink:href=\"#DejaVuSans-44\"/>\r\n      <use x=\"77.001953\" xlink:href=\"#DejaVuSans-65\"/>\r\n      <use x=\"138.525391\" xlink:href=\"#DejaVuSans-6e\"/>\r\n      <use x=\"201.904297\" xlink:href=\"#DejaVuSans-73\"/>\r\n      <use x=\"254.003906\" xlink:href=\"#DejaVuSans-69\"/>\r\n      <use x=\"281.787109\" xlink:href=\"#DejaVuSans-74\"/>\r\n      <use x=\"320.996094\" xlink:href=\"#DejaVuSans-79\"/>\r\n     </g>\r\n    </g>\r\n   </g>\r\n   <g id=\"line2d_14\">\r\n    <path clip-path=\"url(#p17605f79e6)\" d=\"M 84.449432 224.636043 \r\nL 89.037828 224.54802 \r\nL 95.15569 224.288403 \r\nL 107.391414 224.635664 \r\nL 111.979811 224.526806 \r\nL 119.627139 223.981622 \r\nL 125.745001 224.445886 \r\nL 128.803932 224.304767 \r\nL 133.392328 224.010022 \r\nL 137.980725 223.785372 \r\nL 147.157518 222.62618 \r\nL 148.686983 222.078553 \r\nL 153.27538 219.834488 \r\nL 154.804845 219.446877 \r\nL 156.334311 219.24583 \r\nL 157.863776 218.885842 \r\nL 159.393242 217.919283 \r\nL 160.922707 216.004041 \r\nL 162.452173 212.996248 \r\nL 163.981638 208.846732 \r\nL 165.511104 203.393456 \r\nL 167.040569 196.237376 \r\nL 168.570035 186.795877 \r\nL 170.0995 174.461453 \r\nL 171.628966 158.762486 \r\nL 173.158431 139.523936 \r\nL 174.687897 117.114033 \r\nL 177.746828 69.159299 \r\nL 179.276293 49.609004 \r\nL 180.805759 37.560919 \r\nL 182.335224 34.868938 \r\nL 183.86469 41.002948 \r\nL 185.394155 53.44276 \r\nL 191.512017 114.678649 \r\nL 196.100414 155.024357 \r\nL 197.62988 167.058745 \r\nL 199.159345 177.679498 \r\nL 200.688811 186.785743 \r\nL 202.218276 194.401515 \r\nL 203.747742 200.52831 \r\nL 205.277207 205.218385 \r\nL 206.806673 208.681436 \r\nL 208.336138 211.239789 \r\nL 209.865604 213.200518 \r\nL 211.395069 214.777109 \r\nL 212.924535 216.082047 \r\nL 214.454 217.169065 \r\nL 219.042397 219.838012 \r\nL 222.101328 221.415023 \r\nL 225.160259 222.626931 \r\nL 228.21919 223.609549 \r\nL 229.748655 223.901334 \r\nL 231.278121 224.031138 \r\nL 234.337052 223.948084 \r\nL 238.925448 223.477197 \r\nL 241.984379 223.51982 \r\nL 249.631707 224.189139 \r\nL 252.690638 224.480038 \r\nL 255.749569 224.55004 \r\nL 266.455827 224.077049 \r\nL 269.514758 223.881453 \r\nL 272.573689 223.971615 \r\nL 281.750483 224.483573 \r\nL 286.338879 224.629252 \r\nL 301.633534 224.623457 \r\nL 306.221931 224.448192 \r\nL 310.810327 224.224951 \r\nL 316.928189 224.239142 \r\nL 329.163913 224.639455 \r\nL 371.988948 224.588495 \r\nL 379.636275 224.298603 \r\nL 388.813068 224.636043 \r\nL 388.813068 224.636043 \r\n\" style=\"fill:none;stroke:#1f77b4;stroke-linecap:square;stroke-width:1.5;\"/>\r\n   </g>\r\n   <g id=\"patch_53\">\r\n    <path d=\"M 69.23125 224.64 \r\nL 69.23125 7.2 \r\n\" style=\"fill:none;stroke:#000000;stroke-linecap:square;stroke-linejoin:miter;stroke-width:0.8;\"/>\r\n   </g>\r\n   <g id=\"patch_54\">\r\n    <path d=\"M 404.03125 224.64 \r\nL 404.03125 7.2 \r\n\" style=\"fill:none;stroke:#000000;stroke-linecap:square;stroke-linejoin:miter;stroke-width:0.8;\"/>\r\n   </g>\r\n   <g id=\"patch_55\">\r\n    <path d=\"M 69.23125 224.64 \r\nL 404.03125 224.64 \r\n\" style=\"fill:none;stroke:#000000;stroke-linecap:square;stroke-linejoin:miter;stroke-width:0.8;\"/>\r\n   </g>\r\n   <g id=\"patch_56\">\r\n    <path d=\"M 69.23125 7.2 \r\nL 404.03125 7.2 \r\n\" style=\"fill:none;stroke:#000000;stroke-linecap:square;stroke-linejoin:miter;stroke-width:0.8;\"/>\r\n   </g>\r\n  </g>\r\n </g>\r\n <defs>\r\n  <clipPath id=\"p17605f79e6\">\r\n   <rect height=\"217.44\" width=\"334.8\" x=\"69.23125\" y=\"7.2\"/>\r\n  </clipPath>\r\n </defs>\r\n</svg>\r\n",
      "image/png": "[encoded data removed]"
     },
     "metadata": {
      "needs_background": "light"
     }
    }
   ],
   "source": [
    "sns.distplot(y_valid-prediction)"
   ]
  },
  {
   "cell_type": "code",
   "execution_count": 152,
   "metadata": {},
   "outputs": [
    {
     "output_type": "execute_result",
     "data": {
      "text/plain": [
       "-20672001.620323423"
      ]
     },
     "metadata": {},
     "execution_count": 152
    }
   ],
   "source": [
    "\n",
    "rf_random.best_score_"
   ]
  },
  {
   "cell_type": "code",
   "execution_count": 153,
   "metadata": {},
   "outputs": [
    {
     "output_type": "stream",
     "name": "stdout",
     "text": [
      "Mean Absolute Error: 2884.9769837404447\nMean Squared Error: 22804359.400026333\nRoot Mean Squared Error: 4775.3910206418\n"
     ]
    }
   ],
   "source": [
    "from sklearn import metrics\n",
    "print('Mean Absolute Error:', metrics.mean_absolute_error(y_valid, prediction))\n",
    "print('Mean Squared Error:', metrics.mean_squared_error(y_valid, prediction))\n",
    "print('Root Mean Squared Error:', np.sqrt(metrics.mean_squared_error(y_valid, prediction)))"
   ]
  }
 ]
}