{
 "metadata": {
  "language_info": {
   "codemirror_mode": {
    "name": "ipython",
    "version": 3
   },
   "file_extension": ".py",
   "mimetype": "text/x-python",
   "name": "python",
   "nbconvert_exporter": "python",
   "pygments_lexer": "ipython3",
   "version": "3.9.2-final"
  },
  "orig_nbformat": 2,
  "kernelspec": {
   "name": "python3",
   "display_name": "Python 3.9.2 64-bit",
   "metadata": {
    "interpreter": {
     "hash": "767d51c1340bd893661ea55ea3124f6de3c7a262a8b4abca0554b478b1e2ff90"
    }
   }
  }
 },
 "nbformat": 4,
 "nbformat_minor": 2,
 "cells": [
  {
   "cell_type": "code",
   "execution_count": 76,
   "metadata": {},
   "outputs": [],
   "source": [
    "import numpy as np\n",
    "import pandas as pd\n",
    "import sklearn\n",
    "import re\n",
    "import seaborn as sns\n",
    "from matplotlib.pylab import plt"
   ]
  },
  {
   "cell_type": "code",
   "execution_count": 5,
   "metadata": {},
   "outputs": [],
   "source": [
    "file ='/home/swaraj/Downloads/Rental data pune.xlsx'\n",
    "df= pd.read_excel(file)"
   ]
  },
  {
   "cell_type": "code",
   "execution_count": 75,
   "metadata": {},
   "outputs": [],
   "source": [
    " df['bhk']=df['BHK'].apply(lambda x: re.sub(r\"\\D\", \" \", str(x)) )#removing the string\n",
    "df['bath_clean']=df['Bath'].apply(lambda x: re.sub(r\"\\D\", \"\", str(x)) )\n",
    "df['source']='99acres'"
   ]
  },
  {
   "cell_type": "code",
   "execution_count": 8,
   "metadata": {},
   "outputs": [],
   "source": []
  },
  {
   "cell_type": "code",
   "execution_count": 9,
   "metadata": {},
   "outputs": [
    {
     "output_type": "stream",
     "name": "stdout",
     "text": [
      "<class 'pandas.core.frame.DataFrame'>\nRangeIndex: 9893 entries, 0 to 9892\nData columns (total 12 columns):\n #   Column       Non-Null Count  Dtype \n---  ------       --------------  ----- \n 0   Link         9893 non-null   object\n 1   Title        9893 non-null   object\n 2   location     8767 non-null   object\n 3   Rent         9893 non-null   object\n 4   Area Sq.ft   9893 non-null   object\n 5   BHK          9838 non-null   object\n 6   Bath         8728 non-null   object\n 7   Posted Date  9893 non-null   object\n 8   Name         9892 non-null   object\n 9   bhk          9893 non-null   object\n 10  bath_clean   9893 non-null   object\n 11  source       9893 non-null   object\ndtypes: object(12)\nmemory usage: 927.6+ KB\n"
     ]
    }
   ],
   "source": [
    "df.info()\n",
    "df['Bath'].describe()"
   ]
  },
  {
   "cell_type": "code",
   "execution_count": 10,
   "metadata": {},
   "outputs": [
    {
     "output_type": "execute_result",
     "data": {
      "text/plain": [
       "count        8728\n",
       "unique         10\n",
       "top       2 Baths\n",
       "freq         4030\n",
       "Name: Bath, dtype: object"
      ]
     },
     "metadata": {},
     "execution_count": 10
    }
   ],
   "source": []
  },
  {
   "cell_type": "code",
   "execution_count": 11,
   "metadata": {},
   "outputs": [],
   "source": [
    "df['BHK']= df['BHK'].dropna(axis=0)\n",
    "df=df.dropna()\n",
    "df['Bath']=df['Bath'].fillna(2)\n",
    "df['dates']=df['Posted Date'].apply(lambda x: re.sub(r\"Posted on\", \" \", str(x)) )\n",
    "df['dates']=df['dates'].apply(lambda x: re.sub(r\"by\", \" \", str(x)) )\n",
    "df['dates']=df['dates'].apply(lambda x: re.sub(r\"Today\", \"17th Mar, 2021 \", str(x)) )\n",
    "df['dates']=df['dates'].apply(lambda x: re.sub(r\"Yesterday\", \"16th Mar, 2021 \", str(x)) )\n",
    "df['dates']=pd.to_datetime(df['dates'])\n",
    "df['Area Sq.ft']=df['Area Sq.ft'].apply(lambda x: re.sub(r\"\\D\", \"\", str(x)) )\n",
    "df['Rent']=df['Rent'].apply(lambda x: re.sub('[^A-Za-z0-9]+', \"\", x) )\n",
    "df['Rent']=df['Rent'].apply(lambda x: re.sub('PriceonRequest', \"NAN\", x) )\n",
    "df['Rent']=np.where(df['Rent']=='Price on Request',df['Rent'].median(),df['Rent'])\n",
    "df['Rent'].dropna()\n",
    "df['Rent']=np.where(df['Rent']=='NAN',df['Rent'].median(),df['Rent'])\n",
    "df['Rent']=df['Rent'].apply(lambda x: np.int64(x) )\n",
    "df['Rent'].isnull().sum(axis = 0)\n",
    "df['Title_modify']=df['Title'].apply(lambda x: re.sub(r'^.*?in', '', x))\n",
    "x=df[['Area Sq.ft','bhk', 'bath_clean']]\n",
    "y=df.Rent"
   ]
  },
  {
   "cell_type": "code",
   "execution_count": 24,
   "metadata": {},
   "outputs": [
    {
     "output_type": "execute_result",
     "data": {
      "text/plain": [
       "                                                   Link  \\\n",
       "0     https://www.99acres.com/2-bhk-bedroom-resident...   \n",
       "1     https://www.99acres.com/2-bhk-bedroom-resident...   \n",
       "2     https://www.99acres.com/2-bhk-bedroom-resident...   \n",
       "4     https://www.99acres.com/2-bhk-bedroom-resident...   \n",
       "5     https://www.99acres.com/2-bhk-bedroom-resident...   \n",
       "...                                                 ...   \n",
       "9886  https://www.99acres.com/2-bhk-bedroom-resident...   \n",
       "9888  https://www.99acres.com/1-bhk-bedroom-resident...   \n",
       "9889  https://www.99acres.com/1-bhk-bedroom-resident...   \n",
       "9891  https://www.99acres.com/2-bhk-bedroom-resident...   \n",
       "9892  https://www.99acres.com/3-bhk-bedroom-resident...   \n",
       "\n",
       "                                                  Title  \\\n",
       "0     2 BHK Residential Apartment for rent in Mahalunge   \n",
       "1     2 BHK Residential Apartment for rent in B.T Ka...   \n",
       "2     2 BHK Residential Apartment for rent in Vijay ...   \n",
       "4      2 BHK Residential Apartment for rent in Lohegaon   \n",
       "5     2 BHK Residential Apartment for rent in Manik ...   \n",
       "...                                                 ...   \n",
       "9886  2 BHK Residential Apartment for rent in Hinjewadi   \n",
       "9888  1 BHK Residential Apartment for rent in Hingan...   \n",
       "9889  1 BHK Residential Apartment for rent in Pimple...   \n",
       "9891     2 BHK Residential Apartment for rent in Bhukum   \n",
       "9892  3 BHK Residential Apartment for rent in Kate W...   \n",
       "\n",
       "                               location   Rent Area Sq.ft    BHK     Bath  \\\n",
       "0                      Saarthi Soverign  15000        950  2 BHK  2 Baths   \n",
       "1     Maruti Enclave, Tara Dutta Colony  12000        600  2 BHK   1 Bath   \n",
       "2                          Jeveen Anand  14000        782  2 BHK  2 Baths   \n",
       "4           Goodwill Unique Zest County  16000        667  2 BHK  2 Baths   \n",
       "5                           Nikhil Park  11000        735  2 BHK   1 Bath   \n",
       "...                                 ...    ...        ...    ...      ...   \n",
       "9886       Kohinoor Tinsel Town Phase 2  23000       1011  2 BHK  2 Baths   \n",
       "9888               Mayureshwara Heights  10000        650  1 BHK   1 Bath   \n",
       "9889            Vaishnavi Sahil Heights  14000        583  1 BHK  2 Baths   \n",
       "9891                   SKYi Star Towers  12500        570  2 BHK  2 Baths   \n",
       "9892                   Vision Indramegh  20000       1165  3 BHK  3 Baths   \n",
       "\n",
       "                      Posted Date                 Name    bhk bath_clean  \\\n",
       "0              Posted on Today by               Channa  2              2   \n",
       "1              Posted on Today by  Santosh Shrivastava  2              1   \n",
       "2              Posted on Today by             Prashant  2              2   \n",
       "4              Posted on Today by        Sharat Pavate  2              2   \n",
       "5              Posted on Today by           Ashok kori  2              1   \n",
       "...                           ...                  ...    ...        ...   \n",
       "9886  Posted on 01st Mar, 2021 by                Ankit  2              2   \n",
       "9888  Posted on 08th Mar, 2021 by            balasaheb  1              1   \n",
       "9889  Posted on 22nd Feb, 2021 by         Mayur jagtap  1              2   \n",
       "9891  Posted on 09th Mar, 2021 by       Abhishek Kumar  2              2   \n",
       "9892  Posted on 17th Feb, 2021 by                Suhas  3              3   \n",
       "\n",
       "       source      dates  \n",
       "0     99acres 2021-03-17  \n",
       "1     99acres 2021-03-17  \n",
       "2     99acres 2021-03-17  \n",
       "4     99acres 2021-03-17  \n",
       "5     99acres 2021-03-17  \n",
       "...       ...        ...  \n",
       "9886  99acres 2021-03-01  \n",
       "9888  99acres 2021-03-08  \n",
       "9889  99acres 2021-02-22  \n",
       "9891  99acres 2021-03-09  \n",
       "9892  99acres 2021-02-17  \n",
       "\n",
       "[7745 rows x 13 columns]"
      ],
      "text/html": "<div>\n<style scoped>\n    .dataframe tbody tr th:only-of-type {\n        vertical-align: middle;\n    }\n\n    .dataframe tbody tr th {\n        vertical-align: top;\n    }\n\n    .dataframe thead th {\n        text-align: right;\n    }\n</style>\n<table border=\"1\" class=\"dataframe\">\n  <thead>\n    <tr style=\"text-align: right;\">\n      <th></th>\n      <th>Link</th>\n      <th>Title</th>\n      <th>location</th>\n      <th>Rent</th>\n      <th>Area Sq.ft</th>\n      <th>BHK</th>\n      <th>Bath</th>\n      <th>Posted Date</th>\n      <th>Name</th>\n      <th>bhk</th>\n      <th>bath_clean</th>\n      <th>source</th>\n      <th>dates</th>\n    </tr>\n  </thead>\n  <tbody>\n    <tr>\n      <th>0</th>\n      <td>https://www.99acres.com/2-bhk-bedroom-resident...</td>\n      <td>2 BHK Residential Apartment for rent in Mahalunge</td>\n      <td>Saarthi Soverign</td>\n      <td>15000</td>\n      <td>950</td>\n      <td>2 BHK</td>\n      <td>2 Baths</td>\n      <td>Posted on Today by</td>\n      <td>Channa</td>\n      <td>2</td>\n      <td>2</td>\n      <td>99acres</td>\n      <td>2021-03-17</td>\n    </tr>\n    <tr>\n      <th>1</th>\n      <td>https://www.99acres.com/2-bhk-bedroom-resident...</td>\n      <td>2 BHK Residential Apartment for rent in B.T Ka...</td>\n      <td>Maruti Enclave, Tara Dutta Colony</td>\n      <td>12000</td>\n      <td>600</td>\n      <td>2 BHK</td>\n      <td>1 Bath</td>\n      <td>Posted on Today by</td>\n      <td>Santosh Shrivastava</td>\n      <td>2</td>\n      <td>1</td>\n      <td>99acres</td>\n      <td>2021-03-17</td>\n    </tr>\n    <tr>\n      <th>2</th>\n      <td>https://www.99acres.com/2-bhk-bedroom-resident...</td>\n      <td>2 BHK Residential Apartment for rent in Vijay ...</td>\n      <td>Jeveen Anand</td>\n      <td>14000</td>\n      <td>782</td>\n      <td>2 BHK</td>\n      <td>2 Baths</td>\n      <td>Posted on Today by</td>\n      <td>Prashant</td>\n      <td>2</td>\n      <td>2</td>\n      <td>99acres</td>\n      <td>2021-03-17</td>\n    </tr>\n    <tr>\n      <th>4</th>\n      <td>https://www.99acres.com/2-bhk-bedroom-resident...</td>\n      <td>2 BHK Residential Apartment for rent in Lohegaon</td>\n      <td>Goodwill Unique Zest County</td>\n      <td>16000</td>\n      <td>667</td>\n      <td>2 BHK</td>\n      <td>2 Baths</td>\n      <td>Posted on Today by</td>\n      <td>Sharat Pavate</td>\n      <td>2</td>\n      <td>2</td>\n      <td>99acres</td>\n      <td>2021-03-17</td>\n    </tr>\n    <tr>\n      <th>5</th>\n      <td>https://www.99acres.com/2-bhk-bedroom-resident...</td>\n      <td>2 BHK Residential Apartment for rent in Manik ...</td>\n      <td>Nikhil Park</td>\n      <td>11000</td>\n      <td>735</td>\n      <td>2 BHK</td>\n      <td>1 Bath</td>\n      <td>Posted on Today by</td>\n      <td>Ashok kori</td>\n      <td>2</td>\n      <td>1</td>\n      <td>99acres</td>\n      <td>2021-03-17</td>\n    </tr>\n    <tr>\n      <th>...</th>\n      <td>...</td>\n      <td>...</td>\n      <td>...</td>\n      <td>...</td>\n      <td>...</td>\n      <td>...</td>\n      <td>...</td>\n      <td>...</td>\n      <td>...</td>\n      <td>...</td>\n      <td>...</td>\n      <td>...</td>\n      <td>...</td>\n    </tr>\n    <tr>\n      <th>9886</th>\n      <td>https://www.99acres.com/2-bhk-bedroom-resident...</td>\n      <td>2 BHK Residential Apartment for rent in Hinjewadi</td>\n      <td>Kohinoor Tinsel Town Phase 2</td>\n      <td>23000</td>\n      <td>1011</td>\n      <td>2 BHK</td>\n      <td>2 Baths</td>\n      <td>Posted on 01st Mar, 2021 by</td>\n      <td>Ankit</td>\n      <td>2</td>\n      <td>2</td>\n      <td>99acres</td>\n      <td>2021-03-01</td>\n    </tr>\n    <tr>\n      <th>9888</th>\n      <td>https://www.99acres.com/1-bhk-bedroom-resident...</td>\n      <td>1 BHK Residential Apartment for rent in Hingan...</td>\n      <td>Mayureshwara Heights</td>\n      <td>10000</td>\n      <td>650</td>\n      <td>1 BHK</td>\n      <td>1 Bath</td>\n      <td>Posted on 08th Mar, 2021 by</td>\n      <td>balasaheb</td>\n      <td>1</td>\n      <td>1</td>\n      <td>99acres</td>\n      <td>2021-03-08</td>\n    </tr>\n    <tr>\n      <th>9889</th>\n      <td>https://www.99acres.com/1-bhk-bedroom-resident...</td>\n      <td>1 BHK Residential Apartment for rent in Pimple...</td>\n      <td>Vaishnavi Sahil Heights</td>\n      <td>14000</td>\n      <td>583</td>\n      <td>1 BHK</td>\n      <td>2 Baths</td>\n      <td>Posted on 22nd Feb, 2021 by</td>\n      <td>Mayur jagtap</td>\n      <td>1</td>\n      <td>2</td>\n      <td>99acres</td>\n      <td>2021-02-22</td>\n    </tr>\n    <tr>\n      <th>9891</th>\n      <td>https://www.99acres.com/2-bhk-bedroom-resident...</td>\n      <td>2 BHK Residential Apartment for rent in Bhukum</td>\n      <td>SKYi Star Towers</td>\n      <td>12500</td>\n      <td>570</td>\n      <td>2 BHK</td>\n      <td>2 Baths</td>\n      <td>Posted on 09th Mar, 2021 by</td>\n      <td>Abhishek Kumar</td>\n      <td>2</td>\n      <td>2</td>\n      <td>99acres</td>\n      <td>2021-03-09</td>\n    </tr>\n    <tr>\n      <th>9892</th>\n      <td>https://www.99acres.com/3-bhk-bedroom-resident...</td>\n      <td>3 BHK Residential Apartment for rent in Kate W...</td>\n      <td>Vision Indramegh</td>\n      <td>20000</td>\n      <td>1165</td>\n      <td>3 BHK</td>\n      <td>3 Baths</td>\n      <td>Posted on 17th Feb, 2021 by</td>\n      <td>Suhas</td>\n      <td>3</td>\n      <td>3</td>\n      <td>99acres</td>\n      <td>2021-02-17</td>\n    </tr>\n  </tbody>\n</table>\n<p>7745 rows × 13 columns</p>\n</div>"
     },
     "metadata": {},
     "execution_count": 24
    }
   ],
   "source": [
    "df"
   ]
  },
  {
   "cell_type": "code",
   "execution_count": 28,
   "metadata": {},
   "outputs": [
    {
     "output_type": "execute_result",
     "data": {
      "text/plain": [
       "count     7745.000000\n",
       "mean     15153.416269\n",
       "std       7534.581466\n",
       "min          1.000000\n",
       "25%      10000.000000\n",
       "50%      14000.000000\n",
       "75%      18500.000000\n",
       "max      80000.000000\n",
       "Name: Rent, dtype: float64"
      ]
     },
     "metadata": {},
     "execution_count": 28
    }
   ],
   "source": [
    "df.Rent.describe()"
   ]
  },
  {
   "cell_type": "code",
   "execution_count": 30,
   "metadata": {},
   "outputs": [
    {
     "output_type": "execute_result",
     "data": {
      "text/plain": [
       "count         7745\n",
       "unique        1296\n",
       "top        Wagholi\n",
       "freq           323\n",
       "Name: Title_modify, dtype: object"
      ]
     },
     "metadata": {},
     "execution_count": 30
    }
   ],
   "source": [
    "df['Title_modify'].describe()"
   ]
  },
  {
   "cell_type": "code",
   "execution_count": 34,
   "metadata": {},
   "outputs": [
    {
     "output_type": "execute_result",
     "data": {
      "text/plain": [
       "       Area Sq.ft    bhk bath_clean\n",
       "count        7745   7745       7745\n",
       "unique       1055     10          9\n",
       "top          1000  2              2\n",
       "freq          330   3762       3862"
      ],
      "text/html": "<div>\n<style scoped>\n    .dataframe tbody tr th:only-of-type {\n        vertical-align: middle;\n    }\n\n    .dataframe tbody tr th {\n        vertical-align: top;\n    }\n\n    .dataframe thead th {\n        text-align: right;\n    }\n</style>\n<table border=\"1\" class=\"dataframe\">\n  <thead>\n    <tr style=\"text-align: right;\">\n      <th></th>\n      <th>Area Sq.ft</th>\n      <th>bhk</th>\n      <th>bath_clean</th>\n    </tr>\n  </thead>\n  <tbody>\n    <tr>\n      <th>count</th>\n      <td>7745</td>\n      <td>7745</td>\n      <td>7745</td>\n    </tr>\n    <tr>\n      <th>unique</th>\n      <td>1055</td>\n      <td>10</td>\n      <td>9</td>\n    </tr>\n    <tr>\n      <th>top</th>\n      <td>1000</td>\n      <td>2</td>\n      <td>2</td>\n    </tr>\n    <tr>\n      <th>freq</th>\n      <td>330</td>\n      <td>3762</td>\n      <td>3862</td>\n    </tr>\n  </tbody>\n</table>\n</div>"
     },
     "metadata": {},
     "execution_count": 34
    }
   ],
   "source": [
    "x.describe()"
   ]
  },
  {
   "cell_type": "code",
   "execution_count": 36,
   "metadata": {},
   "outputs": [],
   "source": [
    "from sklearn.model_selection import train_test_split\n",
    "x_train, x_valid, y_train, y_valid = train_test_split(x, y, train_size=0.8, test_size=0.2,\n",
    "                                                      random_state=0)"
   ]
  },
  {
   "cell_type": "code",
   "execution_count": 38,
   "metadata": {},
   "outputs": [
    {
     "output_type": "execute_result",
     "data": {
      "text/plain": [
       "\"from sklearn import preprocessing \\n  \\n# label_encoder object knows how to understand word labels. \\nlabel_encoder = preprocessing.LabelEncoder() \\n  \\n# Encode labels in column 'species'. \\nx['Title_modify']= label_encoder.fit_transform(x['Title_modify']) \""
      ]
     },
     "metadata": {},
     "execution_count": 38
    }
   ],
   "source": [
    "\"\"\"from sklearn import preprocessing \n",
    "  \n",
    "# label_encoder object knows how to understand word labels. \n",
    "label_encoder = preprocessing.LabelEncoder() \n",
    "  \n",
    "# Encode labels in column 'species'. \n",
    "x['Title_modify']= label_encoder.fit_transform(x['Title_modify']) \"\"\""
   ]
  },
  {
   "cell_type": "code",
   "execution_count": 40,
   "metadata": {},
   "outputs": [
    {
     "output_type": "stream",
     "name": "stderr",
     "text": [
      "<ipython-input-40-8a95c702e99d>:4: SettingWithCopyWarning: \nA value is trying to be set on a copy of a slice from a DataFrame.\nTry using .loc[row_indexer,col_indexer] = value instead\n\nSee the caveats in the documentation: https://pandas.pydata.org/pandas-docs/stable/user_guide/indexing.html#returning-a-view-versus-a-copy\n  x[c]=x[c].apply(lambda x:float(x))\n"
     ]
    }
   ],
   "source": [
    "col=x.columns\n",
    "for c in col:\n",
    "    try:\n",
    "        c=str(c)\n",
    "        x[c]=x[c].apply(lambda x:float(x))\n",
    "    except:\n",
    "        x[c]=0"
   ]
  },
  {
   "cell_type": "code",
   "execution_count": 41,
   "metadata": {},
   "outputs": [
    {
     "output_type": "execute_result",
     "data": {
      "text/plain": [
       "ExtraTreesRegressor()"
      ]
     },
     "metadata": {},
     "execution_count": 41
    }
   ],
   "source": [
    "from sklearn.ensemble import ExtraTreesRegressor\n",
    "import matplotlib.pyplot as plt\n",
    "model = ExtraTreesRegressor()\n",
    "model.fit(x,y)\n",
    "print(model.feature_importances_)\n",
    "feat_importances = pd.Series(model.feature_importances_, index=x.columns)\n",
    "feat_importances.nlargest(5).plot(kind='barh')\n",
    "plt.show()"
   ]
  },
  {
   "cell_type": "code",
   "execution_count": 44,
   "metadata": {},
   "outputs": [
    {
     "output_type": "stream",
     "name": "stdout",
     "text": [
      "[100, 200, 300, 400, 500, 600, 700, 800, 900, 1000, 1100, 1200]\n",
      "{'n_estimators': [100, 200, 300, 400, 500, 600, 700, 800, 900, 1000, 1100, 1200], 'max_features': ['auto', 'sqrt'], 'max_depth': [5, 10, 15, 20, 25, 30], 'min_samples_split': [2, 5, 10, 15, 100], 'min_samples_leaf': [1, 2, 5, 10]}\n",
      "Fitting 10 folds for each of 10 candidates, totalling 100 fits\n",
      "[CV] END max_depth=10, max_features=sqrt, min_samples_leaf=5, min_samples_split=5, n_estimators=900; total time=   4.0s\n",
      "[CV] END max_depth=10, max_features=sqrt, min_samples_leaf=5, min_samples_split=5, n_estimators=900; total time=   2.9s\n",
      "[CV] END max_depth=10, max_features=sqrt, min_samples_leaf=5, min_samples_split=5, n_estimators=900; total time=   2.9s\n",
      "[CV] END max_depth=10, max_features=sqrt, min_samples_leaf=5, min_samples_split=5, n_estimators=900; total time=   2.9s\n",
      "[CV] END max_depth=10, max_features=sqrt, min_samples_leaf=5, min_samples_split=5, n_estimators=900; total time=   2.9s\n",
      "[CV] END max_depth=10, max_features=sqrt, min_samples_leaf=5, min_samples_split=5, n_estimators=900; total time=   3.1s\n",
      "[CV] END max_depth=10, max_features=sqrt, min_samples_leaf=5, min_samples_split=5, n_estimators=900; total time=   3.4s\n",
      "[CV] END max_depth=10, max_features=sqrt, min_samples_leaf=5, min_samples_split=5, n_estimators=900; total time=   3.0s\n",
      "[CV] END max_depth=10, max_features=sqrt, min_samples_leaf=5, min_samples_split=5, n_estimators=900; total time=   3.1s\n",
      "[CV] END max_depth=10, max_features=sqrt, min_samples_leaf=5, min_samples_split=5, n_estimators=900; total time=   3.4s\n",
      "[CV] END max_depth=15, max_features=sqrt, min_samples_leaf=2, min_samples_split=10, n_estimators=1100; total time=   4.3s\n",
      "[CV] END max_depth=15, max_features=sqrt, min_samples_leaf=2, min_samples_split=10, n_estimators=1100; total time=   4.1s\n",
      "[CV] END max_depth=15, max_features=sqrt, min_samples_leaf=2, min_samples_split=10, n_estimators=1100; total time=   4.1s\n",
      "[CV] END max_depth=15, max_features=sqrt, min_samples_leaf=2, min_samples_split=10, n_estimators=1100; total time=   4.1s\n",
      "[CV] END max_depth=15, max_features=sqrt, min_samples_leaf=2, min_samples_split=10, n_estimators=1100; total time=   4.1s\n",
      "[CV] END max_depth=15, max_features=sqrt, min_samples_leaf=2, min_samples_split=10, n_estimators=1100; total time=   4.2s\n",
      "[CV] END max_depth=15, max_features=sqrt, min_samples_leaf=2, min_samples_split=10, n_estimators=1100; total time=   4.2s\n",
      "[CV] END max_depth=15, max_features=sqrt, min_samples_leaf=2, min_samples_split=10, n_estimators=1100; total time=   4.6s\n",
      "[CV] END max_depth=15, max_features=sqrt, min_samples_leaf=2, min_samples_split=10, n_estimators=1100; total time=   4.1s\n",
      "[CV] END max_depth=15, max_features=sqrt, min_samples_leaf=2, min_samples_split=10, n_estimators=1100; total time=   4.2s\n",
      "[CV] END max_depth=15, max_features=auto, min_samples_leaf=5, min_samples_split=100, n_estimators=300; total time=   1.2s\n",
      "[CV] END max_depth=15, max_features=auto, min_samples_leaf=5, min_samples_split=100, n_estimators=300; total time=   1.2s\n",
      "[CV] END max_depth=15, max_features=auto, min_samples_leaf=5, min_samples_split=100, n_estimators=300; total time=   1.2s\n",
      "[CV] END max_depth=15, max_features=auto, min_samples_leaf=5, min_samples_split=100, n_estimators=300; total time=   1.1s\n",
      "[CV] END max_depth=15, max_features=auto, min_samples_leaf=5, min_samples_split=100, n_estimators=300; total time=   1.1s\n",
      "[CV] END max_depth=15, max_features=auto, min_samples_leaf=5, min_samples_split=100, n_estimators=300; total time=   1.2s\n",
      "[CV] END max_depth=15, max_features=auto, min_samples_leaf=5, min_samples_split=100, n_estimators=300; total time=   1.1s\n",
      "[CV] END max_depth=15, max_features=auto, min_samples_leaf=5, min_samples_split=100, n_estimators=300; total time=   1.1s\n",
      "[CV] END max_depth=15, max_features=auto, min_samples_leaf=5, min_samples_split=100, n_estimators=300; total time=   1.1s\n",
      "[CV] END max_depth=15, max_features=auto, min_samples_leaf=5, min_samples_split=100, n_estimators=300; total time=   1.1s\n",
      "[CV] END max_depth=15, max_features=auto, min_samples_leaf=5, min_samples_split=5, n_estimators=400; total time=   1.7s\n",
      "[CV] END max_depth=15, max_features=auto, min_samples_leaf=5, min_samples_split=5, n_estimators=400; total time=   1.7s\n",
      "[CV] END max_depth=15, max_features=auto, min_samples_leaf=5, min_samples_split=5, n_estimators=400; total time=   1.7s\n",
      "[CV] END max_depth=15, max_features=auto, min_samples_leaf=5, min_samples_split=5, n_estimators=400; total time=   1.8s\n",
      "[CV] END max_depth=15, max_features=auto, min_samples_leaf=5, min_samples_split=5, n_estimators=400; total time=   1.7s\n",
      "[CV] END max_depth=15, max_features=auto, min_samples_leaf=5, min_samples_split=5, n_estimators=400; total time=   1.7s\n",
      "[CV] END max_depth=15, max_features=auto, min_samples_leaf=5, min_samples_split=5, n_estimators=400; total time=   1.7s\n",
      "[CV] END max_depth=15, max_features=auto, min_samples_leaf=5, min_samples_split=5, n_estimators=400; total time=   1.7s\n",
      "[CV] END max_depth=15, max_features=auto, min_samples_leaf=5, min_samples_split=5, n_estimators=400; total time=   1.7s\n",
      "[CV] END max_depth=15, max_features=auto, min_samples_leaf=5, min_samples_split=5, n_estimators=400; total time=   1.7s\n",
      "[CV] END max_depth=20, max_features=auto, min_samples_leaf=10, min_samples_split=5, n_estimators=700; total time=   2.8s\n",
      "[CV] END max_depth=20, max_features=auto, min_samples_leaf=10, min_samples_split=5, n_estimators=700; total time=   2.8s\n",
      "[CV] END max_depth=20, max_features=auto, min_samples_leaf=10, min_samples_split=5, n_estimators=700; total time=   2.8s\n",
      "[CV] END max_depth=20, max_features=auto, min_samples_leaf=10, min_samples_split=5, n_estimators=700; total time=   2.9s\n",
      "[CV] END max_depth=20, max_features=auto, min_samples_leaf=10, min_samples_split=5, n_estimators=700; total time=   2.9s\n",
      "[CV] END max_depth=20, max_features=auto, min_samples_leaf=10, min_samples_split=5, n_estimators=700; total time=   2.9s\n",
      "[CV] END max_depth=20, max_features=auto, min_samples_leaf=10, min_samples_split=5, n_estimators=700; total time=   3.1s\n",
      "[CV] END max_depth=20, max_features=auto, min_samples_leaf=10, min_samples_split=5, n_estimators=700; total time=   2.9s\n",
      "[CV] END max_depth=20, max_features=auto, min_samples_leaf=10, min_samples_split=5, n_estimators=700; total time=   2.8s\n",
      "[CV] END max_depth=20, max_features=auto, min_samples_leaf=10, min_samples_split=5, n_estimators=700; total time=   2.8s\n",
      "[CV] END max_depth=25, max_features=sqrt, min_samples_leaf=1, min_samples_split=2, n_estimators=1000; total time=   4.5s\n",
      "[CV] END max_depth=25, max_features=sqrt, min_samples_leaf=1, min_samples_split=2, n_estimators=1000; total time=   4.5s\n",
      "[CV] END max_depth=25, max_features=sqrt, min_samples_leaf=1, min_samples_split=2, n_estimators=1000; total time=   4.6s\n",
      "[CV] END max_depth=25, max_features=sqrt, min_samples_leaf=1, min_samples_split=2, n_estimators=1000; total time=   4.6s\n",
      "[CV] END max_depth=25, max_features=sqrt, min_samples_leaf=1, min_samples_split=2, n_estimators=1000; total time=   4.5s\n",
      "[CV] END max_depth=25, max_features=sqrt, min_samples_leaf=1, min_samples_split=2, n_estimators=1000; total time=   4.6s\n",
      "[CV] END max_depth=25, max_features=sqrt, min_samples_leaf=1, min_samples_split=2, n_estimators=1000; total time=   4.6s\n",
      "[CV] END max_depth=25, max_features=sqrt, min_samples_leaf=1, min_samples_split=2, n_estimators=1000; total time=   4.6s\n",
      "[CV] END max_depth=25, max_features=sqrt, min_samples_leaf=1, min_samples_split=2, n_estimators=1000; total time=   4.5s\n",
      "[CV] END max_depth=25, max_features=sqrt, min_samples_leaf=1, min_samples_split=2, n_estimators=1000; total time=   4.4s\n",
      "[CV] END max_depth=5, max_features=sqrt, min_samples_leaf=10, min_samples_split=15, n_estimators=1100; total time=   2.8s\n",
      "[CV] END max_depth=5, max_features=sqrt, min_samples_leaf=10, min_samples_split=15, n_estimators=1100; total time=   3.0s\n",
      "[CV] END max_depth=5, max_features=sqrt, min_samples_leaf=10, min_samples_split=15, n_estimators=1100; total time=   3.0s\n",
      "[CV] END max_depth=5, max_features=sqrt, min_samples_leaf=10, min_samples_split=15, n_estimators=1100; total time=   2.7s\n",
      "[CV] END max_depth=5, max_features=sqrt, min_samples_leaf=10, min_samples_split=15, n_estimators=1100; total time=   3.0s\n",
      "[CV] END max_depth=5, max_features=sqrt, min_samples_leaf=10, min_samples_split=15, n_estimators=1100; total time=   3.4s\n",
      "[CV] END max_depth=5, max_features=sqrt, min_samples_leaf=10, min_samples_split=15, n_estimators=1100; total time=   3.2s\n",
      "[CV] END max_depth=5, max_features=sqrt, min_samples_leaf=10, min_samples_split=15, n_estimators=1100; total time=   3.3s\n",
      "[CV] END max_depth=5, max_features=sqrt, min_samples_leaf=10, min_samples_split=15, n_estimators=1100; total time=   3.0s\n",
      "[CV] END max_depth=5, max_features=sqrt, min_samples_leaf=10, min_samples_split=15, n_estimators=1100; total time=   2.8s\n",
      "[CV] END max_depth=15, max_features=sqrt, min_samples_leaf=1, min_samples_split=15, n_estimators=300; total time=   1.2s\n",
      "[CV] END max_depth=15, max_features=sqrt, min_samples_leaf=1, min_samples_split=15, n_estimators=300; total time=   1.2s\n",
      "[CV] END max_depth=15, max_features=sqrt, min_samples_leaf=1, min_samples_split=15, n_estimators=300; total time=   1.2s\n",
      "[CV] END max_depth=15, max_features=sqrt, min_samples_leaf=1, min_samples_split=15, n_estimators=300; total time=   1.2s\n",
      "[CV] END max_depth=15, max_features=sqrt, min_samples_leaf=1, min_samples_split=15, n_estimators=300; total time=   1.2s\n",
      "[CV] END max_depth=15, max_features=sqrt, min_samples_leaf=1, min_samples_split=15, n_estimators=300; total time=   1.2s\n",
      "[CV] END max_depth=15, max_features=sqrt, min_samples_leaf=1, min_samples_split=15, n_estimators=300; total time=   1.2s\n",
      "[CV] END max_depth=15, max_features=sqrt, min_samples_leaf=1, min_samples_split=15, n_estimators=300; total time=   1.2s\n",
      "[CV] END max_depth=15, max_features=sqrt, min_samples_leaf=1, min_samples_split=15, n_estimators=300; total time=   1.2s\n",
      "[CV] END max_depth=15, max_features=sqrt, min_samples_leaf=1, min_samples_split=15, n_estimators=300; total time=   1.2s\n",
      "[CV] END max_depth=5, max_features=sqrt, min_samples_leaf=2, min_samples_split=10, n_estimators=700; total time=   1.8s\n",
      "[CV] END max_depth=5, max_features=sqrt, min_samples_leaf=2, min_samples_split=10, n_estimators=700; total time=   1.8s\n",
      "[CV] END max_depth=5, max_features=sqrt, min_samples_leaf=2, min_samples_split=10, n_estimators=700; total time=   1.8s\n",
      "[CV] END max_depth=5, max_features=sqrt, min_samples_leaf=2, min_samples_split=10, n_estimators=700; total time=   1.9s\n",
      "[CV] END max_depth=5, max_features=sqrt, min_samples_leaf=2, min_samples_split=10, n_estimators=700; total time=   1.8s\n",
      "[CV] END max_depth=5, max_features=sqrt, min_samples_leaf=2, min_samples_split=10, n_estimators=700; total time=   1.8s\n",
      "[CV] END max_depth=5, max_features=sqrt, min_samples_leaf=2, min_samples_split=10, n_estimators=700; total time=   1.8s\n",
      "[CV] END max_depth=5, max_features=sqrt, min_samples_leaf=2, min_samples_split=10, n_estimators=700; total time=   1.8s\n",
      "[CV] END max_depth=5, max_features=sqrt, min_samples_leaf=2, min_samples_split=10, n_estimators=700; total time=   1.8s\n",
      "[CV] END max_depth=5, max_features=sqrt, min_samples_leaf=2, min_samples_split=10, n_estimators=700; total time=   1.8s\n",
      "[CV] END max_depth=20, max_features=auto, min_samples_leaf=1, min_samples_split=15, n_estimators=700; total time=   3.3s\n",
      "[CV] END max_depth=20, max_features=auto, min_samples_leaf=1, min_samples_split=15, n_estimators=700; total time=   3.6s\n",
      "[CV] END max_depth=20, max_features=auto, min_samples_leaf=1, min_samples_split=15, n_estimators=700; total time=   3.2s\n",
      "[CV] END max_depth=20, max_features=auto, min_samples_leaf=1, min_samples_split=15, n_estimators=700; total time=   3.3s\n",
      "[CV] END max_depth=20, max_features=auto, min_samples_leaf=1, min_samples_split=15, n_estimators=700; total time=   3.2s\n",
      "[CV] END max_depth=20, max_features=auto, min_samples_leaf=1, min_samples_split=15, n_estimators=700; total time=   3.2s\n",
      "[CV] END max_depth=20, max_features=auto, min_samples_leaf=1, min_samples_split=15, n_estimators=700; total time=   3.2s\n",
      "[CV] END max_depth=20, max_features=auto, min_samples_leaf=1, min_samples_split=15, n_estimators=700; total time=   3.3s\n",
      "[CV] END max_depth=20, max_features=auto, min_samples_leaf=1, min_samples_split=15, n_estimators=700; total time=   3.3s\n",
      "[CV] END max_depth=20, max_features=auto, min_samples_leaf=1, min_samples_split=15, n_estimators=700; total time=   3.2s\n"
     ]
    }
   ],
   "source": [
    "from sklearn.ensemble import RandomForestRegressor\n",
    "from sklearn.model_selection import RandomizedSearchCV\n",
    "regressor=RandomForestRegressor()\n",
    "n_estimators = [int(x) for x in np.linspace(start = 100, stop = 1200, num = 12)]\n",
    "print(n_estimators)\n",
    "n_estimators = [int(x) for x in np.linspace(start = 100, stop = 1200, num = 12)]\n",
    "# Number of features to consider at every split\n",
    "max_features = ['auto', 'sqrt']\n",
    "# Maximum number of levels in tree\n",
    "max_depth = [int(x) for x in np.linspace(5, 30, num = 6)]\n",
    "# max_depth.append(None)\n",
    "# Minimum number of samples required to split a node\n",
    "min_samples_split = [2, 5, 10, 15, 100]\n",
    "# Minimum number of samples required at each leaf node\n",
    "min_samples_leaf = [1, 2, 5, 10]\n",
    "random_grid = {'n_estimators': n_estimators,\n",
    "               'max_features': max_features,\n",
    "               'max_depth': max_depth,\n",
    "               'min_samples_split': min_samples_split,\n",
    "               'min_samples_leaf': min_samples_leaf}\n",
    "\n",
    "print(random_grid)\n",
    "rf = RandomForestRegressor()\n",
    "rf_random = RandomizedSearchCV(estimator = rf, param_distributions = random_grid,scoring='neg_mean_squared_error', n_iter = 10, cv =10 , verbose=2, random_state=42, n_jobs = 1)\n",
    "rf_random.fit(x_train,y_train)\n",
    "rf_random.best_params_\n",
    "rf_random.best_score_\n",
    "prediction=rf_random.predict(x_valid)"
   ]
  },
  {
   "cell_type": "code",
   "execution_count": 47,
   "metadata": {},
   "outputs": [
    {
     "output_type": "stream",
     "name": "stderr",
     "text": [
      "/home/swaraj/.local/lib/python3.9/site-packages/seaborn/distributions.py:2557: FutureWarning: `distplot` is a deprecated function and will be removed in a future version. Please adapt your code to use either `displot` (a figure-level function with similar flexibility) or `histplot` (an axes-level function for histograms).\n  warnings.warn(msg, FutureWarning)\n"
     ]
    },
    {
     "output_type": "execute_result",
     "data": {
      "text/plain": [
       "<AxesSubplot:xlabel='Rent', ylabel='Density'>"
      ]
     },
     "metadata": {},
     "execution_count": 47
    },
    {
     "output_type": "display_data",
     "data": {
      "text/plain": "<Figure size 432x288 with 1 Axes>",
      "image/svg+xml": "<?xml version=\"1.0\" encoding=\"utf-8\" standalone=\"no\"?>\n<!DOCTYPE svg PUBLIC \"-//W3C//DTD SVG 1.1//EN\"\n  \"http://www.w3.org/Graphics/SVG/1.1/DTD/svg11.dtd\">\n<svg height=\"262.19625pt\" version=\"1.1\" viewBox=\"0 0 411.23125 262.19625\" width=\"411.23125pt\" xmlns=\"http://www.w3.org/2000/svg\" xmlns:xlink=\"http://www.w3.org/1999/xlink\">\n <metadata>\n  <rdf:RDF xmlns:cc=\"http://creativecommons.org/ns#\" xmlns:dc=\"http://purl.org/dc/elements/1.1/\" xmlns:rdf=\"http://www.w3.org/1999/02/22-rdf-syntax-ns#\">\n   <cc:Work>\n    <dc:type rdf:resource=\"http://purl.org/dc/dcmitype/StillImage\"/>\n    <dc:date>2021-03-28T09:47:34.685681</dc:date>\n    <dc:format>image/svg+xml</dc:format>\n    <dc:creator>\n     <cc:Agent>\n      <dc:title>Matplotlib v3.4.0, https://matplotlib.org/</dc:title>\n     </cc:Agent>\n    </dc:creator>\n   </cc:Work>\n  </rdf:RDF>\n </metadata>\n <defs>\n  <style type=\"text/css\">*{stroke-linecap:butt;stroke-linejoin:round;}</style>\n </defs>\n <g id=\"figure_1\">\n  <g id=\"patch_1\">\n   <path d=\"M 0 262.19625 \nL 411.23125 262.19625 \nL 411.23125 0 \nL 0 0 \nz\n\" style=\"fill:none;\"/>\n  </g>\n  <g id=\"axes_1\">\n   <g id=\"patch_2\">\n    <path d=\"M 69.23125 224.64 \nL 404.03125 224.64 \nL 404.03125 7.2 \nL 69.23125 7.2 \nz\n\" style=\"fill:#ffffff;\"/>\n   </g>\n   <g id=\"patch_3\">\n    <path clip-path=\"url(#p21d9d94bba)\" d=\"M 96.151033 224.64 \nL 101.770242 224.64 \nL 101.770242 223.980491 \nL 96.151033 223.980491 \nz\n\" style=\"fill:#1f77b4;opacity:0.4;\"/>\n   </g>\n   <g id=\"patch_4\">\n    <path clip-path=\"url(#p21d9d94bba)\" d=\"M 101.770242 224.64 \nL 107.389451 224.64 \nL 107.389451 224.64 \nL 101.770242 224.64 \nz\n\" style=\"fill:#1f77b4;opacity:0.4;\"/>\n   </g>\n   <g id=\"patch_5\">\n    <path clip-path=\"url(#p21d9d94bba)\" d=\"M 107.389451 224.64 \nL 113.008659 224.64 \nL 113.008659 224.64 \nL 107.389451 224.64 \nz\n\" style=\"fill:#1f77b4;opacity:0.4;\"/>\n   </g>\n   <g id=\"patch_6\">\n    <path clip-path=\"url(#p21d9d94bba)\" d=\"M 113.008659 224.64 \nL 118.627868 224.64 \nL 118.627868 224.64 \nL 113.008659 224.64 \nz\n\" style=\"fill:#1f77b4;opacity:0.4;\"/>\n   </g>\n   <g id=\"patch_7\">\n    <path clip-path=\"url(#p21d9d94bba)\" d=\"M 118.627868 224.64 \nL 124.247077 224.64 \nL 124.247077 224.64 \nL 118.627868 224.64 \nz\n\" style=\"fill:#1f77b4;opacity:0.4;\"/>\n   </g>\n   <g id=\"patch_8\">\n    <path clip-path=\"url(#p21d9d94bba)\" d=\"M 124.247077 224.64 \nL 129.866285 224.64 \nL 129.866285 223.980491 \nL 124.247077 223.980491 \nz\n\" style=\"fill:#1f77b4;opacity:0.4;\"/>\n   </g>\n   <g id=\"patch_9\">\n    <path clip-path=\"url(#p21d9d94bba)\" d=\"M 129.866285 224.64 \nL 135.485494 224.64 \nL 135.485494 223.320983 \nL 129.866285 223.320983 \nz\n\" style=\"fill:#1f77b4;opacity:0.4;\"/>\n   </g>\n   <g id=\"patch_10\">\n    <path clip-path=\"url(#p21d9d94bba)\" d=\"M 135.485494 224.64 \nL 141.104703 224.64 \nL 141.104703 224.64 \nL 135.485494 224.64 \nz\n\" style=\"fill:#1f77b4;opacity:0.4;\"/>\n   </g>\n   <g id=\"patch_11\">\n    <path clip-path=\"url(#p21d9d94bba)\" d=\"M 141.104703 224.64 \nL 146.723911 224.64 \nL 146.723911 224.64 \nL 141.104703 224.64 \nz\n\" style=\"fill:#1f77b4;opacity:0.4;\"/>\n   </g>\n   <g id=\"patch_12\">\n    <path clip-path=\"url(#p21d9d94bba)\" d=\"M 146.723911 224.64 \nL 152.34312 224.64 \nL 152.34312 224.64 \nL 146.723911 224.64 \nz\n\" style=\"fill:#1f77b4;opacity:0.4;\"/>\n   </g>\n   <g id=\"patch_13\">\n    <path clip-path=\"url(#p21d9d94bba)\" d=\"M 152.34312 224.64 \nL 157.962329 224.64 \nL 157.962329 223.320983 \nL 152.34312 223.320983 \nz\n\" style=\"fill:#1f77b4;opacity:0.4;\"/>\n   </g>\n   <g id=\"patch_14\">\n    <path clip-path=\"url(#p21d9d94bba)\" d=\"M 157.962329 224.64 \nL 163.581537 224.64 \nL 163.581537 222.001965 \nL 157.962329 222.001965 \nz\n\" style=\"fill:#1f77b4;opacity:0.4;\"/>\n   </g>\n   <g id=\"patch_15\">\n    <path clip-path=\"url(#p21d9d94bba)\" d=\"M 163.581537 224.64 \nL 169.200746 224.64 \nL 169.200746 219.363931 \nL 163.581537 219.363931 \nz\n\" style=\"fill:#1f77b4;opacity:0.4;\"/>\n   </g>\n   <g id=\"patch_16\">\n    <path clip-path=\"url(#p21d9d94bba)\" d=\"M 169.200746 224.64 \nL 174.819955 224.64 \nL 174.819955 213.428353 \nL 169.200746 213.428353 \nz\n\" style=\"fill:#1f77b4;opacity:0.4;\"/>\n   </g>\n   <g id=\"patch_17\">\n    <path clip-path=\"url(#p21d9d94bba)\" d=\"M 174.819955 224.64 \nL 180.439163 224.64 \nL 180.439163 192.324076 \nL 174.819955 192.324076 \nz\n\" style=\"fill:#1f77b4;opacity:0.4;\"/>\n   </g>\n   <g id=\"patch_18\">\n    <path clip-path=\"url(#p21d9d94bba)\" d=\"M 180.439163 224.64 \nL 186.058372 224.64 \nL 186.058372 164.624713 \nL 180.439163 164.624713 \nz\n\" style=\"fill:#1f77b4;opacity:0.4;\"/>\n   </g>\n   <g id=\"patch_19\">\n    <path clip-path=\"url(#p21d9d94bba)\" d=\"M 186.058372 224.64 \nL 191.677581 224.64 \nL 191.677581 103.290409 \nL 186.058372 103.290409 \nz\n\" style=\"fill:#1f77b4;opacity:0.4;\"/>\n   </g>\n   <g id=\"patch_20\">\n    <path clip-path=\"url(#p21d9d94bba)\" d=\"M 191.677581 224.64 \nL 197.296789 224.64 \nL 197.296789 45.913157 \nL 191.677581 45.913157 \nz\n\" style=\"fill:#1f77b4;opacity:0.4;\"/>\n   </g>\n   <g id=\"patch_21\">\n    <path clip-path=\"url(#p21d9d94bba)\" d=\"M 197.296789 224.64 \nL 202.915998 224.64 \nL 202.915998 17.554286 \nL 197.296789 17.554286 \nz\n\" style=\"fill:#1f77b4;opacity:0.4;\"/>\n   </g>\n   <g id=\"patch_22\">\n    <path clip-path=\"url(#p21d9d94bba)\" d=\"M 202.915998 224.64 \nL 208.535207 224.64 \nL 208.535207 95.376306 \nL 202.915998 95.376306 \nz\n\" style=\"fill:#1f77b4;opacity:0.4;\"/>\n   </g>\n   <g id=\"patch_23\">\n    <path clip-path=\"url(#p21d9d94bba)\" d=\"M 208.535207 224.64 \nL 214.154415 224.64 \nL 214.154415 116.480582 \nL 208.535207 116.480582 \nz\n\" style=\"fill:#1f77b4;opacity:0.4;\"/>\n   </g>\n   <g id=\"patch_24\">\n    <path clip-path=\"url(#p21d9d94bba)\" d=\"M 214.154415 224.64 \nL 219.773624 224.64 \nL 219.773624 159.348644 \nL 214.154415 159.348644 \nz\n\" style=\"fill:#1f77b4;opacity:0.4;\"/>\n   </g>\n   <g id=\"patch_25\">\n    <path clip-path=\"url(#p21d9d94bba)\" d=\"M 219.773624 224.64 \nL 225.392833 224.64 \nL 225.392833 189.686042 \nL 219.773624 189.686042 \nz\n\" style=\"fill:#1f77b4;opacity:0.4;\"/>\n   </g>\n   <g id=\"patch_26\">\n    <path clip-path=\"url(#p21d9d94bba)\" d=\"M 225.392833 224.64 \nL 231.012041 224.64 \nL 231.012041 198.259654 \nL 225.392833 198.259654 \nz\n\" style=\"fill:#1f77b4;opacity:0.4;\"/>\n   </g>\n   <g id=\"patch_27\">\n    <path clip-path=\"url(#p21d9d94bba)\" d=\"M 231.012041 224.64 \nL 236.63125 224.64 \nL 236.63125 215.406879 \nL 231.012041 215.406879 \nz\n\" style=\"fill:#1f77b4;opacity:0.4;\"/>\n   </g>\n   <g id=\"patch_28\">\n    <path clip-path=\"url(#p21d9d94bba)\" d=\"M 236.63125 224.64 \nL 242.250459 224.64 \nL 242.250459 218.704422 \nL 236.63125 218.704422 \nz\n\" style=\"fill:#1f77b4;opacity:0.4;\"/>\n   </g>\n   <g id=\"patch_29\">\n    <path clip-path=\"url(#p21d9d94bba)\" d=\"M 242.250459 224.64 \nL 247.869667 224.64 \nL 247.869667 217.385405 \nL 242.250459 217.385405 \nz\n\" style=\"fill:#1f77b4;opacity:0.4;\"/>\n   </g>\n   <g id=\"patch_30\">\n    <path clip-path=\"url(#p21d9d94bba)\" d=\"M 247.869667 224.64 \nL 253.488876 224.64 \nL 253.488876 223.320983 \nL 247.869667 223.320983 \nz\n\" style=\"fill:#1f77b4;opacity:0.4;\"/>\n   </g>\n   <g id=\"patch_31\">\n    <path clip-path=\"url(#p21d9d94bba)\" d=\"M 253.488876 224.64 \nL 259.108085 224.64 \nL 259.108085 222.661474 \nL 253.488876 222.661474 \nz\n\" style=\"fill:#1f77b4;opacity:0.4;\"/>\n   </g>\n   <g id=\"patch_32\">\n    <path clip-path=\"url(#p21d9d94bba)\" d=\"M 259.108085 224.64 \nL 264.727293 224.64 \nL 264.727293 222.661474 \nL 259.108085 222.661474 \nz\n\" style=\"fill:#1f77b4;opacity:0.4;\"/>\n   </g>\n   <g id=\"patch_33\">\n    <path clip-path=\"url(#p21d9d94bba)\" d=\"M 264.727293 224.64 \nL 270.346502 224.64 \nL 270.346502 223.320983 \nL 264.727293 223.320983 \nz\n\" style=\"fill:#1f77b4;opacity:0.4;\"/>\n   </g>\n   <g id=\"patch_34\">\n    <path clip-path=\"url(#p21d9d94bba)\" d=\"M 270.346502 224.64 \nL 275.965711 224.64 \nL 275.965711 223.320983 \nL 270.346502 223.320983 \nz\n\" style=\"fill:#1f77b4;opacity:0.4;\"/>\n   </g>\n   <g id=\"patch_35\">\n    <path clip-path=\"url(#p21d9d94bba)\" d=\"M 275.965711 224.64 \nL 281.584919 224.64 \nL 281.584919 223.980491 \nL 275.965711 223.980491 \nz\n\" style=\"fill:#1f77b4;opacity:0.4;\"/>\n   </g>\n   <g id=\"patch_36\">\n    <path clip-path=\"url(#p21d9d94bba)\" d=\"M 281.584919 224.64 \nL 287.204128 224.64 \nL 287.204128 224.64 \nL 281.584919 224.64 \nz\n\" style=\"fill:#1f77b4;opacity:0.4;\"/>\n   </g>\n   <g id=\"patch_37\">\n    <path clip-path=\"url(#p21d9d94bba)\" d=\"M 287.204128 224.64 \nL 292.823337 224.64 \nL 292.823337 223.980491 \nL 287.204128 223.980491 \nz\n\" style=\"fill:#1f77b4;opacity:0.4;\"/>\n   </g>\n   <g id=\"patch_38\">\n    <path clip-path=\"url(#p21d9d94bba)\" d=\"M 292.823337 224.64 \nL 298.442545 224.64 \nL 298.442545 224.64 \nL 292.823337 224.64 \nz\n\" style=\"fill:#1f77b4;opacity:0.4;\"/>\n   </g>\n   <g id=\"patch_39\">\n    <path clip-path=\"url(#p21d9d94bba)\" d=\"M 298.442545 224.64 \nL 304.061754 224.64 \nL 304.061754 224.64 \nL 298.442545 224.64 \nz\n\" style=\"fill:#1f77b4;opacity:0.4;\"/>\n   </g>\n   <g id=\"patch_40\">\n    <path clip-path=\"url(#p21d9d94bba)\" d=\"M 304.061754 224.64 \nL 309.680963 224.64 \nL 309.680963 224.64 \nL 304.061754 224.64 \nz\n\" style=\"fill:#1f77b4;opacity:0.4;\"/>\n   </g>\n   <g id=\"patch_41\">\n    <path clip-path=\"url(#p21d9d94bba)\" d=\"M 309.680963 224.64 \nL 315.300171 224.64 \nL 315.300171 224.64 \nL 309.680963 224.64 \nz\n\" style=\"fill:#1f77b4;opacity:0.4;\"/>\n   </g>\n   <g id=\"patch_42\">\n    <path clip-path=\"url(#p21d9d94bba)\" d=\"M 315.300171 224.64 \nL 320.91938 224.64 \nL 320.91938 222.661474 \nL 315.300171 222.661474 \nz\n\" style=\"fill:#1f77b4;opacity:0.4;\"/>\n   </g>\n   <g id=\"patch_43\">\n    <path clip-path=\"url(#p21d9d94bba)\" d=\"M 320.91938 224.64 \nL 326.538589 224.64 \nL 326.538589 223.980491 \nL 320.91938 223.980491 \nz\n\" style=\"fill:#1f77b4;opacity:0.4;\"/>\n   </g>\n   <g id=\"patch_44\">\n    <path clip-path=\"url(#p21d9d94bba)\" d=\"M 326.538589 224.64 \nL 332.157797 224.64 \nL 332.157797 224.64 \nL 326.538589 224.64 \nz\n\" style=\"fill:#1f77b4;opacity:0.4;\"/>\n   </g>\n   <g id=\"patch_45\">\n    <path clip-path=\"url(#p21d9d94bba)\" d=\"M 332.157797 224.64 \nL 337.777006 224.64 \nL 337.777006 224.64 \nL 332.157797 224.64 \nz\n\" style=\"fill:#1f77b4;opacity:0.4;\"/>\n   </g>\n   <g id=\"patch_46\">\n    <path clip-path=\"url(#p21d9d94bba)\" d=\"M 337.777006 224.64 \nL 343.396215 224.64 \nL 343.396215 224.64 \nL 337.777006 224.64 \nz\n\" style=\"fill:#1f77b4;opacity:0.4;\"/>\n   </g>\n   <g id=\"patch_47\">\n    <path clip-path=\"url(#p21d9d94bba)\" d=\"M 343.396215 224.64 \nL 349.015423 224.64 \nL 349.015423 224.64 \nL 343.396215 224.64 \nz\n\" style=\"fill:#1f77b4;opacity:0.4;\"/>\n   </g>\n   <g id=\"patch_48\">\n    <path clip-path=\"url(#p21d9d94bba)\" d=\"M 349.015423 224.64 \nL 354.634632 224.64 \nL 354.634632 224.64 \nL 349.015423 224.64 \nz\n\" style=\"fill:#1f77b4;opacity:0.4;\"/>\n   </g>\n   <g id=\"patch_49\">\n    <path clip-path=\"url(#p21d9d94bba)\" d=\"M 354.634632 224.64 \nL 360.253841 224.64 \nL 360.253841 224.64 \nL 354.634632 224.64 \nz\n\" style=\"fill:#1f77b4;opacity:0.4;\"/>\n   </g>\n   <g id=\"patch_50\">\n    <path clip-path=\"url(#p21d9d94bba)\" d=\"M 360.253841 224.64 \nL 365.873049 224.64 \nL 365.873049 224.64 \nL 360.253841 224.64 \nz\n\" style=\"fill:#1f77b4;opacity:0.4;\"/>\n   </g>\n   <g id=\"patch_51\">\n    <path clip-path=\"url(#p21d9d94bba)\" d=\"M 365.873049 224.64 \nL 371.492258 224.64 \nL 371.492258 224.64 \nL 365.873049 224.64 \nz\n\" style=\"fill:#1f77b4;opacity:0.4;\"/>\n   </g>\n   <g id=\"patch_52\">\n    <path clip-path=\"url(#p21d9d94bba)\" d=\"M 371.492258 224.64 \nL 377.111467 224.64 \nL 377.111467 223.980491 \nL 371.492258 223.980491 \nz\n\" style=\"fill:#1f77b4;opacity:0.4;\"/>\n   </g>\n   <g id=\"matplotlib.axis_1\">\n    <g id=\"xtick_1\">\n     <g id=\"line2d_1\">\n      <defs>\n       <path d=\"M 0 0 \nL 0 3.5 \n\" id=\"m10fbdfff68\" style=\"stroke:#000000;stroke-width:0.8;\"/>\n      </defs>\n      <g>\n       <use style=\"stroke:#000000;stroke-width:0.8;\" x=\"78.234905\" xlink:href=\"#m10fbdfff68\" y=\"224.64\"/>\n      </g>\n     </g>\n     <g id=\"text_1\">\n      <!-- −40000 -->\n      <g transform=\"translate(58.138812 239.238437)scale(0.1 -0.1)\">\n       <defs>\n        <path d=\"M 678 2272 \nL 4684 2272 \nL 4684 1741 \nL 678 1741 \nL 678 2272 \nz\n\" id=\"DejaVuSans-2212\" transform=\"scale(0.015625)\"/>\n        <path d=\"M 2419 4116 \nL 825 1625 \nL 2419 1625 \nL 2419 4116 \nz\nM 2253 4666 \nL 3047 4666 \nL 3047 1625 \nL 3713 1625 \nL 3713 1100 \nL 3047 1100 \nL 3047 0 \nL 2419 0 \nL 2419 1100 \nL 313 1100 \nL 313 1709 \nL 2253 4666 \nz\n\" id=\"DejaVuSans-34\" transform=\"scale(0.015625)\"/>\n        <path d=\"M 2034 4250 \nQ 1547 4250 1301 3770 \nQ 1056 3291 1056 2328 \nQ 1056 1369 1301 889 \nQ 1547 409 2034 409 \nQ 2525 409 2770 889 \nQ 3016 1369 3016 2328 \nQ 3016 3291 2770 3770 \nQ 2525 4250 2034 4250 \nz\nM 2034 4750 \nQ 2819 4750 3233 4129 \nQ 3647 3509 3647 2328 \nQ 3647 1150 3233 529 \nQ 2819 -91 2034 -91 \nQ 1250 -91 836 529 \nQ 422 1150 422 2328 \nQ 422 3509 836 4129 \nQ 1250 4750 2034 4750 \nz\n\" id=\"DejaVuSans-30\" transform=\"scale(0.015625)\"/>\n       </defs>\n       <use xlink:href=\"#DejaVuSans-2212\"/>\n       <use x=\"83.789062\" xlink:href=\"#DejaVuSans-34\"/>\n       <use x=\"147.412109\" xlink:href=\"#DejaVuSans-30\"/>\n       <use x=\"211.035156\" xlink:href=\"#DejaVuSans-30\"/>\n       <use x=\"274.658203\" xlink:href=\"#DejaVuSans-30\"/>\n       <use x=\"338.28125\" xlink:href=\"#DejaVuSans-30\"/>\n      </g>\n     </g>\n    </g>\n    <g id=\"xtick_2\">\n     <g id=\"line2d_2\">\n      <g>\n       <use style=\"stroke:#000000;stroke-width:0.8;\" x=\"139.675753\" xlink:href=\"#m10fbdfff68\" y=\"224.64\"/>\n      </g>\n     </g>\n     <g id=\"text_2\">\n      <!-- −20000 -->\n      <g transform=\"translate(119.57966 239.238437)scale(0.1 -0.1)\">\n       <defs>\n        <path d=\"M 1228 531 \nL 3431 531 \nL 3431 0 \nL 469 0 \nL 469 531 \nQ 828 903 1448 1529 \nQ 2069 2156 2228 2338 \nQ 2531 2678 2651 2914 \nQ 2772 3150 2772 3378 \nQ 2772 3750 2511 3984 \nQ 2250 4219 1831 4219 \nQ 1534 4219 1204 4116 \nQ 875 4013 500 3803 \nL 500 4441 \nQ 881 4594 1212 4672 \nQ 1544 4750 1819 4750 \nQ 2544 4750 2975 4387 \nQ 3406 4025 3406 3419 \nQ 3406 3131 3298 2873 \nQ 3191 2616 2906 2266 \nQ 2828 2175 2409 1742 \nQ 1991 1309 1228 531 \nz\n\" id=\"DejaVuSans-32\" transform=\"scale(0.015625)\"/>\n       </defs>\n       <use xlink:href=\"#DejaVuSans-2212\"/>\n       <use x=\"83.789062\" xlink:href=\"#DejaVuSans-32\"/>\n       <use x=\"147.412109\" xlink:href=\"#DejaVuSans-30\"/>\n       <use x=\"211.035156\" xlink:href=\"#DejaVuSans-30\"/>\n       <use x=\"274.658203\" xlink:href=\"#DejaVuSans-30\"/>\n       <use x=\"338.28125\" xlink:href=\"#DejaVuSans-30\"/>\n      </g>\n     </g>\n    </g>\n    <g id=\"xtick_3\">\n     <g id=\"line2d_3\">\n      <g>\n       <use style=\"stroke:#000000;stroke-width:0.8;\" x=\"201.116601\" xlink:href=\"#m10fbdfff68\" y=\"224.64\"/>\n      </g>\n     </g>\n     <g id=\"text_3\">\n      <!-- 0 -->\n      <g transform=\"translate(197.935351 239.238437)scale(0.1 -0.1)\">\n       <use xlink:href=\"#DejaVuSans-30\"/>\n      </g>\n     </g>\n    </g>\n    <g id=\"xtick_4\">\n     <g id=\"line2d_4\">\n      <g>\n       <use style=\"stroke:#000000;stroke-width:0.8;\" x=\"262.557449\" xlink:href=\"#m10fbdfff68\" y=\"224.64\"/>\n      </g>\n     </g>\n     <g id=\"text_4\">\n      <!-- 20000 -->\n      <g transform=\"translate(246.651199 239.238437)scale(0.1 -0.1)\">\n       <use xlink:href=\"#DejaVuSans-32\"/>\n       <use x=\"63.623047\" xlink:href=\"#DejaVuSans-30\"/>\n       <use x=\"127.246094\" xlink:href=\"#DejaVuSans-30\"/>\n       <use x=\"190.869141\" xlink:href=\"#DejaVuSans-30\"/>\n       <use x=\"254.492188\" xlink:href=\"#DejaVuSans-30\"/>\n      </g>\n     </g>\n    </g>\n    <g id=\"xtick_5\">\n     <g id=\"line2d_5\">\n      <g>\n       <use style=\"stroke:#000000;stroke-width:0.8;\" x=\"323.998297\" xlink:href=\"#m10fbdfff68\" y=\"224.64\"/>\n      </g>\n     </g>\n     <g id=\"text_5\">\n      <!-- 40000 -->\n      <g transform=\"translate(308.092047 239.238437)scale(0.1 -0.1)\">\n       <use xlink:href=\"#DejaVuSans-34\"/>\n       <use x=\"63.623047\" xlink:href=\"#DejaVuSans-30\"/>\n       <use x=\"127.246094\" xlink:href=\"#DejaVuSans-30\"/>\n       <use x=\"190.869141\" xlink:href=\"#DejaVuSans-30\"/>\n       <use x=\"254.492188\" xlink:href=\"#DejaVuSans-30\"/>\n      </g>\n     </g>\n    </g>\n    <g id=\"xtick_6\">\n     <g id=\"line2d_6\">\n      <g>\n       <use style=\"stroke:#000000;stroke-width:0.8;\" x=\"385.439145\" xlink:href=\"#m10fbdfff68\" y=\"224.64\"/>\n      </g>\n     </g>\n     <g id=\"text_6\">\n      <!-- 60000 -->\n      <g transform=\"translate(369.532895 239.238437)scale(0.1 -0.1)\">\n       <defs>\n        <path d=\"M 2113 2584 \nQ 1688 2584 1439 2293 \nQ 1191 2003 1191 1497 \nQ 1191 994 1439 701 \nQ 1688 409 2113 409 \nQ 2538 409 2786 701 \nQ 3034 994 3034 1497 \nQ 3034 2003 2786 2293 \nQ 2538 2584 2113 2584 \nz\nM 3366 4563 \nL 3366 3988 \nQ 3128 4100 2886 4159 \nQ 2644 4219 2406 4219 \nQ 1781 4219 1451 3797 \nQ 1122 3375 1075 2522 \nQ 1259 2794 1537 2939 \nQ 1816 3084 2150 3084 \nQ 2853 3084 3261 2657 \nQ 3669 2231 3669 1497 \nQ 3669 778 3244 343 \nQ 2819 -91 2113 -91 \nQ 1303 -91 875 529 \nQ 447 1150 447 2328 \nQ 447 3434 972 4092 \nQ 1497 4750 2381 4750 \nQ 2619 4750 2861 4703 \nQ 3103 4656 3366 4563 \nz\n\" id=\"DejaVuSans-36\" transform=\"scale(0.015625)\"/>\n       </defs>\n       <use xlink:href=\"#DejaVuSans-36\"/>\n       <use x=\"63.623047\" xlink:href=\"#DejaVuSans-30\"/>\n       <use x=\"127.246094\" xlink:href=\"#DejaVuSans-30\"/>\n       <use x=\"190.869141\" xlink:href=\"#DejaVuSans-30\"/>\n       <use x=\"254.492188\" xlink:href=\"#DejaVuSans-30\"/>\n      </g>\n     </g>\n    </g>\n    <g id=\"text_7\">\n     <!-- Rent -->\n     <g transform=\"translate(225.176563 252.916562)scale(0.1 -0.1)\">\n      <defs>\n       <path d=\"M 2841 2188 \nQ 3044 2119 3236 1894 \nQ 3428 1669 3622 1275 \nL 4263 0 \nL 3584 0 \nL 2988 1197 \nQ 2756 1666 2539 1819 \nQ 2322 1972 1947 1972 \nL 1259 1972 \nL 1259 0 \nL 628 0 \nL 628 4666 \nL 2053 4666 \nQ 2853 4666 3247 4331 \nQ 3641 3997 3641 3322 \nQ 3641 2881 3436 2590 \nQ 3231 2300 2841 2188 \nz\nM 1259 4147 \nL 1259 2491 \nL 2053 2491 \nQ 2509 2491 2742 2702 \nQ 2975 2913 2975 3322 \nQ 2975 3731 2742 3939 \nQ 2509 4147 2053 4147 \nL 1259 4147 \nz\n\" id=\"DejaVuSans-52\" transform=\"scale(0.015625)\"/>\n       <path d=\"M 3597 1894 \nL 3597 1613 \nL 953 1613 \nQ 991 1019 1311 708 \nQ 1631 397 2203 397 \nQ 2534 397 2845 478 \nQ 3156 559 3463 722 \nL 3463 178 \nQ 3153 47 2828 -22 \nQ 2503 -91 2169 -91 \nQ 1331 -91 842 396 \nQ 353 884 353 1716 \nQ 353 2575 817 3079 \nQ 1281 3584 2069 3584 \nQ 2775 3584 3186 3129 \nQ 3597 2675 3597 1894 \nz\nM 3022 2063 \nQ 3016 2534 2758 2815 \nQ 2500 3097 2075 3097 \nQ 1594 3097 1305 2825 \nQ 1016 2553 972 2059 \nL 3022 2063 \nz\n\" id=\"DejaVuSans-65\" transform=\"scale(0.015625)\"/>\n       <path d=\"M 3513 2113 \nL 3513 0 \nL 2938 0 \nL 2938 2094 \nQ 2938 2591 2744 2837 \nQ 2550 3084 2163 3084 \nQ 1697 3084 1428 2787 \nQ 1159 2491 1159 1978 \nL 1159 0 \nL 581 0 \nL 581 3500 \nL 1159 3500 \nL 1159 2956 \nQ 1366 3272 1645 3428 \nQ 1925 3584 2291 3584 \nQ 2894 3584 3203 3211 \nQ 3513 2838 3513 2113 \nz\n\" id=\"DejaVuSans-6e\" transform=\"scale(0.015625)\"/>\n       <path d=\"M 1172 4494 \nL 1172 3500 \nL 2356 3500 \nL 2356 3053 \nL 1172 3053 \nL 1172 1153 \nQ 1172 725 1289 603 \nQ 1406 481 1766 481 \nL 2356 481 \nL 2356 0 \nL 1766 0 \nQ 1100 0 847 248 \nQ 594 497 594 1153 \nL 594 3053 \nL 172 3053 \nL 172 3500 \nL 594 3500 \nL 594 4494 \nL 1172 4494 \nz\n\" id=\"DejaVuSans-74\" transform=\"scale(0.015625)\"/>\n      </defs>\n      <use xlink:href=\"#DejaVuSans-52\"/>\n      <use x=\"64.982422\" xlink:href=\"#DejaVuSans-65\"/>\n      <use x=\"126.505859\" xlink:href=\"#DejaVuSans-6e\"/>\n      <use x=\"189.884766\" xlink:href=\"#DejaVuSans-74\"/>\n     </g>\n    </g>\n   </g>\n   <g id=\"matplotlib.axis_2\">\n    <g id=\"ytick_1\">\n     <g id=\"line2d_7\">\n      <defs>\n       <path d=\"M 0 0 \nL -3.5 0 \n\" id=\"m92fc4d3b12\" style=\"stroke:#000000;stroke-width:0.8;\"/>\n      </defs>\n      <g>\n       <use style=\"stroke:#000000;stroke-width:0.8;\" x=\"69.23125\" xlink:href=\"#m92fc4d3b12\" y=\"224.64\"/>\n      </g>\n     </g>\n     <g id=\"text_8\">\n      <!-- 0.00000 -->\n      <g transform=\"translate(20.878125 228.439219)scale(0.1 -0.1)\">\n       <defs>\n        <path d=\"M 684 794 \nL 1344 794 \nL 1344 0 \nL 684 0 \nL 684 794 \nz\n\" id=\"DejaVuSans-2e\" transform=\"scale(0.015625)\"/>\n       </defs>\n       <use xlink:href=\"#DejaVuSans-30\"/>\n       <use x=\"63.623047\" xlink:href=\"#DejaVuSans-2e\"/>\n       <use x=\"95.410156\" xlink:href=\"#DejaVuSans-30\"/>\n       <use x=\"159.033203\" xlink:href=\"#DejaVuSans-30\"/>\n       <use x=\"222.65625\" xlink:href=\"#DejaVuSans-30\"/>\n       <use x=\"286.279297\" xlink:href=\"#DejaVuSans-30\"/>\n       <use x=\"349.902344\" xlink:href=\"#DejaVuSans-30\"/>\n      </g>\n     </g>\n    </g>\n    <g id=\"ytick_2\">\n     <g id=\"line2d_8\">\n      <g>\n       <use style=\"stroke:#000000;stroke-width:0.8;\" x=\"69.23125\" xlink:href=\"#m92fc4d3b12\" y=\"187.267697\"/>\n      </g>\n     </g>\n     <g id=\"text_9\">\n      <!-- 0.00002 -->\n      <g transform=\"translate(20.878125 191.066916)scale(0.1 -0.1)\">\n       <use xlink:href=\"#DejaVuSans-30\"/>\n       <use x=\"63.623047\" xlink:href=\"#DejaVuSans-2e\"/>\n       <use x=\"95.410156\" xlink:href=\"#DejaVuSans-30\"/>\n       <use x=\"159.033203\" xlink:href=\"#DejaVuSans-30\"/>\n       <use x=\"222.65625\" xlink:href=\"#DejaVuSans-30\"/>\n       <use x=\"286.279297\" xlink:href=\"#DejaVuSans-30\"/>\n       <use x=\"349.902344\" xlink:href=\"#DejaVuSans-32\"/>\n      </g>\n     </g>\n    </g>\n    <g id=\"ytick_3\">\n     <g id=\"line2d_9\">\n      <g>\n       <use style=\"stroke:#000000;stroke-width:0.8;\" x=\"69.23125\" xlink:href=\"#m92fc4d3b12\" y=\"149.895394\"/>\n      </g>\n     </g>\n     <g id=\"text_10\">\n      <!-- 0.00004 -->\n      <g transform=\"translate(20.878125 153.694613)scale(0.1 -0.1)\">\n       <use xlink:href=\"#DejaVuSans-30\"/>\n       <use x=\"63.623047\" xlink:href=\"#DejaVuSans-2e\"/>\n       <use x=\"95.410156\" xlink:href=\"#DejaVuSans-30\"/>\n       <use x=\"159.033203\" xlink:href=\"#DejaVuSans-30\"/>\n       <use x=\"222.65625\" xlink:href=\"#DejaVuSans-30\"/>\n       <use x=\"286.279297\" xlink:href=\"#DejaVuSans-30\"/>\n       <use x=\"349.902344\" xlink:href=\"#DejaVuSans-34\"/>\n      </g>\n     </g>\n    </g>\n    <g id=\"ytick_4\">\n     <g id=\"line2d_10\">\n      <g>\n       <use style=\"stroke:#000000;stroke-width:0.8;\" x=\"69.23125\" xlink:href=\"#m92fc4d3b12\" y=\"112.523091\"/>\n      </g>\n     </g>\n     <g id=\"text_11\">\n      <!-- 0.00006 -->\n      <g transform=\"translate(20.878125 116.32231)scale(0.1 -0.1)\">\n       <use xlink:href=\"#DejaVuSans-30\"/>\n       <use x=\"63.623047\" xlink:href=\"#DejaVuSans-2e\"/>\n       <use x=\"95.410156\" xlink:href=\"#DejaVuSans-30\"/>\n       <use x=\"159.033203\" xlink:href=\"#DejaVuSans-30\"/>\n       <use x=\"222.65625\" xlink:href=\"#DejaVuSans-30\"/>\n       <use x=\"286.279297\" xlink:href=\"#DejaVuSans-30\"/>\n       <use x=\"349.902344\" xlink:href=\"#DejaVuSans-36\"/>\n      </g>\n     </g>\n    </g>\n    <g id=\"ytick_5\">\n     <g id=\"line2d_11\">\n      <g>\n       <use style=\"stroke:#000000;stroke-width:0.8;\" x=\"69.23125\" xlink:href=\"#m92fc4d3b12\" y=\"75.150788\"/>\n      </g>\n     </g>\n     <g id=\"text_12\">\n      <!-- 0.00008 -->\n      <g transform=\"translate(20.878125 78.950007)scale(0.1 -0.1)\">\n       <defs>\n        <path d=\"M 2034 2216 \nQ 1584 2216 1326 1975 \nQ 1069 1734 1069 1313 \nQ 1069 891 1326 650 \nQ 1584 409 2034 409 \nQ 2484 409 2743 651 \nQ 3003 894 3003 1313 \nQ 3003 1734 2745 1975 \nQ 2488 2216 2034 2216 \nz\nM 1403 2484 \nQ 997 2584 770 2862 \nQ 544 3141 544 3541 \nQ 544 4100 942 4425 \nQ 1341 4750 2034 4750 \nQ 2731 4750 3128 4425 \nQ 3525 4100 3525 3541 \nQ 3525 3141 3298 2862 \nQ 3072 2584 2669 2484 \nQ 3125 2378 3379 2068 \nQ 3634 1759 3634 1313 \nQ 3634 634 3220 271 \nQ 2806 -91 2034 -91 \nQ 1263 -91 848 271 \nQ 434 634 434 1313 \nQ 434 1759 690 2068 \nQ 947 2378 1403 2484 \nz\nM 1172 3481 \nQ 1172 3119 1398 2916 \nQ 1625 2713 2034 2713 \nQ 2441 2713 2670 2916 \nQ 2900 3119 2900 3481 \nQ 2900 3844 2670 4047 \nQ 2441 4250 2034 4250 \nQ 1625 4250 1398 4047 \nQ 1172 3844 1172 3481 \nz\n\" id=\"DejaVuSans-38\" transform=\"scale(0.015625)\"/>\n       </defs>\n       <use xlink:href=\"#DejaVuSans-30\"/>\n       <use x=\"63.623047\" xlink:href=\"#DejaVuSans-2e\"/>\n       <use x=\"95.410156\" xlink:href=\"#DejaVuSans-30\"/>\n       <use x=\"159.033203\" xlink:href=\"#DejaVuSans-30\"/>\n       <use x=\"222.65625\" xlink:href=\"#DejaVuSans-30\"/>\n       <use x=\"286.279297\" xlink:href=\"#DejaVuSans-30\"/>\n       <use x=\"349.902344\" xlink:href=\"#DejaVuSans-38\"/>\n      </g>\n     </g>\n    </g>\n    <g id=\"ytick_6\">\n     <g id=\"line2d_12\">\n      <g>\n       <use style=\"stroke:#000000;stroke-width:0.8;\" x=\"69.23125\" xlink:href=\"#m92fc4d3b12\" y=\"37.778485\"/>\n      </g>\n     </g>\n     <g id=\"text_13\">\n      <!-- 0.00010 -->\n      <g transform=\"translate(20.878125 41.577704)scale(0.1 -0.1)\">\n       <defs>\n        <path d=\"M 794 531 \nL 1825 531 \nL 1825 4091 \nL 703 3866 \nL 703 4441 \nL 1819 4666 \nL 2450 4666 \nL 2450 531 \nL 3481 531 \nL 3481 0 \nL 794 0 \nL 794 531 \nz\n\" id=\"DejaVuSans-31\" transform=\"scale(0.015625)\"/>\n       </defs>\n       <use xlink:href=\"#DejaVuSans-30\"/>\n       <use x=\"63.623047\" xlink:href=\"#DejaVuSans-2e\"/>\n       <use x=\"95.410156\" xlink:href=\"#DejaVuSans-30\"/>\n       <use x=\"159.033203\" xlink:href=\"#DejaVuSans-30\"/>\n       <use x=\"222.65625\" xlink:href=\"#DejaVuSans-30\"/>\n       <use x=\"286.279297\" xlink:href=\"#DejaVuSans-31\"/>\n       <use x=\"349.902344\" xlink:href=\"#DejaVuSans-30\"/>\n      </g>\n     </g>\n    </g>\n    <g id=\"text_14\">\n     <!-- Density -->\n     <g transform=\"translate(14.798437 134.928594)rotate(-90)scale(0.1 -0.1)\">\n      <defs>\n       <path d=\"M 1259 4147 \nL 1259 519 \nL 2022 519 \nQ 2988 519 3436 956 \nQ 3884 1394 3884 2338 \nQ 3884 3275 3436 3711 \nQ 2988 4147 2022 4147 \nL 1259 4147 \nz\nM 628 4666 \nL 1925 4666 \nQ 3281 4666 3915 4102 \nQ 4550 3538 4550 2338 \nQ 4550 1131 3912 565 \nQ 3275 0 1925 0 \nL 628 0 \nL 628 4666 \nz\n\" id=\"DejaVuSans-44\" transform=\"scale(0.015625)\"/>\n       <path d=\"M 2834 3397 \nL 2834 2853 \nQ 2591 2978 2328 3040 \nQ 2066 3103 1784 3103 \nQ 1356 3103 1142 2972 \nQ 928 2841 928 2578 \nQ 928 2378 1081 2264 \nQ 1234 2150 1697 2047 \nL 1894 2003 \nQ 2506 1872 2764 1633 \nQ 3022 1394 3022 966 \nQ 3022 478 2636 193 \nQ 2250 -91 1575 -91 \nQ 1294 -91 989 -36 \nQ 684 19 347 128 \nL 347 722 \nQ 666 556 975 473 \nQ 1284 391 1588 391 \nQ 1994 391 2212 530 \nQ 2431 669 2431 922 \nQ 2431 1156 2273 1281 \nQ 2116 1406 1581 1522 \nL 1381 1569 \nQ 847 1681 609 1914 \nQ 372 2147 372 2553 \nQ 372 3047 722 3315 \nQ 1072 3584 1716 3584 \nQ 2034 3584 2315 3537 \nQ 2597 3491 2834 3397 \nz\n\" id=\"DejaVuSans-73\" transform=\"scale(0.015625)\"/>\n       <path d=\"M 603 3500 \nL 1178 3500 \nL 1178 0 \nL 603 0 \nL 603 3500 \nz\nM 603 4863 \nL 1178 4863 \nL 1178 4134 \nL 603 4134 \nL 603 4863 \nz\n\" id=\"DejaVuSans-69\" transform=\"scale(0.015625)\"/>\n       <path d=\"M 2059 -325 \nQ 1816 -950 1584 -1140 \nQ 1353 -1331 966 -1331 \nL 506 -1331 \nL 506 -850 \nL 844 -850 \nQ 1081 -850 1212 -737 \nQ 1344 -625 1503 -206 \nL 1606 56 \nL 191 3500 \nL 800 3500 \nL 1894 763 \nL 2988 3500 \nL 3597 3500 \nL 2059 -325 \nz\n\" id=\"DejaVuSans-79\" transform=\"scale(0.015625)\"/>\n      </defs>\n      <use xlink:href=\"#DejaVuSans-44\"/>\n      <use x=\"77.001953\" xlink:href=\"#DejaVuSans-65\"/>\n      <use x=\"138.525391\" xlink:href=\"#DejaVuSans-6e\"/>\n      <use x=\"201.904297\" xlink:href=\"#DejaVuSans-73\"/>\n      <use x=\"254.003906\" xlink:href=\"#DejaVuSans-69\"/>\n      <use x=\"281.787109\" xlink:href=\"#DejaVuSans-74\"/>\n      <use x=\"320.996094\" xlink:href=\"#DejaVuSans-79\"/>\n     </g>\n    </g>\n   </g>\n   <g id=\"line2d_13\">\n    <path clip-path=\"url(#p21d9d94bba)\" d=\"M 84.449432 224.635789 \nL 90.567294 224.503954 \nL 96.685156 224.2645 \nL 111.979811 224.639861 \nL 121.156604 224.580503 \nL 125.745001 224.308716 \nL 131.862863 223.81001 \nL 134.921794 223.775834 \nL 137.980725 224.059362 \nL 142.569121 224.523183 \nL 145.628052 224.58129 \nL 148.686983 224.421842 \nL 151.745914 223.951725 \nL 160.922707 221.796492 \nL 162.452173 221.324572 \nL 163.981638 220.696205 \nL 165.511104 219.830831 \nL 167.040569 218.619426 \nL 168.570035 216.926903 \nL 170.0995 214.611287 \nL 171.628966 211.549587 \nL 173.158431 207.656623 \nL 174.687897 202.892643 \nL 176.217362 197.259365 \nL 177.746828 190.764616 \nL 179.276293 183.333145 \nL 180.805759 174.712276 \nL 182.335224 164.504103 \nL 183.86469 152.394904 \nL 185.394155 138.444836 \nL 191.512017 77.246553 \nL 193.041483 63.916018 \nL 194.570948 52.539427 \nL 196.100414 43.970336 \nL 197.62988 39.178125 \nL 199.159345 38.933407 \nL 200.688811 43.440315 \nL 202.218276 52.114322 \nL 203.747742 63.660374 \nL 206.806673 89.0386 \nL 208.336138 100.553172 \nL 211.395069 120.454821 \nL 214.454 140.069599 \nL 217.512931 160.779843 \nL 219.042397 170.188608 \nL 220.571862 178.267146 \nL 222.101328 184.896257 \nL 223.630793 190.195717 \nL 225.160259 194.401495 \nL 226.689724 197.833161 \nL 231.278121 206.789271 \nL 232.807586 209.66048 \nL 234.337052 212.199089 \nL 235.866517 214.244133 \nL 237.395983 215.774399 \nL 238.925448 216.862293 \nL 240.454914 217.609384 \nL 246.572776 219.820902 \nL 249.631707 221.456314 \nL 251.161172 222.125671 \nL 252.690638 222.565701 \nL 254.220103 222.779051 \nL 257.279034 222.820506 \nL 260.337965 222.867585 \nL 266.455827 223.146865 \nL 271.044224 223.133709 \nL 274.103155 223.435131 \nL 280.221017 224.32229 \nL 283.279948 224.525613 \nL 286.338879 224.501001 \nL 292.456741 224.262113 \nL 297.045138 224.467853 \nL 301.633534 224.62008 \nL 307.751396 224.600207 \nL 310.810327 224.431034 \nL 313.869258 223.998793 \nL 316.928189 223.467637 \nL 318.457655 223.323541 \nL 319.98712 223.327756 \nL 323.046051 223.717644 \nL 326.104982 224.229447 \nL 329.163913 224.526525 \nL 333.75231 224.633795 \nL 367.400551 224.62291 \nL 371.988948 224.479984 \nL 376.577344 224.2645 \nL 379.636275 224.332604 \nL 385.754137 224.607448 \nL 388.813068 224.635789 \nL 388.813068 224.635789 \n\" style=\"fill:none;stroke:#1f77b4;stroke-linecap:square;stroke-width:1.5;\"/>\n   </g>\n   <g id=\"patch_53\">\n    <path d=\"M 69.23125 224.64 \nL 69.23125 7.2 \n\" style=\"fill:none;stroke:#000000;stroke-linecap:square;stroke-linejoin:miter;stroke-width:0.8;\"/>\n   </g>\n   <g id=\"patch_54\">\n    <path d=\"M 404.03125 224.64 \nL 404.03125 7.2 \n\" style=\"fill:none;stroke:#000000;stroke-linecap:square;stroke-linejoin:miter;stroke-width:0.8;\"/>\n   </g>\n   <g id=\"patch_55\">\n    <path d=\"M 69.23125 224.64 \nL 404.03125 224.64 \n\" style=\"fill:none;stroke:#000000;stroke-linecap:square;stroke-linejoin:miter;stroke-width:0.8;\"/>\n   </g>\n   <g id=\"patch_56\">\n    <path d=\"M 69.23125 7.2 \nL 404.03125 7.2 \n\" style=\"fill:none;stroke:#000000;stroke-linecap:square;stroke-linejoin:miter;stroke-width:0.8;\"/>\n   </g>\n  </g>\n </g>\n <defs>\n  <clipPath id=\"p21d9d94bba\">\n   <rect height=\"217.44\" width=\"334.8\" x=\"69.23125\" y=\"7.2\"/>\n  </clipPath>\n </defs>\n</svg>\n",
      "image/png": "[encoded data removed]"
     },
     "metadata": {
      "needs_background": "light"
     }
    }
   ],
   "source": [
    "sns.distplot(y_valid-prediction)"
   ]
  },
  {
   "cell_type": "code",
   "execution_count": 48,
   "metadata": {},
   "outputs": [
    {
     "output_type": "stream",
     "name": "stdout",
     "text": [
      "{'max_depth': [5], 'max_features': ['sqrt'], 'min_samples_leaf': [2, 4, 6], 'min_samples_split': [8, 9, 10, 11, 12], 'n_estimators': [500, 600, 700, 800, 900]}\n"
     ]
    }
   ],
   "source": [
    "from sklearn.model_selection import GridSearchCV\n",
    "\n",
    "param_grid = {\n",
    "    \n",
    "    'max_depth': [rf_random.best_params_['max_depth']],\n",
    "    'max_features': [rf_random.best_params_['max_features']],\n",
    "    'min_samples_leaf': [rf_random.best_params_['min_samples_leaf'], \n",
    "                         rf_random.best_params_['min_samples_leaf']+2, \n",
    "                         rf_random.best_params_['min_samples_leaf'] + 4],\n",
    "    'min_samples_split': [rf_random.best_params_['min_samples_split'] - 2,\n",
    "                          rf_random.best_params_['min_samples_split'] - 1,\n",
    "                          rf_random.best_params_['min_samples_split'], \n",
    "                          rf_random.best_params_['min_samples_split'] +1,\n",
    "                          rf_random.best_params_['min_samples_split'] + 2],\n",
    "    'n_estimators': [rf_random.best_params_['n_estimators'] - 50, rf_random.best_params_['n_estimators'] - 100, \n",
    "                     rf_random.best_params_['n_estimators'], \n",
    "                     rf_random.best_params_['n_estimators'] + 100, rf_random.best_params_['n_estimators'] + 50]\n",
    "}\n",
    "\n",
    "print(param_grid)\n",
    "grid_search=GridSearchCV(estimator=rf,param_grid=param_grid,cv=10,n_jobs=-1,verbose=2)\n",
    "grid_search.fit(x_train,y_train)\n",
    "the_best=grid_search.best_estimator_\n",
    "predictions=the_best.predict(x_valid)"
   ]
  },
  {
   "cell_type": "code",
   "execution_count": 170,
   "metadata": {},
   "outputs": [],
   "source": []
  },
  {
   "cell_type": "code",
   "execution_count": 171,
   "metadata": {},
   "outputs": [
    {
     "output_type": "stream",
     "name": "stderr",
     "text": [
      "/home/swaraj/.local/lib/python3.9/site-packages/seaborn/distributions.py:2557: FutureWarning: `distplot` is a deprecated function and will be removed in a future version. Please adapt your code to use either `displot` (a figure-level function with similar flexibility) or `histplot` (an axes-level function for histograms).\n  warnings.warn(msg, FutureWarning)\n"
     ]
    },
    {
     "output_type": "execute_result",
     "data": {
      "text/plain": [
       "<AxesSubplot:xlabel='Rent', ylabel='Density'>"
      ]
     },
     "metadata": {},
     "execution_count": 171
    },
    {
     "output_type": "display_data",
     "data": {
      "text/plain": "<Figure size 432x288 with 1 Axes>",
      "image/svg+xml": "<?xml version=\"1.0\" encoding=\"utf-8\" standalone=\"no\"?>\n<!DOCTYPE svg PUBLIC \"-//W3C//DTD SVG 1.1//EN\"\n  \"http://www.w3.org/Graphics/SVG/1.1/DTD/svg11.dtd\">\n<svg height=\"262.19625pt\" version=\"1.1\" viewBox=\"0 0 411.23125 262.19625\" width=\"411.23125pt\" xmlns=\"http://www.w3.org/2000/svg\" xmlns:xlink=\"http://www.w3.org/1999/xlink\">\n <metadata>\n  <rdf:RDF xmlns:cc=\"http://creativecommons.org/ns#\" xmlns:dc=\"http://purl.org/dc/elements/1.1/\" xmlns:rdf=\"http://www.w3.org/1999/02/22-rdf-syntax-ns#\">\n   <cc:Work>\n    <dc:type rdf:resource=\"http://purl.org/dc/dcmitype/StillImage\"/>\n    <dc:date>2021-03-27T18:53:52.536889</dc:date>\n    <dc:format>image/svg+xml</dc:format>\n    <dc:creator>\n     <cc:Agent>\n      <dc:title>Matplotlib v3.4.0, https://matplotlib.org/</dc:title>\n     </cc:Agent>\n    </dc:creator>\n   </cc:Work>\n  </rdf:RDF>\n </metadata>\n <defs>\n  <style type=\"text/css\">*{stroke-linecap:butt;stroke-linejoin:round;}</style>\n </defs>\n <g id=\"figure_1\">\n  <g id=\"patch_1\">\n   <path d=\"M 0 262.19625 \nL 411.23125 262.19625 \nL 411.23125 0 \nL 0 0 \nz\n\" style=\"fill:none;\"/>\n  </g>\n  <g id=\"axes_1\">\n   <g id=\"patch_2\">\n    <path d=\"M 69.23125 224.64 \nL 404.03125 224.64 \nL 404.03125 7.2 \nL 69.23125 7.2 \nz\n\" style=\"fill:#ffffff;\"/>\n   </g>\n   <g id=\"patch_3\">\n    <path clip-path=\"url(#pc5b9076ee2)\" d=\"M 96.175602 224.64 \nL 101.793828 224.64 \nL 101.793828 223.965454 \nL 96.175602 223.965454 \nz\n\" style=\"fill:#1f77b4;opacity:0.4;\"/>\n   </g>\n   <g id=\"patch_4\">\n    <path clip-path=\"url(#pc5b9076ee2)\" d=\"M 101.793828 224.64 \nL 107.412054 224.64 \nL 107.412054 224.64 \nL 101.793828 224.64 \nz\n\" style=\"fill:#1f77b4;opacity:0.4;\"/>\n   </g>\n   <g id=\"patch_5\">\n    <path clip-path=\"url(#pc5b9076ee2)\" d=\"M 107.412054 224.64 \nL 113.03028 224.64 \nL 113.03028 224.64 \nL 107.412054 224.64 \nz\n\" style=\"fill:#1f77b4;opacity:0.4;\"/>\n   </g>\n   <g id=\"patch_6\">\n    <path clip-path=\"url(#pc5b9076ee2)\" d=\"M 113.03028 224.64 \nL 118.648506 224.64 \nL 118.648506 224.64 \nL 113.03028 224.64 \nz\n\" style=\"fill:#1f77b4;opacity:0.4;\"/>\n   </g>\n   <g id=\"patch_7\">\n    <path clip-path=\"url(#pc5b9076ee2)\" d=\"M 118.648506 224.64 \nL 124.266732 224.64 \nL 124.266732 224.64 \nL 118.648506 224.64 \nz\n\" style=\"fill:#1f77b4;opacity:0.4;\"/>\n   </g>\n   <g id=\"patch_8\">\n    <path clip-path=\"url(#pc5b9076ee2)\" d=\"M 124.266732 224.64 \nL 129.884958 224.64 \nL 129.884958 223.965454 \nL 124.266732 223.965454 \nz\n\" style=\"fill:#1f77b4;opacity:0.4;\"/>\n   </g>\n   <g id=\"patch_9\">\n    <path clip-path=\"url(#pc5b9076ee2)\" d=\"M 129.884958 224.64 \nL 135.503184 224.64 \nL 135.503184 223.290907 \nL 129.884958 223.290907 \nz\n\" style=\"fill:#1f77b4;opacity:0.4;\"/>\n   </g>\n   <g id=\"patch_10\">\n    <path clip-path=\"url(#pc5b9076ee2)\" d=\"M 135.503184 224.64 \nL 141.12141 224.64 \nL 141.12141 224.64 \nL 135.503184 224.64 \nz\n\" style=\"fill:#1f77b4;opacity:0.4;\"/>\n   </g>\n   <g id=\"patch_11\">\n    <path clip-path=\"url(#pc5b9076ee2)\" d=\"M 141.12141 224.64 \nL 146.739635 224.64 \nL 146.739635 224.64 \nL 141.12141 224.64 \nz\n\" style=\"fill:#1f77b4;opacity:0.4;\"/>\n   </g>\n   <g id=\"patch_12\">\n    <path clip-path=\"url(#pc5b9076ee2)\" d=\"M 146.739635 224.64 \nL 152.357861 224.64 \nL 152.357861 224.64 \nL 146.739635 224.64 \nz\n\" style=\"fill:#1f77b4;opacity:0.4;\"/>\n   </g>\n   <g id=\"patch_13\">\n    <path clip-path=\"url(#pc5b9076ee2)\" d=\"M 152.357861 224.64 \nL 157.976087 224.64 \nL 157.976087 222.616361 \nL 152.357861 222.616361 \nz\n\" style=\"fill:#1f77b4;opacity:0.4;\"/>\n   </g>\n   <g id=\"patch_14\">\n    <path clip-path=\"url(#pc5b9076ee2)\" d=\"M 157.976087 224.64 \nL 163.594313 224.64 \nL 163.594313 222.616361 \nL 157.976087 222.616361 \nz\n\" style=\"fill:#1f77b4;opacity:0.4;\"/>\n   </g>\n   <g id=\"patch_15\">\n    <path clip-path=\"url(#pc5b9076ee2)\" d=\"M 163.594313 224.64 \nL 169.212539 224.64 \nL 169.212539 218.569083 \nL 163.594313 218.569083 \nz\n\" style=\"fill:#1f77b4;opacity:0.4;\"/>\n   </g>\n   <g id=\"patch_16\">\n    <path clip-path=\"url(#pc5b9076ee2)\" d=\"M 169.212539 224.64 \nL 174.830765 224.64 \nL 174.830765 211.82362 \nL 169.212539 211.82362 \nz\n\" style=\"fill:#1f77b4;opacity:0.4;\"/>\n   </g>\n   <g id=\"patch_17\">\n    <path clip-path=\"url(#pc5b9076ee2)\" d=\"M 174.830765 224.64 \nL 180.448991 224.64 \nL 180.448991 190.912685 \nL 174.830765 190.912685 \nz\n\" style=\"fill:#1f77b4;opacity:0.4;\"/>\n   </g>\n   <g id=\"patch_18\">\n    <path clip-path=\"url(#pc5b9076ee2)\" d=\"M 180.448991 224.64 \nL 186.067217 224.64 \nL 186.067217 163.930833 \nL 180.448991 163.930833 \nz\n\" style=\"fill:#1f77b4;opacity:0.4;\"/>\n   </g>\n   <g id=\"patch_19\">\n    <path clip-path=\"url(#pc5b9076ee2)\" d=\"M 186.067217 224.64 \nL 191.685443 224.64 \nL 191.685443 93.103471 \nL 186.067217 93.103471 \nz\n\" style=\"fill:#1f77b4;opacity:0.4;\"/>\n   </g>\n   <g id=\"patch_20\">\n    <path clip-path=\"url(#pc5b9076ee2)\" d=\"M 191.685443 224.64 \nL 197.303669 224.64 \nL 197.303669 42.512499 \nL 191.685443 42.512499 \nz\n\" style=\"fill:#1f77b4;opacity:0.4;\"/>\n   </g>\n   <g id=\"patch_21\">\n    <path clip-path=\"url(#pc5b9076ee2)\" d=\"M 197.303669 224.64 \nL 202.921895 224.64 \nL 202.921895 17.554286 \nL 197.303669 17.554286 \nz\n\" style=\"fill:#1f77b4;opacity:0.4;\"/>\n   </g>\n   <g id=\"patch_22\">\n    <path clip-path=\"url(#pc5b9076ee2)\" d=\"M 202.921895 224.64 \nL 208.54012 224.64 \nL 208.54012 88.381647 \nL 202.921895 88.381647 \nz\n\" style=\"fill:#1f77b4;opacity:0.4;\"/>\n   </g>\n   <g id=\"patch_23\">\n    <path clip-path=\"url(#pc5b9076ee2)\" d=\"M 208.54012 224.64 \nL 214.158346 224.64 \nL 214.158346 114.688953 \nL 208.54012 114.688953 \nz\n\" style=\"fill:#1f77b4;opacity:0.4;\"/>\n   </g>\n   <g id=\"patch_24\">\n    <path clip-path=\"url(#pc5b9076ee2)\" d=\"M 214.158346 224.64 \nL 219.776572 224.64 \nL 219.776572 165.279926 \nL 214.158346 165.279926 \nz\n\" style=\"fill:#1f77b4;opacity:0.4;\"/>\n   </g>\n   <g id=\"patch_25\">\n    <path clip-path=\"url(#pc5b9076ee2)\" d=\"M 219.776572 224.64 \nL 225.394798 224.64 \nL 225.394798 188.2145 \nL 219.776572 188.2145 \nz\n\" style=\"fill:#1f77b4;opacity:0.4;\"/>\n   </g>\n   <g id=\"patch_26\">\n    <path clip-path=\"url(#pc5b9076ee2)\" d=\"M 225.394798 224.64 \nL 231.013024 224.64 \nL 231.013024 198.332694 \nL 225.394798 198.332694 \nz\n\" style=\"fill:#1f77b4;opacity:0.4;\"/>\n   </g>\n   <g id=\"patch_27\">\n    <path clip-path=\"url(#pc5b9076ee2)\" d=\"M 231.013024 224.64 \nL 236.63125 224.64 \nL 236.63125 215.870898 \nL 231.013024 215.870898 \nz\n\" style=\"fill:#1f77b4;opacity:0.4;\"/>\n   </g>\n   <g id=\"patch_28\">\n    <path clip-path=\"url(#pc5b9076ee2)\" d=\"M 236.63125 224.64 \nL 242.249476 224.64 \nL 242.249476 217.894537 \nL 236.63125 217.894537 \nz\n\" style=\"fill:#1f77b4;opacity:0.4;\"/>\n   </g>\n   <g id=\"patch_29\">\n    <path clip-path=\"url(#pc5b9076ee2)\" d=\"M 242.249476 224.64 \nL 247.867702 224.64 \nL 247.867702 217.219991 \nL 242.249476 217.219991 \nz\n\" style=\"fill:#1f77b4;opacity:0.4;\"/>\n   </g>\n   <g id=\"patch_30\">\n    <path clip-path=\"url(#pc5b9076ee2)\" d=\"M 247.867702 224.64 \nL 253.485928 224.64 \nL 253.485928 222.616361 \nL 247.867702 222.616361 \nz\n\" style=\"fill:#1f77b4;opacity:0.4;\"/>\n   </g>\n   <g id=\"patch_31\">\n    <path clip-path=\"url(#pc5b9076ee2)\" d=\"M 253.485928 224.64 \nL 259.104154 224.64 \nL 259.104154 223.290907 \nL 253.485928 223.290907 \nz\n\" style=\"fill:#1f77b4;opacity:0.4;\"/>\n   </g>\n   <g id=\"patch_32\">\n    <path clip-path=\"url(#pc5b9076ee2)\" d=\"M 259.104154 224.64 \nL 264.72238 224.64 \nL 264.72238 222.616361 \nL 259.104154 222.616361 \nz\n\" style=\"fill:#1f77b4;opacity:0.4;\"/>\n   </g>\n   <g id=\"patch_33\">\n    <path clip-path=\"url(#pc5b9076ee2)\" d=\"M 264.72238 224.64 \nL 270.340605 224.64 \nL 270.340605 223.290907 \nL 264.72238 223.290907 \nz\n\" style=\"fill:#1f77b4;opacity:0.4;\"/>\n   </g>\n   <g id=\"patch_34\">\n    <path clip-path=\"url(#pc5b9076ee2)\" d=\"M 270.340605 224.64 \nL 275.958831 224.64 \nL 275.958831 223.290907 \nL 270.340605 223.290907 \nz\n\" style=\"fill:#1f77b4;opacity:0.4;\"/>\n   </g>\n   <g id=\"patch_35\">\n    <path clip-path=\"url(#pc5b9076ee2)\" d=\"M 275.958831 224.64 \nL 281.577057 224.64 \nL 281.577057 223.965454 \nL 275.958831 223.965454 \nz\n\" style=\"fill:#1f77b4;opacity:0.4;\"/>\n   </g>\n   <g id=\"patch_36\">\n    <path clip-path=\"url(#pc5b9076ee2)\" d=\"M 281.577057 224.64 \nL 287.195283 224.64 \nL 287.195283 224.64 \nL 281.577057 224.64 \nz\n\" style=\"fill:#1f77b4;opacity:0.4;\"/>\n   </g>\n   <g id=\"patch_37\">\n    <path clip-path=\"url(#pc5b9076ee2)\" d=\"M 287.195283 224.64 \nL 292.813509 224.64 \nL 292.813509 223.965454 \nL 287.195283 223.965454 \nz\n\" style=\"fill:#1f77b4;opacity:0.4;\"/>\n   </g>\n   <g id=\"patch_38\">\n    <path clip-path=\"url(#pc5b9076ee2)\" d=\"M 292.813509 224.64 \nL 298.431735 224.64 \nL 298.431735 224.64 \nL 292.813509 224.64 \nz\n\" style=\"fill:#1f77b4;opacity:0.4;\"/>\n   </g>\n   <g id=\"patch_39\">\n    <path clip-path=\"url(#pc5b9076ee2)\" d=\"M 298.431735 224.64 \nL 304.049961 224.64 \nL 304.049961 224.64 \nL 298.431735 224.64 \nz\n\" style=\"fill:#1f77b4;opacity:0.4;\"/>\n   </g>\n   <g id=\"patch_40\">\n    <path clip-path=\"url(#pc5b9076ee2)\" d=\"M 304.049961 224.64 \nL 309.668187 224.64 \nL 309.668187 224.64 \nL 304.049961 224.64 \nz\n\" style=\"fill:#1f77b4;opacity:0.4;\"/>\n   </g>\n   <g id=\"patch_41\">\n    <path clip-path=\"url(#pc5b9076ee2)\" d=\"M 309.668187 224.64 \nL 315.286413 224.64 \nL 315.286413 224.64 \nL 309.668187 224.64 \nz\n\" style=\"fill:#1f77b4;opacity:0.4;\"/>\n   </g>\n   <g id=\"patch_42\">\n    <path clip-path=\"url(#pc5b9076ee2)\" d=\"M 315.286413 224.64 \nL 320.904639 224.64 \nL 320.904639 221.941815 \nL 315.286413 221.941815 \nz\n\" style=\"fill:#1f77b4;opacity:0.4;\"/>\n   </g>\n   <g id=\"patch_43\">\n    <path clip-path=\"url(#pc5b9076ee2)\" d=\"M 320.904639 224.64 \nL 326.522865 224.64 \nL 326.522865 224.64 \nL 320.904639 224.64 \nz\n\" style=\"fill:#1f77b4;opacity:0.4;\"/>\n   </g>\n   <g id=\"patch_44\">\n    <path clip-path=\"url(#pc5b9076ee2)\" d=\"M 326.522865 224.64 \nL 332.14109 224.64 \nL 332.14109 224.64 \nL 326.522865 224.64 \nz\n\" style=\"fill:#1f77b4;opacity:0.4;\"/>\n   </g>\n   <g id=\"patch_45\">\n    <path clip-path=\"url(#pc5b9076ee2)\" d=\"M 332.14109 224.64 \nL 337.759316 224.64 \nL 337.759316 224.64 \nL 332.14109 224.64 \nz\n\" style=\"fill:#1f77b4;opacity:0.4;\"/>\n   </g>\n   <g id=\"patch_46\">\n    <path clip-path=\"url(#pc5b9076ee2)\" d=\"M 337.759316 224.64 \nL 343.377542 224.64 \nL 343.377542 224.64 \nL 337.759316 224.64 \nz\n\" style=\"fill:#1f77b4;opacity:0.4;\"/>\n   </g>\n   <g id=\"patch_47\">\n    <path clip-path=\"url(#pc5b9076ee2)\" d=\"M 343.377542 224.64 \nL 348.995768 224.64 \nL 348.995768 224.64 \nL 343.377542 224.64 \nz\n\" style=\"fill:#1f77b4;opacity:0.4;\"/>\n   </g>\n   <g id=\"patch_48\">\n    <path clip-path=\"url(#pc5b9076ee2)\" d=\"M 348.995768 224.64 \nL 354.613994 224.64 \nL 354.613994 224.64 \nL 348.995768 224.64 \nz\n\" style=\"fill:#1f77b4;opacity:0.4;\"/>\n   </g>\n   <g id=\"patch_49\">\n    <path clip-path=\"url(#pc5b9076ee2)\" d=\"M 354.613994 224.64 \nL 360.23222 224.64 \nL 360.23222 224.64 \nL 354.613994 224.64 \nz\n\" style=\"fill:#1f77b4;opacity:0.4;\"/>\n   </g>\n   <g id=\"patch_50\">\n    <path clip-path=\"url(#pc5b9076ee2)\" d=\"M 360.23222 224.64 \nL 365.850446 224.64 \nL 365.850446 224.64 \nL 360.23222 224.64 \nz\n\" style=\"fill:#1f77b4;opacity:0.4;\"/>\n   </g>\n   <g id=\"patch_51\">\n    <path clip-path=\"url(#pc5b9076ee2)\" d=\"M 365.850446 224.64 \nL 371.468672 224.64 \nL 371.468672 224.64 \nL 365.850446 224.64 \nz\n\" style=\"fill:#1f77b4;opacity:0.4;\"/>\n   </g>\n   <g id=\"patch_52\">\n    <path clip-path=\"url(#pc5b9076ee2)\" d=\"M 371.468672 224.64 \nL 377.086898 224.64 \nL 377.086898 223.965454 \nL 371.468672 223.965454 \nz\n\" style=\"fill:#1f77b4;opacity:0.4;\"/>\n   </g>\n   <g id=\"matplotlib.axis_1\">\n    <g id=\"xtick_1\">\n     <g id=\"line2d_1\">\n      <defs>\n       <path d=\"M 0 0 \nL 0 3.5 \n\" id=\"m7c47f5e6a8\" style=\"stroke:#000000;stroke-width:0.8;\"/>\n      </defs>\n      <g>\n       <use style=\"stroke:#000000;stroke-width:0.8;\" x=\"77.597305\" xlink:href=\"#m7c47f5e6a8\" y=\"224.64\"/>\n      </g>\n     </g>\n     <g id=\"text_1\">\n      <!-- −40000 -->\n      <g transform=\"translate(57.501212 239.238438)scale(0.1 -0.1)\">\n       <defs>\n        <path d=\"M 678 2272 \nL 4684 2272 \nL 4684 1741 \nL 678 1741 \nL 678 2272 \nz\n\" id=\"DejaVuSans-2212\" transform=\"scale(0.015625)\"/>\n        <path d=\"M 2419 4116 \nL 825 1625 \nL 2419 1625 \nL 2419 4116 \nz\nM 2253 4666 \nL 3047 4666 \nL 3047 1625 \nL 3713 1625 \nL 3713 1100 \nL 3047 1100 \nL 3047 0 \nL 2419 0 \nL 2419 1100 \nL 313 1100 \nL 313 1709 \nL 2253 4666 \nz\n\" id=\"DejaVuSans-34\" transform=\"scale(0.015625)\"/>\n        <path d=\"M 2034 4250 \nQ 1547 4250 1301 3770 \nQ 1056 3291 1056 2328 \nQ 1056 1369 1301 889 \nQ 1547 409 2034 409 \nQ 2525 409 2770 889 \nQ 3016 1369 3016 2328 \nQ 3016 3291 2770 3770 \nQ 2525 4250 2034 4250 \nz\nM 2034 4750 \nQ 2819 4750 3233 4129 \nQ 3647 3509 3647 2328 \nQ 3647 1150 3233 529 \nQ 2819 -91 2034 -91 \nQ 1250 -91 836 529 \nQ 422 1150 422 2328 \nQ 422 3509 836 4129 \nQ 1250 4750 2034 4750 \nz\n\" id=\"DejaVuSans-30\" transform=\"scale(0.015625)\"/>\n       </defs>\n       <use xlink:href=\"#DejaVuSans-2212\"/>\n       <use x=\"83.789062\" xlink:href=\"#DejaVuSans-34\"/>\n       <use x=\"147.412109\" xlink:href=\"#DejaVuSans-30\"/>\n       <use x=\"211.035156\" xlink:href=\"#DejaVuSans-30\"/>\n       <use x=\"274.658203\" xlink:href=\"#DejaVuSans-30\"/>\n       <use x=\"338.28125\" xlink:href=\"#DejaVuSans-30\"/>\n      </g>\n     </g>\n    </g>\n    <g id=\"xtick_2\">\n     <g id=\"line2d_2\">\n      <g>\n       <use style=\"stroke:#000000;stroke-width:0.8;\" x=\"139.216753\" xlink:href=\"#m7c47f5e6a8\" y=\"224.64\"/>\n      </g>\n     </g>\n     <g id=\"text_2\">\n      <!-- −20000 -->\n      <g transform=\"translate(119.120659 239.238438)scale(0.1 -0.1)\">\n       <defs>\n        <path d=\"M 1228 531 \nL 3431 531 \nL 3431 0 \nL 469 0 \nL 469 531 \nQ 828 903 1448 1529 \nQ 2069 2156 2228 2338 \nQ 2531 2678 2651 2914 \nQ 2772 3150 2772 3378 \nQ 2772 3750 2511 3984 \nQ 2250 4219 1831 4219 \nQ 1534 4219 1204 4116 \nQ 875 4013 500 3803 \nL 500 4441 \nQ 881 4594 1212 4672 \nQ 1544 4750 1819 4750 \nQ 2544 4750 2975 4387 \nQ 3406 4025 3406 3419 \nQ 3406 3131 3298 2873 \nQ 3191 2616 2906 2266 \nQ 2828 2175 2409 1742 \nQ 1991 1309 1228 531 \nz\n\" id=\"DejaVuSans-32\" transform=\"scale(0.015625)\"/>\n       </defs>\n       <use xlink:href=\"#DejaVuSans-2212\"/>\n       <use x=\"83.789062\" xlink:href=\"#DejaVuSans-32\"/>\n       <use x=\"147.412109\" xlink:href=\"#DejaVuSans-30\"/>\n       <use x=\"211.035156\" xlink:href=\"#DejaVuSans-30\"/>\n       <use x=\"274.658203\" xlink:href=\"#DejaVuSans-30\"/>\n       <use x=\"338.28125\" xlink:href=\"#DejaVuSans-30\"/>\n      </g>\n     </g>\n    </g>\n    <g id=\"xtick_3\">\n     <g id=\"line2d_3\">\n      <g>\n       <use style=\"stroke:#000000;stroke-width:0.8;\" x=\"200.8362\" xlink:href=\"#m7c47f5e6a8\" y=\"224.64\"/>\n      </g>\n     </g>\n     <g id=\"text_3\">\n      <!-- 0 -->\n      <g transform=\"translate(197.65495 239.238438)scale(0.1 -0.1)\">\n       <use xlink:href=\"#DejaVuSans-30\"/>\n      </g>\n     </g>\n    </g>\n    <g id=\"xtick_4\">\n     <g id=\"line2d_4\">\n      <g>\n       <use style=\"stroke:#000000;stroke-width:0.8;\" x=\"262.455647\" xlink:href=\"#m7c47f5e6a8\" y=\"224.64\"/>\n      </g>\n     </g>\n     <g id=\"text_4\">\n      <!-- 20000 -->\n      <g transform=\"translate(246.549397 239.238438)scale(0.1 -0.1)\">\n       <use xlink:href=\"#DejaVuSans-32\"/>\n       <use x=\"63.623047\" xlink:href=\"#DejaVuSans-30\"/>\n       <use x=\"127.246094\" xlink:href=\"#DejaVuSans-30\"/>\n       <use x=\"190.869141\" xlink:href=\"#DejaVuSans-30\"/>\n       <use x=\"254.492188\" xlink:href=\"#DejaVuSans-30\"/>\n      </g>\n     </g>\n    </g>\n    <g id=\"xtick_5\">\n     <g id=\"line2d_5\">\n      <g>\n       <use style=\"stroke:#000000;stroke-width:0.8;\" x=\"324.075095\" xlink:href=\"#m7c47f5e6a8\" y=\"224.64\"/>\n      </g>\n     </g>\n     <g id=\"text_5\">\n      <!-- 40000 -->\n      <g transform=\"translate(308.168845 239.238438)scale(0.1 -0.1)\">\n       <use xlink:href=\"#DejaVuSans-34\"/>\n       <use x=\"63.623047\" xlink:href=\"#DejaVuSans-30\"/>\n       <use x=\"127.246094\" xlink:href=\"#DejaVuSans-30\"/>\n       <use x=\"190.869141\" xlink:href=\"#DejaVuSans-30\"/>\n       <use x=\"254.492188\" xlink:href=\"#DejaVuSans-30\"/>\n      </g>\n     </g>\n    </g>\n    <g id=\"xtick_6\">\n     <g id=\"line2d_6\">\n      <g>\n       <use style=\"stroke:#000000;stroke-width:0.8;\" x=\"385.694542\" xlink:href=\"#m7c47f5e6a8\" y=\"224.64\"/>\n      </g>\n     </g>\n     <g id=\"text_6\">\n      <!-- 60000 -->\n      <g transform=\"translate(369.788292 239.238438)scale(0.1 -0.1)\">\n       <defs>\n        <path d=\"M 2113 2584 \nQ 1688 2584 1439 2293 \nQ 1191 2003 1191 1497 \nQ 1191 994 1439 701 \nQ 1688 409 2113 409 \nQ 2538 409 2786 701 \nQ 3034 994 3034 1497 \nQ 3034 2003 2786 2293 \nQ 2538 2584 2113 2584 \nz\nM 3366 4563 \nL 3366 3988 \nQ 3128 4100 2886 4159 \nQ 2644 4219 2406 4219 \nQ 1781 4219 1451 3797 \nQ 1122 3375 1075 2522 \nQ 1259 2794 1537 2939 \nQ 1816 3084 2150 3084 \nQ 2853 3084 3261 2657 \nQ 3669 2231 3669 1497 \nQ 3669 778 3244 343 \nQ 2819 -91 2113 -91 \nQ 1303 -91 875 529 \nQ 447 1150 447 2328 \nQ 447 3434 972 4092 \nQ 1497 4750 2381 4750 \nQ 2619 4750 2861 4703 \nQ 3103 4656 3366 4563 \nz\n\" id=\"DejaVuSans-36\" transform=\"scale(0.015625)\"/>\n       </defs>\n       <use xlink:href=\"#DejaVuSans-36\"/>\n       <use x=\"63.623047\" xlink:href=\"#DejaVuSans-30\"/>\n       <use x=\"127.246094\" xlink:href=\"#DejaVuSans-30\"/>\n       <use x=\"190.869141\" xlink:href=\"#DejaVuSans-30\"/>\n       <use x=\"254.492188\" xlink:href=\"#DejaVuSans-30\"/>\n      </g>\n     </g>\n    </g>\n    <g id=\"text_7\">\n     <!-- Rent -->\n     <g transform=\"translate(225.176563 252.916563)scale(0.1 -0.1)\">\n      <defs>\n       <path d=\"M 2841 2188 \nQ 3044 2119 3236 1894 \nQ 3428 1669 3622 1275 \nL 4263 0 \nL 3584 0 \nL 2988 1197 \nQ 2756 1666 2539 1819 \nQ 2322 1972 1947 1972 \nL 1259 1972 \nL 1259 0 \nL 628 0 \nL 628 4666 \nL 2053 4666 \nQ 2853 4666 3247 4331 \nQ 3641 3997 3641 3322 \nQ 3641 2881 3436 2590 \nQ 3231 2300 2841 2188 \nz\nM 1259 4147 \nL 1259 2491 \nL 2053 2491 \nQ 2509 2491 2742 2702 \nQ 2975 2913 2975 3322 \nQ 2975 3731 2742 3939 \nQ 2509 4147 2053 4147 \nL 1259 4147 \nz\n\" id=\"DejaVuSans-52\" transform=\"scale(0.015625)\"/>\n       <path d=\"M 3597 1894 \nL 3597 1613 \nL 953 1613 \nQ 991 1019 1311 708 \nQ 1631 397 2203 397 \nQ 2534 397 2845 478 \nQ 3156 559 3463 722 \nL 3463 178 \nQ 3153 47 2828 -22 \nQ 2503 -91 2169 -91 \nQ 1331 -91 842 396 \nQ 353 884 353 1716 \nQ 353 2575 817 3079 \nQ 1281 3584 2069 3584 \nQ 2775 3584 3186 3129 \nQ 3597 2675 3597 1894 \nz\nM 3022 2063 \nQ 3016 2534 2758 2815 \nQ 2500 3097 2075 3097 \nQ 1594 3097 1305 2825 \nQ 1016 2553 972 2059 \nL 3022 2063 \nz\n\" id=\"DejaVuSans-65\" transform=\"scale(0.015625)\"/>\n       <path d=\"M 3513 2113 \nL 3513 0 \nL 2938 0 \nL 2938 2094 \nQ 2938 2591 2744 2837 \nQ 2550 3084 2163 3084 \nQ 1697 3084 1428 2787 \nQ 1159 2491 1159 1978 \nL 1159 0 \nL 581 0 \nL 581 3500 \nL 1159 3500 \nL 1159 2956 \nQ 1366 3272 1645 3428 \nQ 1925 3584 2291 3584 \nQ 2894 3584 3203 3211 \nQ 3513 2838 3513 2113 \nz\n\" id=\"DejaVuSans-6e\" transform=\"scale(0.015625)\"/>\n       <path d=\"M 1172 4494 \nL 1172 3500 \nL 2356 3500 \nL 2356 3053 \nL 1172 3053 \nL 1172 1153 \nQ 1172 725 1289 603 \nQ 1406 481 1766 481 \nL 2356 481 \nL 2356 0 \nL 1766 0 \nQ 1100 0 847 248 \nQ 594 497 594 1153 \nL 594 3053 \nL 172 3053 \nL 172 3500 \nL 594 3500 \nL 594 4494 \nL 1172 4494 \nz\n\" id=\"DejaVuSans-74\" transform=\"scale(0.015625)\"/>\n      </defs>\n      <use xlink:href=\"#DejaVuSans-52\"/>\n      <use x=\"64.982422\" xlink:href=\"#DejaVuSans-65\"/>\n      <use x=\"126.505859\" xlink:href=\"#DejaVuSans-6e\"/>\n      <use x=\"189.884766\" xlink:href=\"#DejaVuSans-74\"/>\n     </g>\n    </g>\n   </g>\n   <g id=\"matplotlib.axis_2\">\n    <g id=\"ytick_1\">\n     <g id=\"line2d_7\">\n      <defs>\n       <path d=\"M 0 0 \nL -3.5 0 \n\" id=\"mb5f5880091\" style=\"stroke:#000000;stroke-width:0.8;\"/>\n      </defs>\n      <g>\n       <use style=\"stroke:#000000;stroke-width:0.8;\" x=\"69.23125\" xlink:href=\"#mb5f5880091\" y=\"224.64\"/>\n      </g>\n     </g>\n     <g id=\"text_8\">\n      <!-- 0.00000 -->\n      <g transform=\"translate(20.878125 228.439219)scale(0.1 -0.1)\">\n       <defs>\n        <path d=\"M 684 794 \nL 1344 794 \nL 1344 0 \nL 684 0 \nL 684 794 \nz\n\" id=\"DejaVuSans-2e\" transform=\"scale(0.015625)\"/>\n       </defs>\n       <use xlink:href=\"#DejaVuSans-30\"/>\n       <use x=\"63.623047\" xlink:href=\"#DejaVuSans-2e\"/>\n       <use x=\"95.410156\" xlink:href=\"#DejaVuSans-30\"/>\n       <use x=\"159.033203\" xlink:href=\"#DejaVuSans-30\"/>\n       <use x=\"222.65625\" xlink:href=\"#DejaVuSans-30\"/>\n       <use x=\"286.279297\" xlink:href=\"#DejaVuSans-30\"/>\n       <use x=\"349.902344\" xlink:href=\"#DejaVuSans-30\"/>\n      </g>\n     </g>\n    </g>\n    <g id=\"ytick_2\">\n     <g id=\"line2d_8\">\n      <g>\n       <use style=\"stroke:#000000;stroke-width:0.8;\" x=\"69.23125\" xlink:href=\"#mb5f5880091\" y=\"186.533016\"/>\n      </g>\n     </g>\n     <g id=\"text_9\">\n      <!-- 0.00002 -->\n      <g transform=\"translate(20.878125 190.332235)scale(0.1 -0.1)\">\n       <use xlink:href=\"#DejaVuSans-30\"/>\n       <use x=\"63.623047\" xlink:href=\"#DejaVuSans-2e\"/>\n       <use x=\"95.410156\" xlink:href=\"#DejaVuSans-30\"/>\n       <use x=\"159.033203\" xlink:href=\"#DejaVuSans-30\"/>\n       <use x=\"222.65625\" xlink:href=\"#DejaVuSans-30\"/>\n       <use x=\"286.279297\" xlink:href=\"#DejaVuSans-30\"/>\n       <use x=\"349.902344\" xlink:href=\"#DejaVuSans-32\"/>\n      </g>\n     </g>\n    </g>\n    <g id=\"ytick_3\">\n     <g id=\"line2d_9\">\n      <g>\n       <use style=\"stroke:#000000;stroke-width:0.8;\" x=\"69.23125\" xlink:href=\"#mb5f5880091\" y=\"148.426033\"/>\n      </g>\n     </g>\n     <g id=\"text_10\">\n      <!-- 0.00004 -->\n      <g transform=\"translate(20.878125 152.225251)scale(0.1 -0.1)\">\n       <use xlink:href=\"#DejaVuSans-30\"/>\n       <use x=\"63.623047\" xlink:href=\"#DejaVuSans-2e\"/>\n       <use x=\"95.410156\" xlink:href=\"#DejaVuSans-30\"/>\n       <use x=\"159.033203\" xlink:href=\"#DejaVuSans-30\"/>\n       <use x=\"222.65625\" xlink:href=\"#DejaVuSans-30\"/>\n       <use x=\"286.279297\" xlink:href=\"#DejaVuSans-30\"/>\n       <use x=\"349.902344\" xlink:href=\"#DejaVuSans-34\"/>\n      </g>\n     </g>\n    </g>\n    <g id=\"ytick_4\">\n     <g id=\"line2d_10\">\n      <g>\n       <use style=\"stroke:#000000;stroke-width:0.8;\" x=\"69.23125\" xlink:href=\"#mb5f5880091\" y=\"110.319049\"/>\n      </g>\n     </g>\n     <g id=\"text_11\">\n      <!-- 0.00006 -->\n      <g transform=\"translate(20.878125 114.118268)scale(0.1 -0.1)\">\n       <use xlink:href=\"#DejaVuSans-30\"/>\n       <use x=\"63.623047\" xlink:href=\"#DejaVuSans-2e\"/>\n       <use x=\"95.410156\" xlink:href=\"#DejaVuSans-30\"/>\n       <use x=\"159.033203\" xlink:href=\"#DejaVuSans-30\"/>\n       <use x=\"222.65625\" xlink:href=\"#DejaVuSans-30\"/>\n       <use x=\"286.279297\" xlink:href=\"#DejaVuSans-30\"/>\n       <use x=\"349.902344\" xlink:href=\"#DejaVuSans-36\"/>\n      </g>\n     </g>\n    </g>\n    <g id=\"ytick_5\">\n     <g id=\"line2d_11\">\n      <g>\n       <use style=\"stroke:#000000;stroke-width:0.8;\" x=\"69.23125\" xlink:href=\"#mb5f5880091\" y=\"72.212065\"/>\n      </g>\n     </g>\n     <g id=\"text_12\">\n      <!-- 0.00008 -->\n      <g transform=\"translate(20.878125 76.011284)scale(0.1 -0.1)\">\n       <defs>\n        <path d=\"M 2034 2216 \nQ 1584 2216 1326 1975 \nQ 1069 1734 1069 1313 \nQ 1069 891 1326 650 \nQ 1584 409 2034 409 \nQ 2484 409 2743 651 \nQ 3003 894 3003 1313 \nQ 3003 1734 2745 1975 \nQ 2488 2216 2034 2216 \nz\nM 1403 2484 \nQ 997 2584 770 2862 \nQ 544 3141 544 3541 \nQ 544 4100 942 4425 \nQ 1341 4750 2034 4750 \nQ 2731 4750 3128 4425 \nQ 3525 4100 3525 3541 \nQ 3525 3141 3298 2862 \nQ 3072 2584 2669 2484 \nQ 3125 2378 3379 2068 \nQ 3634 1759 3634 1313 \nQ 3634 634 3220 271 \nQ 2806 -91 2034 -91 \nQ 1263 -91 848 271 \nQ 434 634 434 1313 \nQ 434 1759 690 2068 \nQ 947 2378 1403 2484 \nz\nM 1172 3481 \nQ 1172 3119 1398 2916 \nQ 1625 2713 2034 2713 \nQ 2441 2713 2670 2916 \nQ 2900 3119 2900 3481 \nQ 2900 3844 2670 4047 \nQ 2441 4250 2034 4250 \nQ 1625 4250 1398 4047 \nQ 1172 3844 1172 3481 \nz\n\" id=\"DejaVuSans-38\" transform=\"scale(0.015625)\"/>\n       </defs>\n       <use xlink:href=\"#DejaVuSans-30\"/>\n       <use x=\"63.623047\" xlink:href=\"#DejaVuSans-2e\"/>\n       <use x=\"95.410156\" xlink:href=\"#DejaVuSans-30\"/>\n       <use x=\"159.033203\" xlink:href=\"#DejaVuSans-30\"/>\n       <use x=\"222.65625\" xlink:href=\"#DejaVuSans-30\"/>\n       <use x=\"286.279297\" xlink:href=\"#DejaVuSans-30\"/>\n       <use x=\"349.902344\" xlink:href=\"#DejaVuSans-38\"/>\n      </g>\n     </g>\n    </g>\n    <g id=\"ytick_6\">\n     <g id=\"line2d_12\">\n      <g>\n       <use style=\"stroke:#000000;stroke-width:0.8;\" x=\"69.23125\" xlink:href=\"#mb5f5880091\" y=\"34.105082\"/>\n      </g>\n     </g>\n     <g id=\"text_13\">\n      <!-- 0.00010 -->\n      <g transform=\"translate(20.878125 37.9043)scale(0.1 -0.1)\">\n       <defs>\n        <path d=\"M 794 531 \nL 1825 531 \nL 1825 4091 \nL 703 3866 \nL 703 4441 \nL 1819 4666 \nL 2450 4666 \nL 2450 531 \nL 3481 531 \nL 3481 0 \nL 794 0 \nL 794 531 \nz\n\" id=\"DejaVuSans-31\" transform=\"scale(0.015625)\"/>\n       </defs>\n       <use xlink:href=\"#DejaVuSans-30\"/>\n       <use x=\"63.623047\" xlink:href=\"#DejaVuSans-2e\"/>\n       <use x=\"95.410156\" xlink:href=\"#DejaVuSans-30\"/>\n       <use x=\"159.033203\" xlink:href=\"#DejaVuSans-30\"/>\n       <use x=\"222.65625\" xlink:href=\"#DejaVuSans-30\"/>\n       <use x=\"286.279297\" xlink:href=\"#DejaVuSans-31\"/>\n       <use x=\"349.902344\" xlink:href=\"#DejaVuSans-30\"/>\n      </g>\n     </g>\n    </g>\n    <g id=\"text_14\">\n     <!-- Density -->\n     <g transform=\"translate(14.798437 134.928594)rotate(-90)scale(0.1 -0.1)\">\n      <defs>\n       <path d=\"M 1259 4147 \nL 1259 519 \nL 2022 519 \nQ 2988 519 3436 956 \nQ 3884 1394 3884 2338 \nQ 3884 3275 3436 3711 \nQ 2988 4147 2022 4147 \nL 1259 4147 \nz\nM 628 4666 \nL 1925 4666 \nQ 3281 4666 3915 4102 \nQ 4550 3538 4550 2338 \nQ 4550 1131 3912 565 \nQ 3275 0 1925 0 \nL 628 0 \nL 628 4666 \nz\n\" id=\"DejaVuSans-44\" transform=\"scale(0.015625)\"/>\n       <path d=\"M 2834 3397 \nL 2834 2853 \nQ 2591 2978 2328 3040 \nQ 2066 3103 1784 3103 \nQ 1356 3103 1142 2972 \nQ 928 2841 928 2578 \nQ 928 2378 1081 2264 \nQ 1234 2150 1697 2047 \nL 1894 2003 \nQ 2506 1872 2764 1633 \nQ 3022 1394 3022 966 \nQ 3022 478 2636 193 \nQ 2250 -91 1575 -91 \nQ 1294 -91 989 -36 \nQ 684 19 347 128 \nL 347 722 \nQ 666 556 975 473 \nQ 1284 391 1588 391 \nQ 1994 391 2212 530 \nQ 2431 669 2431 922 \nQ 2431 1156 2273 1281 \nQ 2116 1406 1581 1522 \nL 1381 1569 \nQ 847 1681 609 1914 \nQ 372 2147 372 2553 \nQ 372 3047 722 3315 \nQ 1072 3584 1716 3584 \nQ 2034 3584 2315 3537 \nQ 2597 3491 2834 3397 \nz\n\" id=\"DejaVuSans-73\" transform=\"scale(0.015625)\"/>\n       <path d=\"M 603 3500 \nL 1178 3500 \nL 1178 0 \nL 603 0 \nL 603 3500 \nz\nM 603 4863 \nL 1178 4863 \nL 1178 4134 \nL 603 4134 \nL 603 4863 \nz\n\" id=\"DejaVuSans-69\" transform=\"scale(0.015625)\"/>\n       <path d=\"M 2059 -325 \nQ 1816 -950 1584 -1140 \nQ 1353 -1331 966 -1331 \nL 506 -1331 \nL 506 -850 \nL 844 -850 \nQ 1081 -850 1212 -737 \nQ 1344 -625 1503 -206 \nL 1606 56 \nL 191 3500 \nL 800 3500 \nL 1894 763 \nL 2988 3500 \nL 3597 3500 \nL 2059 -325 \nz\n\" id=\"DejaVuSans-79\" transform=\"scale(0.015625)\"/>\n      </defs>\n      <use xlink:href=\"#DejaVuSans-44\"/>\n      <use x=\"77.001953\" xlink:href=\"#DejaVuSans-65\"/>\n      <use x=\"138.525391\" xlink:href=\"#DejaVuSans-6e\"/>\n      <use x=\"201.904297\" xlink:href=\"#DejaVuSans-73\"/>\n      <use x=\"254.003906\" xlink:href=\"#DejaVuSans-69\"/>\n      <use x=\"281.787109\" xlink:href=\"#DejaVuSans-74\"/>\n      <use x=\"320.996094\" xlink:href=\"#DejaVuSans-79\"/>\n     </g>\n    </g>\n   </g>\n   <g id=\"line2d_13\">\n    <path clip-path=\"url(#pc5b9076ee2)\" d=\"M 84.449432 224.635703 \nL 90.567294 224.50182 \nL 96.685156 224.256473 \nL 111.979811 224.639827 \nL 121.156604 224.562995 \nL 125.745001 224.239458 \nL 131.862863 223.733522 \nL 134.921794 223.810833 \nL 142.569121 224.556262 \nL 145.628052 224.582054 \nL 148.686983 224.39153 \nL 151.745914 223.849275 \nL 162.452173 221.005557 \nL 163.981638 220.342892 \nL 165.511104 219.412154 \nL 167.040569 218.099057 \nL 168.570035 216.268898 \nL 170.0995 213.787239 \nL 171.628966 210.541613 \nL 173.158431 206.452182 \nL 174.687897 201.476742 \nL 176.217362 195.609244 \nL 177.746828 188.839018 \nL 179.276293 181.049675 \nL 180.805759 171.933519 \nL 182.335224 161.068036 \nL 183.86469 148.191022 \nL 185.394155 133.484556 \nL 189.982552 85.781022 \nL 191.512017 71.189357 \nL 193.041483 58.18044 \nL 194.570948 47.392593 \nL 196.100414 39.648574 \nL 197.62988 35.801404 \nL 199.159345 36.44364 \nL 200.688811 41.617985 \nL 202.218276 50.675801 \nL 203.747742 62.379421 \nL 206.806673 87.902033 \nL 208.336138 99.578521 \nL 211.395069 119.976578 \nL 214.454 140.025415 \nL 217.512931 160.876019 \nL 219.042397 170.286867 \nL 220.571862 178.371861 \nL 222.101328 185.022328 \nL 223.630793 190.344231 \nL 225.160259 194.558341 \nL 226.689724 197.983634 \nL 231.278121 206.854993 \nL 232.807586 209.640578 \nL 234.337052 212.067378 \nL 235.866517 214.010759 \nL 237.395983 215.488141 \nL 238.925448 216.587614 \nL 240.454914 217.397334 \nL 246.572776 219.840487 \nL 249.631707 221.425923 \nL 251.161172 222.057152 \nL 252.690638 222.475993 \nL 254.220103 222.697979 \nL 257.279034 222.822022 \nL 271.044224 223.108056 \nL 274.103155 223.496942 \nL 280.221017 224.346429 \nL 283.279948 224.533098 \nL 286.338879 224.513451 \nL 292.456741 224.253138 \nL 297.045138 224.44453 \nL 301.633534 224.614774 \nL 307.751396 224.587712 \nL 310.810327 224.366608 \nL 313.869258 223.832721 \nL 316.928189 223.2784 \nL 318.457655 223.198015 \nL 319.98712 223.302428 \nL 327.634448 224.506762 \nL 332.222844 224.633029 \nL 365.871086 224.633697 \nL 370.459482 224.548121 \nL 378.10681 224.266146 \nL 388.813068 224.635703 \nL 388.813068 224.635703 \n\" style=\"fill:none;stroke:#1f77b4;stroke-linecap:square;stroke-width:1.5;\"/>\n   </g>\n   <g id=\"patch_53\">\n    <path d=\"M 69.23125 224.64 \nL 69.23125 7.2 \n\" style=\"fill:none;stroke:#000000;stroke-linecap:square;stroke-linejoin:miter;stroke-width:0.8;\"/>\n   </g>\n   <g id=\"patch_54\">\n    <path d=\"M 404.03125 224.64 \nL 404.03125 7.2 \n\" style=\"fill:none;stroke:#000000;stroke-linecap:square;stroke-linejoin:miter;stroke-width:0.8;\"/>\n   </g>\n   <g id=\"patch_55\">\n    <path d=\"M 69.23125 224.64 \nL 404.03125 224.64 \n\" style=\"fill:none;stroke:#000000;stroke-linecap:square;stroke-linejoin:miter;stroke-width:0.8;\"/>\n   </g>\n   <g id=\"patch_56\">\n    <path d=\"M 69.23125 7.2 \nL 404.03125 7.2 \n\" style=\"fill:none;stroke:#000000;stroke-linecap:square;stroke-linejoin:miter;stroke-width:0.8;\"/>\n   </g>\n  </g>\n </g>\n <defs>\n  <clipPath id=\"pc5b9076ee2\">\n   <rect height=\"217.44\" width=\"334.8\" x=\"69.23125\" y=\"7.2\"/>\n  </clipPath>\n </defs>\n</svg>\n",
      "image/png": "[encoded data removed]"
     },
     "metadata": {
      "needs_background": "light"
     }
    }
   ],
   "source": [
    "sns.distplot(y_valid-predictions)"
   ]
  },
  {
   "cell_type": "code",
   "execution_count": 172,
   "metadata": {},
   "outputs": [
    {
     "output_type": "stream",
     "name": "stdout",
     "text": [
      "Mean Absolute Error: 3696.927592157215\nMean Squared Error: 30394888.823689833\nRoot Mean Squared Error: 5513.155976724206\n"
     ]
    }
   ],
   "source": [
    "from sklearn import metrics\n",
    "\n",
    "print('Mean Absolute Error:', metrics.mean_absolute_error(y_valid, predictions))\n",
    "print('Mean Squared Error:', metrics.mean_squared_error(y_valid, predictions))\n",
    "print('Root Mean Squared Error:', np.sqrt(metrics.mean_squared_error(y_valid, predictions)))"
   ]
  },
  {
   "cell_type": "code",
   "execution_count": 176,
   "metadata": {},
   "outputs": [
    {
     "output_type": "stream",
     "name": "stdout",
     "text": [
      "Mean Absolute Error: 3697.8964913663017\nMean Squared Error: 30408374.386568803\nRoot Mean Squared Error: 5514.378875863428\n"
     ]
    }
   ],
   "source": [
    "\n",
    "print('Mean Absolute Error:', metrics.mean_absolute_error(y_valid, prediction))\n",
    "print('Mean Squared Error:', metrics.mean_squared_error(y_valid, prediction))\n",
    "print('Root Mean Squared Error:', np.sqrt(metrics.mean_squared_error(y_valid, prediction)))"
   ]
  },
  {
   "cell_type": "code",
   "execution_count": 55,
   "metadata": {},
   "outputs": [],
   "source": [
    "from sklearn.model_selection import cross_val_score,GridSearchCV,train_test_split\n",
    "from sklearn.linear_model import LinearRegression,ridge_regression,Ridge,Lasso\n",
    "parametrs={'alpha':[10^-3,10^-2,10^-1,1,5,6,7,10,12,15,20,25,30,35,45,56,67,78,90,100,105,110,115,120,130,140,150]}"
   ]
  },
  {
   "cell_type": "code",
   "execution_count": 63,
   "metadata": {},
   "outputs": [],
   "source": [
    "ridge_regression_op=Ridge()\n",
    "the_grid=GridSearchCV(ridge_regression_op,parametrs,cv=10,scoring='neg_mean_squared_error')\n",
    "the_grid.fit(x,y)\n",
    "the_ridge=the_grid.best_estimator_\n",
    "sq=the_grid.best_score_\n",
    "ridge_prediction=the_ridge.predict(x_valid)\n",
    "sns.distplot(y_valid-ridge_prediction)"
   ]
  },
  {
   "cell_type": "code",
   "execution_count": 71,
   "metadata": {},
   "outputs": [
    {
     "output_type": "stream",
     "name": "stderr",
     "text": [
      "/home/swaraj/.local/lib/python3.9/site-packages/sklearn/linear_model/_coordinate_descent.py:530: ConvergenceWarning: Objective did not converge. You might want to increase the number of iterations. Duality gap: 558153529351.0255, tolerance: 40100775.120994836\n",
      "  model = cd_fast.enet_coordinate_descent(\n",
      "/home/swaraj/.local/lib/python3.9/site-packages/sklearn/linear_model/_coordinate_descent.py:530: ConvergenceWarning: Objective did not converge. You might want to increase the number of iterations. Duality gap: 562969967444.1123, tolerance: 40620203.33907636\n",
      "  model = cd_fast.enet_coordinate_descent(\n",
      "/home/swaraj/.local/lib/python3.9/site-packages/sklearn/linear_model/_coordinate_descent.py:530: ConvergenceWarning: Objective did not converge. You might want to increase the number of iterations. Duality gap: 545949610156.8357, tolerance: 39306418.474427655\n",
      "  model = cd_fast.enet_coordinate_descent(\n",
      "/home/swaraj/.local/lib/python3.9/site-packages/sklearn/linear_model/_coordinate_descent.py:530: ConvergenceWarning: Objective did not converge. You might want to increase the number of iterations. Duality gap: 544266248233.6432, tolerance: 39430657.931282744\n",
      "  model = cd_fast.enet_coordinate_descent(\n",
      "/home/swaraj/.local/lib/python3.9/site-packages/sklearn/linear_model/_coordinate_descent.py:530: ConvergenceWarning: Objective did not converge. You might want to increase the number of iterations. Duality gap: 534791659145.89685, tolerance: 39291155.91779631\n",
      "  model = cd_fast.enet_coordinate_descent(\n",
      "/home/swaraj/.local/lib/python3.9/site-packages/sklearn/linear_model/_coordinate_descent.py:530: ConvergenceWarning: Objective did not converge. You might want to increase the number of iterations. Duality gap: 541547546767.9001, tolerance: 38845253.19819749\n",
      "  model = cd_fast.enet_coordinate_descent(\n",
      "/home/swaraj/.local/lib/python3.9/site-packages/sklearn/linear_model/_coordinate_descent.py:530: ConvergenceWarning: Objective did not converge. You might want to increase the number of iterations. Duality gap: 549582359187.7317, tolerance: 39827540.92234437\n",
      "  model = cd_fast.enet_coordinate_descent(\n",
      "/home/swaraj/.local/lib/python3.9/site-packages/sklearn/linear_model/_coordinate_descent.py:530: ConvergenceWarning: Objective did not converge. You might want to increase the number of iterations. Duality gap: 492040522426.7676, tolerance: 40583246.27101104\n",
      "  model = cd_fast.enet_coordinate_descent(\n",
      "/home/swaraj/.local/lib/python3.9/site-packages/sklearn/linear_model/_coordinate_descent.py:530: ConvergenceWarning: Objective did not converge. You might want to increase the number of iterations. Duality gap: 539878494829.77844, tolerance: 38749674.80821872\n",
      "  model = cd_fast.enet_coordinate_descent(\n",
      "/home/swaraj/.local/lib/python3.9/site-packages/sklearn/linear_model/_coordinate_descent.py:530: ConvergenceWarning: Objective did not converge. You might want to increase the number of iterations. Duality gap: 538537302855.74915, tolerance: 38866227.369930394\n",
      "  model = cd_fast.enet_coordinate_descent(\n",
      "/home/swaraj/.local/lib/python3.9/site-packages/sklearn/linear_model/_coordinate_descent.py:530: ConvergenceWarning: Objective did not converge. You might want to increase the number of iterations. Duality gap: 557909984455.2952, tolerance: 40100775.120994836\n",
      "  model = cd_fast.enet_coordinate_descent(\n",
      "/home/swaraj/.local/lib/python3.9/site-packages/sklearn/linear_model/_coordinate_descent.py:530: ConvergenceWarning: Objective did not converge. You might want to increase the number of iterations. Duality gap: 562723769915.4839, tolerance: 40620203.33907636\n",
      "  model = cd_fast.enet_coordinate_descent(\n",
      "/home/swaraj/.local/lib/python3.9/site-packages/sklearn/linear_model/_coordinate_descent.py:530: ConvergenceWarning: Objective did not converge. You might want to increase the number of iterations. Duality gap: 545708400116.62195, tolerance: 39306418.474427655\n",
      "  model = cd_fast.enet_coordinate_descent(\n",
      "/home/swaraj/.local/lib/python3.9/site-packages/sklearn/linear_model/_coordinate_descent.py:530: ConvergenceWarning: Objective did not converge. You might want to increase the number of iterations. Duality gap: 544022733793.42737, tolerance: 39430657.931282744\n",
      "  model = cd_fast.enet_coordinate_descent(\n",
      "/home/swaraj/.local/lib/python3.9/site-packages/sklearn/linear_model/_coordinate_descent.py:530: ConvergenceWarning: Objective did not converge. You might want to increase the number of iterations. Duality gap: 534541621958.0923, tolerance: 39291155.91779631\n",
      "  model = cd_fast.enet_coordinate_descent(\n",
      "/home/swaraj/.local/lib/python3.9/site-packages/sklearn/linear_model/_coordinate_descent.py:530: ConvergenceWarning: Objective did not converge. You might want to increase the number of iterations. Duality gap: 541306540882.0348, tolerance: 38845253.19819749\n",
      "  model = cd_fast.enet_coordinate_descent(\n",
      "/home/swaraj/.local/lib/python3.9/site-packages/sklearn/linear_model/_coordinate_descent.py:530: ConvergenceWarning: Objective did not converge. You might want to increase the number of iterations. Duality gap: 549337048822.09186, tolerance: 39827540.92234437\n",
      "  model = cd_fast.enet_coordinate_descent(\n",
      "/home/swaraj/.local/lib/python3.9/site-packages/sklearn/linear_model/_coordinate_descent.py:530: ConvergenceWarning: Objective did not converge. You might want to increase the number of iterations. Duality gap: 491733559899.21045, tolerance: 40583246.27101104\n",
      "  model = cd_fast.enet_coordinate_descent(\n",
      "/home/swaraj/.local/lib/python3.9/site-packages/sklearn/linear_model/_coordinate_descent.py:530: ConvergenceWarning: Objective did not converge. You might want to increase the number of iterations. Duality gap: 539639221024.6443, tolerance: 38749674.80821872\n",
      "  model = cd_fast.enet_coordinate_descent(\n",
      "/home/swaraj/.local/lib/python3.9/site-packages/sklearn/linear_model/_coordinate_descent.py:530: ConvergenceWarning: Objective did not converge. You might want to increase the number of iterations. Duality gap: 538293628213.4684, tolerance: 38866227.369930394\n",
      "  model = cd_fast.enet_coordinate_descent(\n",
      "/home/swaraj/.local/lib/python3.9/site-packages/sklearn/linear_model/_coordinate_descent.py:530: ConvergenceWarning: Objective did not converge. You might want to increase the number of iterations. Duality gap: 557991160949.0869, tolerance: 40100775.120994836\n",
      "  model = cd_fast.enet_coordinate_descent(\n",
      "/home/swaraj/.local/lib/python3.9/site-packages/sklearn/linear_model/_coordinate_descent.py:530: ConvergenceWarning: Objective did not converge. You might want to increase the number of iterations. Duality gap: 562805837019.3108, tolerance: 40620203.33907636\n",
      "  model = cd_fast.enet_coordinate_descent(\n",
      "/home/swaraj/.local/lib/python3.9/site-packages/sklearn/linear_model/_coordinate_descent.py:530: ConvergenceWarning: Objective did not converge. You might want to increase the number of iterations. Duality gap: 545788804629.28864, tolerance: 39306418.474427655\n",
      "  model = cd_fast.enet_coordinate_descent(\n",
      "/home/swaraj/.local/lib/python3.9/site-packages/sklearn/linear_model/_coordinate_descent.py:530: ConvergenceWarning: Objective did not converge. You might want to increase the number of iterations. Duality gap: 544103906695.3607, tolerance: 39430657.931282744\n",
      "  model = cd_fast.enet_coordinate_descent(\n",
      "/home/swaraj/.local/lib/python3.9/site-packages/sklearn/linear_model/_coordinate_descent.py:530: ConvergenceWarning: Objective did not converge. You might want to increase the number of iterations. Duality gap: 534624968609.578, tolerance: 39291155.91779631\n",
      "  model = cd_fast.enet_coordinate_descent(\n",
      "/home/swaraj/.local/lib/python3.9/site-packages/sklearn/linear_model/_coordinate_descent.py:530: ConvergenceWarning: Objective did not converge. You might want to increase the number of iterations. Duality gap: 541386876156.04846, tolerance: 38845253.19819749\n",
      "  model = cd_fast.enet_coordinate_descent(\n",
      "/home/swaraj/.local/lib/python3.9/site-packages/sklearn/linear_model/_coordinate_descent.py:530: ConvergenceWarning: Objective did not converge. You might want to increase the number of iterations. Duality gap: 549418815780.557, tolerance: 39827540.92234437\n",
      "  model = cd_fast.enet_coordinate_descent(\n",
      "/home/swaraj/.local/lib/python3.9/site-packages/sklearn/linear_model/_coordinate_descent.py:530: ConvergenceWarning: Objective did not converge. You might want to increase the number of iterations. Duality gap: 491835881021.82764, tolerance: 40583246.27101104\n",
      "  model = cd_fast.enet_coordinate_descent(\n",
      "/home/swaraj/.local/lib/python3.9/site-packages/sklearn/linear_model/_coordinate_descent.py:530: ConvergenceWarning: Objective did not converge. You might want to increase the number of iterations. Duality gap: 539718971045.9283, tolerance: 38749674.80821872\n",
      "  model = cd_fast.enet_coordinate_descent(\n",
      "/home/swaraj/.local/lib/python3.9/site-packages/sklearn/linear_model/_coordinate_descent.py:530: ConvergenceWarning: Objective did not converge. You might want to increase the number of iterations. Duality gap: 538374853094.19415, tolerance: 38866227.369930394\n",
      "  model = cd_fast.enet_coordinate_descent(\n"
     ]
    }
   ],
   "source": [
    "lasso_regression_op=Lasso()\n",
    "the_grid_lasso=GridSearchCV(lasso_regression_op,parametrs,cv=10,scoring='neg_mean_squared_error')\n",
    "the_grid_lasso.fit(x,y)\n",
    "the_lasso=the_grid_lasso.best_estimator_\n",
    "sq=the_grid_lasso.best_score_\n",
    "theprediction_lasso=the_lasso.predict(x_valid)\n",
    "sns.distplot(y_valid-theprediction_lasso)"
   ]
  },
  {
   "cell_type": "code",
   "execution_count": 78,
   "metadata": {},
   "outputs": [],
   "source": [
    "dat=[x,y]\n",
    "z=pd.concat(dat)"
   ]
  },
  {
   "cell_type": "code",
   "execution_count": 82,
   "metadata": {},
   "outputs": [],
   "source": [
    "df_good=df[['location','Area Sq.ft','bhk','bath_clean','dates','Title_modify']]"
   ]
  },
  {
   "cell_type": "code",
   "execution_count": 92,
   "metadata": {},
   "outputs": [
    {
     "output_type": "stream",
     "name": "stdout",
     "text": [
      " random_forest_rental_estimitor.pkl\t the_the_lasso_rent_estimator.pkl\n'rental call.ipynb'\t\t\t the_the_ridge_rent_estimator\n the_good_modified_dataset_of_rent.csv\t the_the_ridge_rent_estimator.pkl\n the_the_lasso_rent_estimator\n"
     ]
    }
   ],
   "source": [
    "!ls"
   ]
  },
  {
   "cell_type": "code",
   "execution_count": 86,
   "metadata": {},
   "outputs": [],
   "source": [
    "df_good.to_csv('/run/media/swaraj/volume y/code/work/working/rent_estimetoer/the_good_modified_dataset_of_rent.csv')"
   ]
  },
  {
   "cell_type": "code",
   "execution_count": 91,
   "metadata": {},
   "outputs": [],
   "source": [
    "import pickle\n",
    "filename = 'finalized_model.sav'\n",
    "pickle.dump(the_lasso, open('/run/media/swaraj/volume y/code/work/working/rent_estimetoer/the_the_lasso_rent_estimator.pkl', 'wb'))\n",
    "pickle.dump(the_ridge, open('/run/media/swaraj/volume y/code/work/working/rent_estimetoer/the_the_ridge_rent_estimator.pkl', 'wb'))"
   ]
  },
  {
   "cell_type": "code",
   "execution_count": 100,
   "metadata": {},
   "outputs": [
    {
     "output_type": "execute_result",
     "data": {
      "text/plain": [
       "array([' Mahalunge', ' B.T Kawade Road', ' Vijay Nagar', ...,\n",
       "       ' Khadki, Aundh Road', ' Bhairavnath Mandir Kasba Peth',\n",
       "       ' Hingane Home Colony'], dtype=object)"
      ]
     },
     "metadata": {},
     "execution_count": 100
    }
   ],
   "source": [
    "df_good.Title_modify.unique()"
   ]
  },
  {
   "source": [
    "##https://towardsdatascience.com/ai-and-real-state-renting-in-amsterdam-part-1-5fce18238dbc"
   ],
   "cell_type": "markdown",
   "metadata": {}
  },
  {
   "cell_type": "code",
   "execution_count": 102,
   "metadata": {},
   "outputs": [
    {
     "output_type": "execute_result",
     "data": {
      "text/plain": [
       "array(['Saarthi Soverign', 'Maruti Enclave, Tara Dutta Colony',\n",
       "       'Jeveen Anand', ..., 'Kalpa Vruksha', 'Grafikon Niwas',\n",
       "       'Mayureshwara Heights'], dtype=object)"
      ]
     },
     "metadata": {},
     "execution_count": 102
    }
   ],
   "source": [
    "df_good.location.unique()"
   ]
  }
 ]
}